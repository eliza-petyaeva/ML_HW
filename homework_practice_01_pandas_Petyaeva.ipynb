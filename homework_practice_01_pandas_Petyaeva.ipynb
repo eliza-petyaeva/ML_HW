{
 "cells": [
  {
   "cell_type": "markdown",
   "metadata": {
    "id": "HcF9My_FhLuk"
   },
   "source": [
    "## Машинное обучение 1, ПМИ ФКН ВШЭ\n",
    "\n",
    "## Практическое домашнее задание 1\n",
    "\n",
    "### Общая информация\n",
    "\n",
    "Дата выдачи: 11.09.2021\n",
    "\n",
    "Мягкий дедлайн: 23:59MSK 25.09.2021\n",
    "\n",
    "Жесткий дедлайн: 23:59MSK 28.09.2021"
   ]
  },
  {
   "cell_type": "markdown",
   "metadata": {
    "id": "G64TptyJhLuo"
   },
   "source": [
    "### О задании\n",
    "\n",
    "Задание состоит из двух разделов, посвященных работе с табличными данными с помощью библиотеки pandas и визуализации с помощью matplotlib. В первом разделе вам предстоит выполнить базовые задания с помощью вышеуказанных библиотек, а во втором распределить студентов по курсам. Баллы даются за выполнение отдельных пунктов. Задачи в рамках одного раздела рекомендуется решать в том порядке, в котором они даны в задании.\n",
    "\n",
    "Задание направлено на освоение jupyter notebook (будет использоваться в дальнейших заданиях), библиотек pandas и matplotlib.\n",
    "\n",
    "### Оценивание и штрафы\n",
    "Каждая из задач имеет определенную «стоимость» (указана в скобках около задачи). Максимально допустимая оценка за работу — 10 баллов.\n",
    "\n",
    "Сдавать задание после жёсткого дедлайна нельзя. При выставлении неполного балла за задание в связи с наличием ошибок на усмотрение проверяющего предусмотрена возможность исправить работу на указанных в ответном письме условиях.\n",
    "\n",
    "Задание выполняется самостоятельно. «Похожие» решения считаются плагиатом и все задействованные студенты (в том числе те, у кого списали) не могут получить за него больше 0 баллов (подробнее о плагиате см. на странице курса). Если вы нашли решение какого-то из заданий (или его часть) в открытом источнике, необходимо указать ссылку на этот источник (скорее всего вы будете не единственным, кто это нашел, поэтому чтобы исключить подозрение в плагиате, необходима ссылка на источник).\n",
    "\n",
    "### Формат сдачи\n",
    "Задания сдаются через систему Anytask. Инвайт можно получить у семинариста или ассистента. Присылать необходимо ноутбук с выполненным заданием. Сам ноутбук называйте в формате homework-practice-01-pandas-Username.ipynb, где Username — ваша фамилия.\n",
    "\n",
    "Для удобства проверки самостоятельно посчитайте свою максимальную оценку (исходя из набора решенных задач) и укажите ниже.\n",
    "\n",
    "Оценка: xx."
   ]
  },
  {
   "cell_type": "markdown",
   "metadata": {
    "id": "BaXlfHE_hLup"
   },
   "source": [
    "## 0. Введение"
   ]
  },
  {
   "cell_type": "markdown",
   "metadata": {
    "id": "wirAvJNxhLup"
   },
   "source": [
    "Сейчас мы находимся в jupyter-ноутбуке (или ipython-ноутбуке). Это удобная среда для написания кода, проведения экспериментов, изучения данных, построения визуализаций и других нужд, не связанных с написанием production-кода. \n",
    "\n",
    "Ноутбук состоит из ячеек, каждая из которых может быть либо ячейкой с кодом, либо ячейкой с текстом размеченным и неразмеченным. Текст поддерживает markdown-разметку и формулы в Latex.\n",
    "\n",
    "Для работы с содержимым ячейки используется *режим редактирования* (*Edit mode*, включается нажатием клавиши **Enter** после выбора ячейки), а для навигации между ячейками искользуется *командный режим* (*Command mode*, включается нажатием клавиши **Esc**). Тип ячейки можно задать в командном режиме либо с помощью горячих клавиш (**y** to code, **m** to markdown, **r** to edit raw text), либо в меню *Cell -> Cell type*. \n",
    "\n",
    "После заполнения ячейки нужно нажать *Shift + Enter*, эта команда обработает содержимое ячейки: проинтерпретирует код или сверстает размеченный текст."
   ]
  },
  {
   "cell_type": "code",
   "execution_count": 1,
   "metadata": {
    "id": "aQ2_j3nkhLuq"
   },
   "outputs": [
    {
     "data": {
      "text/plain": [
       "4"
      ]
     },
     "execution_count": 1,
     "metadata": {},
     "output_type": "execute_result"
    }
   ],
   "source": [
    "# ячейка с кодом, при выполнении которой появится output\n",
    "2 + 2\n"
   ]
  },
  {
   "cell_type": "markdown",
   "metadata": {
    "id": "ZlulCwVKhLur"
   },
   "source": [
    "Ячейка с неразмеченыным текстом."
   ]
  },
  {
   "cell_type": "markdown",
   "metadata": {
    "id": "A4wkVlIehLur"
   },
   "source": [
    "Попробуйте создать свои ячейки, написать какой-нибудь код и текст какой-нибудь формулой."
   ]
  },
  {
   "cell_type": "code",
   "execution_count": 2,
   "metadata": {
    "id": "BIuaYSvqhLus"
   },
   "outputs": [
    {
     "data": {
      "text/plain": [
       "'# your code у меня плохо с фантазией'"
      ]
     },
     "execution_count": 2,
     "metadata": {},
     "output_type": "execute_result"
    }
   ],
   "source": [
    "'# your code' + ' у меня плохо с фантазией'"
   ]
  },
  {
   "cell_type": "markdown",
   "metadata": {
    "id": "iWs6ljrIhLus"
   },
   "source": [
    "[Здесь](https://athena.brynmawr.edu/jupyter/hub/dblank/public/Jupyter%20Notebook%20Users%20Manual.ipynb) находится <s>не</s>большая заметка о используемом языке разметки Markdown. Он позволяет:\n",
    "\n",
    "0. Составлять упорядоченные списки\n",
    "1. Выделять *текст* <s>при</s> **необходимости**\n",
    "2. Добавлять [ссылки](http://imgs.xkcd.com/comics/the_universal_label.png)\n",
    "\n",
    "\n",
    "* Составлять неупорядоченные списки\n",
    "\n",
    "Делать вставки с помощью LaTex:\n",
    "    \n",
    "$\n",
    "\\left\\{\n",
    "\\begin{array}{ll}\n",
    "x = 16 \\sin^3 (t) \\\\ \n",
    "y = 13 \\cos (t) - 5 \\cos (2t) - 2 \\cos (3t) - \\cos (4t) \\\\\n",
    "t \\in [0, 2 \\pi]\n",
    "\\end{array}\n",
    "\\right.$"
   ]
  },
  {
   "cell_type": "markdown",
   "metadata": {
    "id": "6fmTGcXOhLus"
   },
   "source": [
    "А ещё можно вставлять картинки, или гифки, или что захотите:\n",
    "\n",
    "<img src=\"https://media1.tenor.com/images/9b8fbe9214504bcf6c60fe4e4f7e114e/tenor.gif?itemid=5416416\" style=\"width: 400px\">"
   ]
  },
  {
   "cell_type": "markdown",
   "metadata": {
    "id": "J_toGw7DhLut"
   },
   "source": [
    "### Google Colab"
   ]
  },
  {
   "cell_type": "markdown",
   "metadata": {
    "id": "jpkbCVjGhLut"
   },
   "source": [
    "Что за колаб? \n",
    "\n",
    "**Google Colab (Colaboratory)** это **Jupyter Notebook + Cloud + Google Drive.**\n",
    "\n",
    "Компания Google предоставляет возможность бесплатно запускать ноутбуки (предварительно загрузив их на свой гугл-диск) прямо в облаке. При этом вам не требуется установка никаких пакетов на свою машину, а работать можно прямиком из браузера. Вот ссылка:"
   ]
  },
  {
   "cell_type": "markdown",
   "metadata": {
    "id": "06MQog3yhLut"
   },
   "source": [
    "https://colab.research.google.com"
   ]
  },
  {
   "cell_type": "markdown",
   "metadata": {
    "id": "5_hfWXKPhLut"
   },
   "source": [
    "При использовании вы увидете много сходств с jupyter ноутбуком. Одним из преимуществ является доступность GPU, соответствующую опцию можно активировать в настройках сервиса. При желании вы сможете найти в интернете много туториалов по использованию или разобраться самостоятельно =)"
   ]
  },
  {
   "cell_type": "markdown",
   "metadata": {
    "id": "sUe2vnFGhLuu"
   },
   "source": [
    "## 1. Табличные данные и Pandas"
   ]
  },
  {
   "cell_type": "markdown",
   "metadata": {
    "id": "DJQzjjqJhLuu"
   },
   "source": [
    "Pandas — удобная библиотека для работы с табличными данными в Python, если данных не слишком много и они помещаются в оперативную память вашего компьютера. Несмотря на неэффективность реализации и некоторые проблемы, библиотека стала стандартом в анализе данных.\n",
    "\n",
    "Основной объект в pandas — это DataFrame, представляющий собой таблицу с именованными колонками различных типов, индексом (может быть многоуровневым). DataFrame можно создавать, считывая таблицу из файла или задавая вручную из других объектов.\n",
    "\n",
    "В этой части потребуется выполнить несколько небольших заданий. Можно пойти двумя путями: сначала изучить материалы, а потом приступить к заданиям, или же разбираться \"по ходу\". Выбирайте сами.\n",
    "\n",
    "Материалы:\n",
    "1. [Pandas за 10 минут из официального руководства](http://pandas.pydata.org/pandas-docs/stable/10min.html)\n",
    "2. [Документация](http://pandas.pydata.org/pandas-docs/stable/index.html) (стоит обращаться, если не понятно, как вызывать конкретный метод)\n",
    "3. [Примеры использования функционала](http://nbviewer.jupyter.org/github/justmarkham/pandas-videos/blob/master/pandas.ipynb)\n",
    "\n",
    "Многие из заданий можно выполнить несколькими способами. Не существуют единственно верного, но попробуйте максимально задействовать арсенал pandas и ориентируйтесь на простоту и понятность вашего кода. Мы не будем подсказывать, что нужно использовать для решения конкретной задачи, попробуйте находить необходимый функционал сами (название метода чаще всего очевидно). В помощь вам документация, поиск и stackoverflow."
   ]
  },
  {
   "cell_type": "code",
   "execution_count": 3,
   "metadata": {
    "id": "26zbFY25hLuv",
    "outputId": "404c22c6-2696-48ab-c71e-7a3ffbc36b18"
   },
   "outputs": [
    {
     "name": "stdout",
     "output_type": "stream",
     "text": [
      "Populating the interactive namespace from numpy and matplotlib\n"
     ]
    }
   ],
   "source": [
    "%pylab inline\n",
    "import pandas as pd"
   ]
  },
  {
   "cell_type": "markdown",
   "metadata": {
    "id": "dneJl9TyhLuv"
   },
   "source": [
    "Скачаем данные:"
   ]
  },
  {
   "cell_type": "code",
   "execution_count": 4,
   "metadata": {
    "id": "rj_I0RslhLuw"
   },
   "outputs": [],
   "source": [
    "!wget  -O 'end_seminar.xlsx' -q 'https://www.dropbox.com/s/f4rm8sjc3v99p0m/_end_seminar.xlsx?dl=0'"
   ]
  },
  {
   "cell_type": "markdown",
   "metadata": {
    "id": "5hp7bn_ThLuw"
   },
   "source": [
    "Для пользователей Windows: скачайте файл самостоятельно и поместите его в папку с тетрадкой. Или попробуйте один из следующих вариантов:"
   ]
  },
  {
   "cell_type": "code",
   "execution_count": 5,
   "metadata": {
    "id": "4h4_BaX8hLuw"
   },
   "outputs": [],
   "source": [
    "# !powershell iwr -outf somefile https://somesite/somefile"
   ]
  },
  {
   "cell_type": "code",
   "execution_count": 6,
   "metadata": {
    "id": "7bHroLGChLuw"
   },
   "outputs": [],
   "source": [
    "# !pip install wget\n",
    "# import wget \n",
    "# wget.download('https://dropbox.com/s/f4rm8sjc3v99p0m/_end_seminar.xlsx?dl=1', 'end_seminar.xlsx')"
   ]
  },
  {
   "cell_type": "markdown",
   "metadata": {
    "id": "VFs_6IythLux"
   },
   "source": [
    "##### В первой части задания (до раздела \"Распределение студентов по курсам\") использование циклов запрещается и повлечет за собой снижение оценки. Использование <code>vectorize</code> и  <code>apply</code>, <code>apply_along_axis</code> крайне нежелательно."
   ]
  },
  {
   "cell_type": "markdown",
   "metadata": {
    "id": "shFkfJkohLux"
   },
   "source": [
    "Для каждой задачи из этого раздела вы должны написать код для получения ответа, а также дать текстовый ответ, если он предполагается.\n",
    "\n",
    "На некоторые вопросы вы можете получить путём пристального взгляда на таблицу, но это не будет засчитываться. Вы в любом случае должны получить ответ с помощью кода."
   ]
  },
  {
   "cell_type": "markdown",
   "metadata": {
    "id": "gDD85M7bhLux"
   },
   "source": [
    "#### 1. [0 баллов] Откройте файл с таблицей (не забудьте про её формат). Выведите последние 10 строк.\n",
    "\n",
    "Посмотрите на данные и скажите, что они из себя представляют, сколько в таблице строк, какие столбцы? (на это не надо отвечать, просто подумайте об этом)"
   ]
  },
  {
   "cell_type": "code",
   "execution_count": 7,
   "metadata": {},
   "outputs": [
    {
     "name": "stdout",
     "output_type": "stream",
     "text": [
      "\u001b[33mWARNING: Value for scheme.headers does not match. Please report this to <https://github.com/pypa/pip/issues/9617>\n",
      "distutils: /Library/Frameworks/Python.framework/Versions/3.9/include/python3.9/UNKNOWN\n",
      "sysconfig: /Library/Frameworks/Python.framework/Versions/3.9/include/python3.9\u001b[0m\n",
      "\u001b[33mWARNING: Additional context:\n",
      "user = False\n",
      "home = None\n",
      "root = None\n",
      "prefix = None\u001b[0m\n",
      "Requirement already satisfied: xlrd in /Library/Frameworks/Python.framework/Versions/3.9/lib/python3.9/site-packages (2.0.1)\n",
      "\u001b[33mWARNING: Value for scheme.headers does not match. Please report this to <https://github.com/pypa/pip/issues/9617>\n",
      "distutils: /Library/Frameworks/Python.framework/Versions/3.9/include/python3.9/UNKNOWN\n",
      "sysconfig: /Library/Frameworks/Python.framework/Versions/3.9/include/python3.9\u001b[0m\n",
      "\u001b[33mWARNING: Additional context:\n",
      "user = False\n",
      "home = None\n",
      "root = None\n",
      "prefix = None\u001b[0m\n",
      "\u001b[33mWARNING: You are using pip version 21.1; however, version 21.2.4 is available.\n",
      "You should consider upgrading via the '/Library/Frameworks/Python.framework/Versions/3.9/bin/python3.9 -m pip install --upgrade pip' command.\u001b[0m\n",
      "\u001b[33mWARNING: Value for scheme.headers does not match. Please report this to <https://github.com/pypa/pip/issues/9617>\n",
      "distutils: /Library/Frameworks/Python.framework/Versions/3.9/include/python3.9/UNKNOWN\n",
      "sysconfig: /Library/Frameworks/Python.framework/Versions/3.9/include/python3.9\u001b[0m\n",
      "\u001b[33mWARNING: Additional context:\n",
      "user = False\n",
      "home = None\n",
      "root = None\n",
      "prefix = None\u001b[0m\n",
      "Requirement already satisfied: openpyxl in /Library/Frameworks/Python.framework/Versions/3.9/lib/python3.9/site-packages (3.0.8)\n",
      "Requirement already satisfied: et-xmlfile in /Library/Frameworks/Python.framework/Versions/3.9/lib/python3.9/site-packages (from openpyxl) (1.1.0)\n",
      "\u001b[33mWARNING: Value for scheme.headers does not match. Please report this to <https://github.com/pypa/pip/issues/9617>\n",
      "distutils: /Library/Frameworks/Python.framework/Versions/3.9/include/python3.9/UNKNOWN\n",
      "sysconfig: /Library/Frameworks/Python.framework/Versions/3.9/include/python3.9\u001b[0m\n",
      "\u001b[33mWARNING: Additional context:\n",
      "user = False\n",
      "home = None\n",
      "root = None\n",
      "prefix = None\u001b[0m\n",
      "\u001b[33mWARNING: You are using pip version 21.1; however, version 21.2.4 is available.\n",
      "You should consider upgrading via the '/Library/Frameworks/Python.framework/Versions/3.9/bin/python3.9 -m pip install --upgrade pip' command.\u001b[0m\n"
     ]
    }
   ],
   "source": [
    "!pip install xlrd\n",
    "!pip install openpyxl"
   ]
  },
  {
   "cell_type": "code",
   "execution_count": 8,
   "metadata": {
    "id": "PKulur3LhLuy"
   },
   "outputs": [],
   "source": [
    "df = pd.read_excel('end_seminar.xlsx', engine='openpyxl')"
   ]
  },
  {
   "cell_type": "code",
   "execution_count": 9,
   "metadata": {},
   "outputs": [
    {
     "data": {
      "text/html": [
       "<div>\n",
       "<style scoped>\n",
       "    .dataframe tbody tr th:only-of-type {\n",
       "        vertical-align: middle;\n",
       "    }\n",
       "\n",
       "    .dataframe tbody tr th {\n",
       "        vertical-align: top;\n",
       "    }\n",
       "\n",
       "    .dataframe thead th {\n",
       "        text-align: right;\n",
       "    }\n",
       "</style>\n",
       "<table border=\"1\" class=\"dataframe\">\n",
       "  <thead>\n",
       "    <tr style=\"text-align: right;\">\n",
       "      <th></th>\n",
       "      <th>timestamp</th>\n",
       "      <th>id</th>\n",
       "      <th>rating</th>\n",
       "      <th>18_group</th>\n",
       "      <th>is_mi</th>\n",
       "      <th>fall_1</th>\n",
       "      <th>fall_2</th>\n",
       "      <th>fall_3</th>\n",
       "      <th>spring_1</th>\n",
       "      <th>spring_2</th>\n",
       "      <th>spring_3</th>\n",
       "      <th>is_first_time</th>\n",
       "      <th>percentile</th>\n",
       "      <th>17_group</th>\n",
       "      <th>blended</th>\n",
       "      <th>is_ml_student</th>\n",
       "    </tr>\n",
       "  </thead>\n",
       "  <tbody>\n",
       "    <tr>\n",
       "      <th>351</th>\n",
       "      <td>2020-05-18 23:58:33.903</td>\n",
       "      <td>8fe79f84f36e3a5d2d6745621321302c</td>\n",
       "      <td>1016</td>\n",
       "      <td>NaN</td>\n",
       "      <td>NaN</td>\n",
       "      <td>Безопасность компьютерных систем</td>\n",
       "      <td>Высокопроизводительные вычисления</td>\n",
       "      <td>Сбор и обработка данных с помощью краудсорсинга</td>\n",
       "      <td>Конфликты и кооперация</td>\n",
       "      <td>Проектирование и разработка высоконагруженных ...</td>\n",
       "      <td>Символьные вычисления</td>\n",
       "      <td>Да</td>\n",
       "      <td>0.942029</td>\n",
       "      <td>174.0</td>\n",
       "      <td>DevOps</td>\n",
       "      <td>NaN</td>\n",
       "    </tr>\n",
       "    <tr>\n",
       "      <th>352</th>\n",
       "      <td>2020-05-18 23:59:20.831</td>\n",
       "      <td>f93afd8e92c336b471aa3bbbc579aefe</td>\n",
       "      <td>1298</td>\n",
       "      <td>NaN</td>\n",
       "      <td>NaN</td>\n",
       "      <td>Высокопроизводительные вычисления</td>\n",
       "      <td>Сбор и обработка данных с помощью краудсорсинга</td>\n",
       "      <td>Statistical Learning Theory</td>\n",
       "      <td>Методы сжатия и передачи медиаданных</td>\n",
       "      <td>Проектирование и разработка высоконагруженных ...</td>\n",
       "      <td>Конфликты и кооперация</td>\n",
       "      <td>Да</td>\n",
       "      <td>0.057971</td>\n",
       "      <td>175.0</td>\n",
       "      <td>DevOps</td>\n",
       "      <td>NaN</td>\n",
       "    </tr>\n",
       "    <tr>\n",
       "      <th>353</th>\n",
       "      <td>2020-05-18 23:59:28.998</td>\n",
       "      <td>9963fc00d9405a35b894cc04a7e19855</td>\n",
       "      <td>1135</td>\n",
       "      <td>NaN</td>\n",
       "      <td>NaN</td>\n",
       "      <td>Безопасность компьютерных систем</td>\n",
       "      <td>Высокопроизводительные вычисления</td>\n",
       "      <td>Безопасность компьютерных систем</td>\n",
       "      <td>Проектирование и разработка высоконагруженных ...</td>\n",
       "      <td>Методы сжатия и передачи медиаданных</td>\n",
       "      <td>Символьные вычисления</td>\n",
       "      <td>Да</td>\n",
       "      <td>0.572464</td>\n",
       "      <td>175.0</td>\n",
       "      <td>DevOps</td>\n",
       "      <td>NaN</td>\n",
       "    </tr>\n",
       "    <tr>\n",
       "      <th>354</th>\n",
       "      <td>2020-05-19 08:55:39.509</td>\n",
       "      <td>98c5a2548d93f26bd4195466e93178b3</td>\n",
       "      <td>1035</td>\n",
       "      <td>NaN</td>\n",
       "      <td>NaN</td>\n",
       "      <td>Байесовские методы машинного обучения</td>\n",
       "      <td>Глубинное обучение в обработке звука</td>\n",
       "      <td>Statistical Learning Theory</td>\n",
       "      <td>Обучение с подкреплением</td>\n",
       "      <td>Генеративные модели в машинном обучении</td>\n",
       "      <td>Методы сжатия и передачи медиаданных</td>\n",
       "      <td>Нет</td>\n",
       "      <td>0.905797</td>\n",
       "      <td>171.0</td>\n",
       "      <td>DevOps</td>\n",
       "      <td>NaN</td>\n",
       "    </tr>\n",
       "    <tr>\n",
       "      <th>355</th>\n",
       "      <td>2020-05-19 18:58:06.283</td>\n",
       "      <td>ba298cbd9be59b84bab33325e956f27e</td>\n",
       "      <td>1155</td>\n",
       "      <td>NaN</td>\n",
       "      <td>NaN</td>\n",
       "      <td>Сбор и обработка данных с помощью краудсорсинга</td>\n",
       "      <td>Байесовские методы машинного обучения</td>\n",
       "      <td>Анализ неструктурированных данных</td>\n",
       "      <td>Конфликты и кооперация</td>\n",
       "      <td>Обучение с подкреплением</td>\n",
       "      <td>Компьютерное зрение</td>\n",
       "      <td>Да</td>\n",
       "      <td>0.507246</td>\n",
       "      <td>171.0</td>\n",
       "      <td>Соревновательный анализ данных</td>\n",
       "      <td>NaN</td>\n",
       "    </tr>\n",
       "    <tr>\n",
       "      <th>356</th>\n",
       "      <td>2020-05-19 19:04:17.873</td>\n",
       "      <td>c5870b37ee3f672e4259dfb2fc02ed8f</td>\n",
       "      <td>1029</td>\n",
       "      <td>NaN</td>\n",
       "      <td>NaN</td>\n",
       "      <td>Statistical Learning Theory</td>\n",
       "      <td>Анализ неструктурированных данных</td>\n",
       "      <td>Сбор и обработка данных с помощью краудсорсинга</td>\n",
       "      <td>Обучение с подкреплением</td>\n",
       "      <td>Конфликты и кооперация</td>\n",
       "      <td>Компьютерное зрение</td>\n",
       "      <td>Да</td>\n",
       "      <td>0.920290</td>\n",
       "      <td>174.0</td>\n",
       "      <td>DevOps</td>\n",
       "      <td>NaN</td>\n",
       "    </tr>\n",
       "    <tr>\n",
       "      <th>357</th>\n",
       "      <td>2020-05-19 20:19:25.815</td>\n",
       "      <td>f44aea1095f9f5b8e2f5f0ed2b17891b</td>\n",
       "      <td>1060</td>\n",
       "      <td>NaN</td>\n",
       "      <td>NaN</td>\n",
       "      <td>Анализ неструктурированных данных</td>\n",
       "      <td>Высокопроизводительные вычисления</td>\n",
       "      <td>Моделирование временных рядов</td>\n",
       "      <td>Конфликты и кооперация</td>\n",
       "      <td>Обучение с подкреплением</td>\n",
       "      <td>Численные методы</td>\n",
       "      <td>Да</td>\n",
       "      <td>0.840580</td>\n",
       "      <td>174.0</td>\n",
       "      <td>DevOps</td>\n",
       "      <td>NaN</td>\n",
       "    </tr>\n",
       "    <tr>\n",
       "      <th>358</th>\n",
       "      <td>2020-05-20 11:54:38.318</td>\n",
       "      <td>d7118b44c7e8fdbbaaca226d2da6fef1</td>\n",
       "      <td>1111</td>\n",
       "      <td>NaN</td>\n",
       "      <td>NaN</td>\n",
       "      <td>Сбор и обработка данных с помощью краудсорсинга</td>\n",
       "      <td>Statistical Learning Theory</td>\n",
       "      <td>Анализ неструктурированных данных</td>\n",
       "      <td>Проектирование и разработка высоконагруженных ...</td>\n",
       "      <td>Методы сжатия и передачи медиаданных</td>\n",
       "      <td>Численные методы</td>\n",
       "      <td>Да</td>\n",
       "      <td>0.652174</td>\n",
       "      <td>173.0</td>\n",
       "      <td>Соревновательный анализ данных</td>\n",
       "      <td>NaN</td>\n",
       "    </tr>\n",
       "    <tr>\n",
       "      <th>359</th>\n",
       "      <td>2020-05-23 21:16:40.916</td>\n",
       "      <td>79d14db48e4737af731960ae212d5134</td>\n",
       "      <td>966</td>\n",
       "      <td>NaN</td>\n",
       "      <td>NaN</td>\n",
       "      <td>Безопасность компьютерных систем</td>\n",
       "      <td>Принятие решений в условиях риска и неопределё...</td>\n",
       "      <td>Анализ неструктурированных данных</td>\n",
       "      <td>Проектирование и разработка высоконагруженных ...</td>\n",
       "      <td>Методы сжатия и передачи медиаданных</td>\n",
       "      <td>Компьютерное зрение</td>\n",
       "      <td>Да</td>\n",
       "      <td>0.985507</td>\n",
       "      <td>172.0</td>\n",
       "      <td>DevOps</td>\n",
       "      <td>NaN</td>\n",
       "    </tr>\n",
       "    <tr>\n",
       "      <th>360</th>\n",
       "      <td>2020-05-23 21:16:40.916</td>\n",
       "      <td>f2d210ace25a841e1e58036b257d5d47</td>\n",
       "      <td>1195</td>\n",
       "      <td>NaN</td>\n",
       "      <td>NaN</td>\n",
       "      <td>Анализ неструктурированных данных</td>\n",
       "      <td>Моделирование временных рядов</td>\n",
       "      <td>Высокопроизводительные вычисления</td>\n",
       "      <td>Обучение с подкреплением</td>\n",
       "      <td>Компьютерное зрение</td>\n",
       "      <td>Методы сжатия и передачи медиаданных</td>\n",
       "      <td>NaN</td>\n",
       "      <td>0.369565</td>\n",
       "      <td>176.0</td>\n",
       "      <td>Соревновательный анализ данных</td>\n",
       "      <td>NaN</td>\n",
       "    </tr>\n",
       "  </tbody>\n",
       "</table>\n",
       "</div>"
      ],
      "text/plain": [
       "                  timestamp                                id  rating  \\\n",
       "351 2020-05-18 23:58:33.903  8fe79f84f36e3a5d2d6745621321302c    1016   \n",
       "352 2020-05-18 23:59:20.831  f93afd8e92c336b471aa3bbbc579aefe    1298   \n",
       "353 2020-05-18 23:59:28.998  9963fc00d9405a35b894cc04a7e19855    1135   \n",
       "354 2020-05-19 08:55:39.509  98c5a2548d93f26bd4195466e93178b3    1035   \n",
       "355 2020-05-19 18:58:06.283  ba298cbd9be59b84bab33325e956f27e    1155   \n",
       "356 2020-05-19 19:04:17.873  c5870b37ee3f672e4259dfb2fc02ed8f    1029   \n",
       "357 2020-05-19 20:19:25.815  f44aea1095f9f5b8e2f5f0ed2b17891b    1060   \n",
       "358 2020-05-20 11:54:38.318  d7118b44c7e8fdbbaaca226d2da6fef1    1111   \n",
       "359 2020-05-23 21:16:40.916  79d14db48e4737af731960ae212d5134     966   \n",
       "360 2020-05-23 21:16:40.916  f2d210ace25a841e1e58036b257d5d47    1195   \n",
       "\n",
       "     18_group  is_mi                                           fall_1  \\\n",
       "351       NaN    NaN                 Безопасность компьютерных систем   \n",
       "352       NaN    NaN                Высокопроизводительные вычисления   \n",
       "353       NaN    NaN                 Безопасность компьютерных систем   \n",
       "354       NaN    NaN            Байесовские методы машинного обучения   \n",
       "355       NaN    NaN  Сбор и обработка данных с помощью краудсорсинга   \n",
       "356       NaN    NaN                      Statistical Learning Theory   \n",
       "357       NaN    NaN                Анализ неструктурированных данных   \n",
       "358       NaN    NaN  Сбор и обработка данных с помощью краудсорсинга   \n",
       "359       NaN    NaN                 Безопасность компьютерных систем   \n",
       "360       NaN    NaN                Анализ неструктурированных данных   \n",
       "\n",
       "                                                fall_2  \\\n",
       "351                  Высокопроизводительные вычисления   \n",
       "352    Сбор и обработка данных с помощью краудсорсинга   \n",
       "353                  Высокопроизводительные вычисления   \n",
       "354               Глубинное обучение в обработке звука   \n",
       "355              Байесовские методы машинного обучения   \n",
       "356                  Анализ неструктурированных данных   \n",
       "357                  Высокопроизводительные вычисления   \n",
       "358                        Statistical Learning Theory   \n",
       "359  Принятие решений в условиях риска и неопределё...   \n",
       "360                      Моделирование временных рядов   \n",
       "\n",
       "                                              fall_3  \\\n",
       "351  Сбор и обработка данных с помощью краудсорсинга   \n",
       "352                      Statistical Learning Theory   \n",
       "353                 Безопасность компьютерных систем   \n",
       "354                      Statistical Learning Theory   \n",
       "355                Анализ неструктурированных данных   \n",
       "356  Сбор и обработка данных с помощью краудсорсинга   \n",
       "357                    Моделирование временных рядов   \n",
       "358                Анализ неструктурированных данных   \n",
       "359                Анализ неструктурированных данных   \n",
       "360                Высокопроизводительные вычисления   \n",
       "\n",
       "                                              spring_1  \\\n",
       "351                             Конфликты и кооперация   \n",
       "352               Методы сжатия и передачи медиаданных   \n",
       "353  Проектирование и разработка высоконагруженных ...   \n",
       "354                           Обучение с подкреплением   \n",
       "355                             Конфликты и кооперация   \n",
       "356                           Обучение с подкреплением   \n",
       "357                             Конфликты и кооперация   \n",
       "358  Проектирование и разработка высоконагруженных ...   \n",
       "359  Проектирование и разработка высоконагруженных ...   \n",
       "360                           Обучение с подкреплением   \n",
       "\n",
       "                                              spring_2  \\\n",
       "351  Проектирование и разработка высоконагруженных ...   \n",
       "352  Проектирование и разработка высоконагруженных ...   \n",
       "353               Методы сжатия и передачи медиаданных   \n",
       "354            Генеративные модели в машинном обучении   \n",
       "355                           Обучение с подкреплением   \n",
       "356                             Конфликты и кооперация   \n",
       "357                           Обучение с подкреплением   \n",
       "358               Методы сжатия и передачи медиаданных   \n",
       "359               Методы сжатия и передачи медиаданных   \n",
       "360                                Компьютерное зрение   \n",
       "\n",
       "                                 spring_3 is_first_time  percentile  17_group  \\\n",
       "351                 Символьные вычисления            Да    0.942029     174.0   \n",
       "352                Конфликты и кооперация            Да    0.057971     175.0   \n",
       "353                 Символьные вычисления            Да    0.572464     175.0   \n",
       "354  Методы сжатия и передачи медиаданных           Нет    0.905797     171.0   \n",
       "355                   Компьютерное зрение            Да    0.507246     171.0   \n",
       "356                   Компьютерное зрение            Да    0.920290     174.0   \n",
       "357                      Численные методы            Да    0.840580     174.0   \n",
       "358                      Численные методы            Да    0.652174     173.0   \n",
       "359                   Компьютерное зрение            Да    0.985507     172.0   \n",
       "360  Методы сжатия и передачи медиаданных           NaN    0.369565     176.0   \n",
       "\n",
       "                            blended  is_ml_student  \n",
       "351                          DevOps            NaN  \n",
       "352                          DevOps            NaN  \n",
       "353                          DevOps            NaN  \n",
       "354                          DevOps            NaN  \n",
       "355  Соревновательный анализ данных            NaN  \n",
       "356                          DevOps            NaN  \n",
       "357                          DevOps            NaN  \n",
       "358  Соревновательный анализ данных            NaN  \n",
       "359                          DevOps            NaN  \n",
       "360  Соревновательный анализ данных            NaN  "
      ]
     },
     "execution_count": 9,
     "metadata": {},
     "output_type": "execute_result"
    }
   ],
   "source": [
    "df[-10:] # последние 10 строк"
   ]
  },
  {
   "cell_type": "code",
   "execution_count": 10,
   "metadata": {},
   "outputs": [
    {
     "name": "stdout",
     "output_type": "stream",
     "text": [
      "<class 'pandas.core.frame.DataFrame'>\n",
      "RangeIndex: 361 entries, 0 to 360\n",
      "Data columns (total 16 columns):\n",
      " #   Column         Non-Null Count  Dtype         \n",
      "---  ------         --------------  -----         \n",
      " 0   timestamp      361 non-null    datetime64[ns]\n",
      " 1   id             361 non-null    object        \n",
      " 2   rating         361 non-null    int64         \n",
      " 3   18_group       223 non-null    float64       \n",
      " 4   is_mi          18 non-null     float64       \n",
      " 5   fall_1         361 non-null    object        \n",
      " 6   fall_2         361 non-null    object        \n",
      " 7   fall_3         361 non-null    object        \n",
      " 8   spring_1       361 non-null    object        \n",
      " 9   spring_2       361 non-null    object        \n",
      " 10  spring_3       361 non-null    object        \n",
      " 11  is_first_time  359 non-null    object        \n",
      " 12  percentile     361 non-null    float64       \n",
      " 13  17_group       138 non-null    float64       \n",
      " 14  blended        138 non-null    object        \n",
      " 15  is_ml_student  57 non-null     float64       \n",
      "dtypes: datetime64[ns](1), float64(5), int64(1), object(9)\n",
      "memory usage: 45.2+ KB\n"
     ]
    }
   ],
   "source": [
    "df.info()"
   ]
  },
  {
   "cell_type": "markdown",
   "metadata": {
    "id": "Jhk3tVpVhLuy"
   },
   "source": [
    "#### 2. [0.5 балла] Ответьте на вопросы:\n",
    "1. Сколько было заявок из групп 18-го года набора, а сколько из групп 17-го года?\n",
    "2. Есть ли студенты с равными перцентилями?"
   ]
  },
  {
   "cell_type": "code",
   "execution_count": 11,
   "metadata": {
    "id": "bsn4vn8RhLuy"
   },
   "outputs": [
    {
     "data": {
      "text/plain": [
       "223"
      ]
     },
     "execution_count": 11,
     "metadata": {},
     "output_type": "execute_result"
    }
   ],
   "source": [
    "df['18_group'].count() # количество заявок у группы 18-ого года"
   ]
  },
  {
   "cell_type": "code",
   "execution_count": 12,
   "metadata": {},
   "outputs": [
    {
     "data": {
      "text/plain": [
       "138"
      ]
     },
     "execution_count": 12,
     "metadata": {},
     "output_type": "execute_result"
    }
   ],
   "source": [
    "df['17_group'].count() # количество заявок у группы 17-ого года"
   ]
  },
  {
   "cell_type": "code",
   "execution_count": 13,
   "metadata": {},
   "outputs": [
    {
     "data": {
      "text/plain": [
       "0.000000    2\n",
       "0.513453    2\n",
       "0.338565    2\n",
       "0.795964    2\n",
       "0.526906    2\n",
       "           ..\n",
       "0.630435    1\n",
       "0.807175    1\n",
       "0.398551    1\n",
       "0.071749    1\n",
       "0.195652    1\n",
       "Name: percentile, Length: 346, dtype: int64"
      ]
     },
     "execution_count": 13,
     "metadata": {},
     "output_type": "execute_result"
    }
   ],
   "source": [
    "df['percentile'].value_counts() # да, есть"
   ]
  },
  {
   "cell_type": "markdown",
   "metadata": {
    "id": "jPiMwyqHhLuy"
   },
   "source": [
    "#### 3. [0.5 балла] Есть ли в данных пропуски? В каких колонках? Сколько их в каждой из этих колонок?"
   ]
  },
  {
   "cell_type": "code",
   "execution_count": 14,
   "metadata": {
    "id": "edY1RrSOhLuy"
   },
   "outputs": [
    {
     "data": {
      "text/plain": [
       "timestamp          0\n",
       "id                 0\n",
       "rating             0\n",
       "18_group         138\n",
       "is_mi            343\n",
       "fall_1             0\n",
       "fall_2             0\n",
       "fall_3             0\n",
       "spring_1           0\n",
       "spring_2           0\n",
       "spring_3           0\n",
       "is_first_time      2\n",
       "percentile         0\n",
       "17_group         223\n",
       "blended          223\n",
       "is_ml_student    304\n",
       "dtype: int64"
      ]
     },
     "execution_count": 14,
     "metadata": {},
     "output_type": "execute_result"
    }
   ],
   "source": [
    "df.isnull().sum() # количество пропусков в каждой из колонок"
   ]
  },
  {
   "cell_type": "markdown",
   "metadata": {
    "id": "B5ORhP2uhLuz"
   },
   "source": [
    "Заполните пропуски пустой строкой для строковых колонок и нулём для числовых."
   ]
  },
  {
   "cell_type": "code",
   "execution_count": 15,
   "metadata": {},
   "outputs": [],
   "source": [
    "values = {'18_group':0, 'is_mi':0, '17_group':0, 'is_ml_student':0, 'is_first_time':'', 'blended':''}"
   ]
  },
  {
   "cell_type": "code",
   "execution_count": 16,
   "metadata": {},
   "outputs": [],
   "source": [
    "df.fillna(value=values, inplace = True)"
   ]
  },
  {
   "cell_type": "code",
   "execution_count": 17,
   "metadata": {
    "id": "TlF_JJ2ghLuz"
   },
   "outputs": [
    {
     "data": {
      "text/plain": [
       "timestamp        0\n",
       "id               0\n",
       "rating           0\n",
       "18_group         0\n",
       "is_mi            0\n",
       "fall_1           0\n",
       "fall_2           0\n",
       "fall_3           0\n",
       "spring_1         0\n",
       "spring_2         0\n",
       "spring_3         0\n",
       "is_first_time    0\n",
       "percentile       0\n",
       "17_group         0\n",
       "blended          0\n",
       "is_ml_student    0\n",
       "dtype: int64"
      ]
     },
     "execution_count": 17,
     "metadata": {},
     "output_type": "execute_result"
    }
   ],
   "source": [
    "df.isnull().sum()"
   ]
  },
  {
   "cell_type": "markdown",
   "metadata": {
    "id": "w5ELhkT1hLuz"
   },
   "source": [
    "#### 4. [0.5 балла] Посмотрите повнимательнее на колонку 'is_first_time'. \n",
    "\n",
    "Есть ли в ней ответы \"Нет\"? Сколько их?\n",
    "\n",
    "Если вы найдете повторные обращения студентов, оставьте только самую позднюю версию. <i>Обращения со значением \"Нет\" в <code>is_first_time</code> могут быть как повторными, так и первичными, поскольку поле заполняли сами студенты.</i>"
   ]
  },
  {
   "cell_type": "code",
   "execution_count": 18,
   "metadata": {},
   "outputs": [
    {
     "data": {
      "text/html": [
       "<div>\n",
       "<style scoped>\n",
       "    .dataframe tbody tr th:only-of-type {\n",
       "        vertical-align: middle;\n",
       "    }\n",
       "\n",
       "    .dataframe tbody tr th {\n",
       "        vertical-align: top;\n",
       "    }\n",
       "\n",
       "    .dataframe thead th {\n",
       "        text-align: right;\n",
       "    }\n",
       "</style>\n",
       "<table border=\"1\" class=\"dataframe\">\n",
       "  <thead>\n",
       "    <tr style=\"text-align: right;\">\n",
       "      <th></th>\n",
       "      <th>timestamp</th>\n",
       "      <th>id</th>\n",
       "      <th>rating</th>\n",
       "      <th>18_group</th>\n",
       "      <th>is_mi</th>\n",
       "      <th>fall_1</th>\n",
       "      <th>fall_2</th>\n",
       "      <th>fall_3</th>\n",
       "      <th>spring_1</th>\n",
       "      <th>spring_2</th>\n",
       "      <th>spring_3</th>\n",
       "      <th>is_first_time</th>\n",
       "      <th>percentile</th>\n",
       "      <th>17_group</th>\n",
       "      <th>blended</th>\n",
       "      <th>is_ml_student</th>\n",
       "    </tr>\n",
       "  </thead>\n",
       "  <tbody>\n",
       "    <tr>\n",
       "      <th>0</th>\n",
       "      <td>2020-05-15 01:12:50.543</td>\n",
       "      <td>93ff79a51cd602f1dd3028ba2c129503</td>\n",
       "      <td>698</td>\n",
       "      <td>181.0</td>\n",
       "      <td>0.0</td>\n",
       "      <td>Язык SQL</td>\n",
       "      <td>Высокопроизводительные вычисления</td>\n",
       "      <td>Матричные вычисления</td>\n",
       "      <td>Дискретная оптимизация</td>\n",
       "      <td>Численные методы</td>\n",
       "      <td>Машинное обучение 2</td>\n",
       "      <td>Да</td>\n",
       "      <td>0.183857</td>\n",
       "      <td>0.0</td>\n",
       "      <td></td>\n",
       "      <td>0.0</td>\n",
       "    </tr>\n",
       "    <tr>\n",
       "      <th>1</th>\n",
       "      <td>2020-05-15 02:46:48.066</td>\n",
       "      <td>26b01b1c4cd5656bab18d24c548834fb</td>\n",
       "      <td>647</td>\n",
       "      <td>181.0</td>\n",
       "      <td>0.0</td>\n",
       "      <td>Высокопроизводительные вычисления</td>\n",
       "      <td>Безопасность компьютерных систем</td>\n",
       "      <td>Язык SQL</td>\n",
       "      <td>Дискретная оптимизация</td>\n",
       "      <td>Численные методы</td>\n",
       "      <td>Машинное обучение 2</td>\n",
       "      <td>Нет</td>\n",
       "      <td>0.426009</td>\n",
       "      <td>0.0</td>\n",
       "      <td></td>\n",
       "      <td>0.0</td>\n",
       "    </tr>\n",
       "    <tr>\n",
       "      <th>2</th>\n",
       "      <td>2020-05-15 03:12:41.480</td>\n",
       "      <td>30f3653fc176d54e89ac3179c455c6dd</td>\n",
       "      <td>624</td>\n",
       "      <td>185.0</td>\n",
       "      <td>0.0</td>\n",
       "      <td>Безопасность компьютерных систем</td>\n",
       "      <td>Матричные вычисления</td>\n",
       "      <td>Моделирование временных рядов</td>\n",
       "      <td>Дискретная оптимизация</td>\n",
       "      <td>Машинное обучение 2</td>\n",
       "      <td>Численные методы</td>\n",
       "      <td>Да</td>\n",
       "      <td>0.538117</td>\n",
       "      <td>0.0</td>\n",
       "      <td></td>\n",
       "      <td>0.0</td>\n",
       "    </tr>\n",
       "    <tr>\n",
       "      <th>3</th>\n",
       "      <td>2020-05-15 04:43:08.994</td>\n",
       "      <td>1528f0eaa027580820ccf0d92a53ad68</td>\n",
       "      <td>579</td>\n",
       "      <td>182.0</td>\n",
       "      <td>0.0</td>\n",
       "      <td>Statistical Learning Theory</td>\n",
       "      <td>Высокопроизводительные вычисления</td>\n",
       "      <td>Матричные вычисления</td>\n",
       "      <td>Дискретная оптимизация</td>\n",
       "      <td>Численные методы</td>\n",
       "      <td>Машинное обучение 2</td>\n",
       "      <td>Да</td>\n",
       "      <td>0.744395</td>\n",
       "      <td>0.0</td>\n",
       "      <td></td>\n",
       "      <td>0.0</td>\n",
       "    </tr>\n",
       "    <tr>\n",
       "      <th>4</th>\n",
       "      <td>2020-05-15 07:47:17.197</td>\n",
       "      <td>496ea4f0d4abe264b1bb1b80eb3830c5</td>\n",
       "      <td>572</td>\n",
       "      <td>183.0</td>\n",
       "      <td>0.0</td>\n",
       "      <td>Высокопроизводительные вычисления</td>\n",
       "      <td>Безопасность компьютерных систем</td>\n",
       "      <td>Теория баз данных</td>\n",
       "      <td>Компьютерные сети</td>\n",
       "      <td>Дискретная оптимизация</td>\n",
       "      <td>Численные методы</td>\n",
       "      <td>Да</td>\n",
       "      <td>0.780269</td>\n",
       "      <td>0.0</td>\n",
       "      <td></td>\n",
       "      <td>0.0</td>\n",
       "    </tr>\n",
       "  </tbody>\n",
       "</table>\n",
       "</div>"
      ],
      "text/plain": [
       "                timestamp                                id  rating  18_group  \\\n",
       "0 2020-05-15 01:12:50.543  93ff79a51cd602f1dd3028ba2c129503     698     181.0   \n",
       "1 2020-05-15 02:46:48.066  26b01b1c4cd5656bab18d24c548834fb     647     181.0   \n",
       "2 2020-05-15 03:12:41.480  30f3653fc176d54e89ac3179c455c6dd     624     185.0   \n",
       "3 2020-05-15 04:43:08.994  1528f0eaa027580820ccf0d92a53ad68     579     182.0   \n",
       "4 2020-05-15 07:47:17.197  496ea4f0d4abe264b1bb1b80eb3830c5     572     183.0   \n",
       "\n",
       "   is_mi                             fall_1  \\\n",
       "0    0.0                           Язык SQL   \n",
       "1    0.0  Высокопроизводительные вычисления   \n",
       "2    0.0   Безопасность компьютерных систем   \n",
       "3    0.0        Statistical Learning Theory   \n",
       "4    0.0  Высокопроизводительные вычисления   \n",
       "\n",
       "                              fall_2                         fall_3  \\\n",
       "0  Высокопроизводительные вычисления           Матричные вычисления   \n",
       "1   Безопасность компьютерных систем                       Язык SQL   \n",
       "2               Матричные вычисления  Моделирование временных рядов   \n",
       "3  Высокопроизводительные вычисления           Матричные вычисления   \n",
       "4   Безопасность компьютерных систем              Теория баз данных   \n",
       "\n",
       "                 spring_1                spring_2             spring_3  \\\n",
       "0  Дискретная оптимизация        Численные методы  Машинное обучение 2   \n",
       "1  Дискретная оптимизация        Численные методы  Машинное обучение 2   \n",
       "2  Дискретная оптимизация     Машинное обучение 2     Численные методы   \n",
       "3  Дискретная оптимизация        Численные методы  Машинное обучение 2   \n",
       "4       Компьютерные сети  Дискретная оптимизация     Численные методы   \n",
       "\n",
       "  is_first_time  percentile  17_group blended  is_ml_student  \n",
       "0            Да    0.183857       0.0                    0.0  \n",
       "1           Нет    0.426009       0.0                    0.0  \n",
       "2            Да    0.538117       0.0                    0.0  \n",
       "3            Да    0.744395       0.0                    0.0  \n",
       "4            Да    0.780269       0.0                    0.0  "
      ]
     },
     "execution_count": 18,
     "metadata": {},
     "output_type": "execute_result"
    }
   ],
   "source": [
    "df.head()"
   ]
  },
  {
   "cell_type": "code",
   "execution_count": 19,
   "metadata": {},
   "outputs": [],
   "source": [
    "df = df.sort_values(by='timestamp').drop_duplicates(subset=['id'], keep='last')"
   ]
  },
  {
   "cell_type": "code",
   "execution_count": 20,
   "metadata": {
    "id": "VEfiNsyQhLuz"
   },
   "outputs": [
    {
     "data": {
      "text/plain": [
       "51"
      ]
     },
     "execution_count": 20,
     "metadata": {},
     "output_type": "execute_result"
    }
   ],
   "source": [
    "df[df['is_first_time']==\"Нет\"]['is_first_time'].count()"
   ]
  },
  {
   "cell_type": "markdown",
   "metadata": {
    "id": "IlzHp3HVhLuz"
   },
   "source": [
    "#### 5. [0.5 балла] Какие  blended-курсы для четверокурсников существуют? На какой blended-курс записалось наибольшее количество студентов? На каком из курсов собрались студенты с самым высоким средним рейтингом? "
   ]
  },
  {
   "cell_type": "code",
   "execution_count": 21,
   "metadata": {},
   "outputs": [
    {
     "data": {
      "text/html": [
       "<div>\n",
       "<style scoped>\n",
       "    .dataframe tbody tr th:only-of-type {\n",
       "        vertical-align: middle;\n",
       "    }\n",
       "\n",
       "    .dataframe tbody tr th {\n",
       "        vertical-align: top;\n",
       "    }\n",
       "\n",
       "    .dataframe thead th {\n",
       "        text-align: right;\n",
       "    }\n",
       "</style>\n",
       "<table border=\"1\" class=\"dataframe\">\n",
       "  <thead>\n",
       "    <tr style=\"text-align: right;\">\n",
       "      <th></th>\n",
       "      <th>timestamp</th>\n",
       "      <th>id</th>\n",
       "      <th>rating</th>\n",
       "      <th>18_group</th>\n",
       "      <th>is_mi</th>\n",
       "      <th>fall_1</th>\n",
       "      <th>fall_2</th>\n",
       "      <th>fall_3</th>\n",
       "      <th>spring_1</th>\n",
       "      <th>spring_2</th>\n",
       "      <th>spring_3</th>\n",
       "      <th>is_first_time</th>\n",
       "      <th>percentile</th>\n",
       "      <th>17_group</th>\n",
       "      <th>blended</th>\n",
       "      <th>is_ml_student</th>\n",
       "    </tr>\n",
       "  </thead>\n",
       "  <tbody>\n",
       "    <tr>\n",
       "      <th>223</th>\n",
       "      <td>2020-05-14 20:23:21.662</td>\n",
       "      <td>d555d2805e1d93d4f023e57dc4c8f403</td>\n",
       "      <td>996</td>\n",
       "      <td>0.0</td>\n",
       "      <td>0.0</td>\n",
       "      <td>Безопасность компьютерных систем</td>\n",
       "      <td>Глубинное обучение в обработке звука</td>\n",
       "      <td>Байесовские методы машинного обучения</td>\n",
       "      <td>Компьютерное зрение</td>\n",
       "      <td>Обучение с подкреплением</td>\n",
       "      <td>Проектирование и разработка высоконагруженных ...</td>\n",
       "      <td>Да</td>\n",
       "      <td>0.963768</td>\n",
       "      <td>172.0</td>\n",
       "      <td>DevOps</td>\n",
       "      <td>0.0</td>\n",
       "    </tr>\n",
       "    <tr>\n",
       "      <th>224</th>\n",
       "      <td>2020-05-14 20:47:13.833</td>\n",
       "      <td>253bbe1a2021d0404712a1e4acd22939</td>\n",
       "      <td>1106</td>\n",
       "      <td>0.0</td>\n",
       "      <td>0.0</td>\n",
       "      <td>Безопасность компьютерных систем</td>\n",
       "      <td>Моделирование временных рядов</td>\n",
       "      <td>Statistical Learning Theory</td>\n",
       "      <td>Проектирование и разработка высоконагруженных ...</td>\n",
       "      <td>Численные методы</td>\n",
       "      <td>Методы сжатия и передачи медиаданных</td>\n",
       "      <td>Да</td>\n",
       "      <td>0.673913</td>\n",
       "      <td>176.0</td>\n",
       "      <td>DevOps</td>\n",
       "      <td>0.0</td>\n",
       "    </tr>\n",
       "    <tr>\n",
       "      <th>225</th>\n",
       "      <td>2020-05-14 20:52:42.734</td>\n",
       "      <td>881b1a6fda195b354ae2edb396a69f5d</td>\n",
       "      <td>1084</td>\n",
       "      <td>0.0</td>\n",
       "      <td>0.0</td>\n",
       "      <td>Безопасность компьютерных систем</td>\n",
       "      <td>Анализ неструктурированных данных</td>\n",
       "      <td>Глубинное обучение в обработке звука</td>\n",
       "      <td>Компьютерное зрение</td>\n",
       "      <td>Проектирование и разработка высоконагруженных ...</td>\n",
       "      <td>Генеративные модели в машинном обучении</td>\n",
       "      <td>Да</td>\n",
       "      <td>0.782609</td>\n",
       "      <td>172.0</td>\n",
       "      <td>DevOps</td>\n",
       "      <td>0.0</td>\n",
       "    </tr>\n",
       "    <tr>\n",
       "      <th>226</th>\n",
       "      <td>2020-05-14 21:03:02.916</td>\n",
       "      <td>5a9b8ac11ad05b39a58b0e04a263bf4c</td>\n",
       "      <td>1170</td>\n",
       "      <td>0.0</td>\n",
       "      <td>0.0</td>\n",
       "      <td>Глубинное обучение в обработке звука</td>\n",
       "      <td>Statistical Learning Theory</td>\n",
       "      <td>Сбор и обработка данных с помощью краудсорсинга</td>\n",
       "      <td>Конфликты и кооперация</td>\n",
       "      <td>Обучение с подкреплением</td>\n",
       "      <td>Генеративные модели в машинном обучении</td>\n",
       "      <td>Да</td>\n",
       "      <td>0.442029</td>\n",
       "      <td>171.0</td>\n",
       "      <td>DevOps</td>\n",
       "      <td>0.0</td>\n",
       "    </tr>\n",
       "    <tr>\n",
       "      <th>227</th>\n",
       "      <td>2020-05-14 21:10:54.945</td>\n",
       "      <td>1bbbfae51794b83c769b634be8da7b8d</td>\n",
       "      <td>1078</td>\n",
       "      <td>0.0</td>\n",
       "      <td>0.0</td>\n",
       "      <td>Безопасность компьютерных систем</td>\n",
       "      <td>Высокопроизводительные вычисления</td>\n",
       "      <td>Анализ неструктурированных данных</td>\n",
       "      <td>Проектирование и разработка высоконагруженных ...</td>\n",
       "      <td>Методы сжатия и передачи медиаданных</td>\n",
       "      <td>Конфликты и кооперация</td>\n",
       "      <td>Да</td>\n",
       "      <td>0.789855</td>\n",
       "      <td>176.0</td>\n",
       "      <td>DevOps</td>\n",
       "      <td>0.0</td>\n",
       "    </tr>\n",
       "  </tbody>\n",
       "</table>\n",
       "</div>"
      ],
      "text/plain": [
       "                  timestamp                                id  rating  \\\n",
       "223 2020-05-14 20:23:21.662  d555d2805e1d93d4f023e57dc4c8f403     996   \n",
       "224 2020-05-14 20:47:13.833  253bbe1a2021d0404712a1e4acd22939    1106   \n",
       "225 2020-05-14 20:52:42.734  881b1a6fda195b354ae2edb396a69f5d    1084   \n",
       "226 2020-05-14 21:03:02.916  5a9b8ac11ad05b39a58b0e04a263bf4c    1170   \n",
       "227 2020-05-14 21:10:54.945  1bbbfae51794b83c769b634be8da7b8d    1078   \n",
       "\n",
       "     18_group  is_mi                                fall_1  \\\n",
       "223       0.0    0.0      Безопасность компьютерных систем   \n",
       "224       0.0    0.0      Безопасность компьютерных систем   \n",
       "225       0.0    0.0      Безопасность компьютерных систем   \n",
       "226       0.0    0.0  Глубинное обучение в обработке звука   \n",
       "227       0.0    0.0      Безопасность компьютерных систем   \n",
       "\n",
       "                                   fall_2  \\\n",
       "223  Глубинное обучение в обработке звука   \n",
       "224         Моделирование временных рядов   \n",
       "225     Анализ неструктурированных данных   \n",
       "226           Statistical Learning Theory   \n",
       "227     Высокопроизводительные вычисления   \n",
       "\n",
       "                                              fall_3  \\\n",
       "223            Байесовские методы машинного обучения   \n",
       "224                      Statistical Learning Theory   \n",
       "225             Глубинное обучение в обработке звука   \n",
       "226  Сбор и обработка данных с помощью краудсорсинга   \n",
       "227                Анализ неструктурированных данных   \n",
       "\n",
       "                                              spring_1  \\\n",
       "223                                Компьютерное зрение   \n",
       "224  Проектирование и разработка высоконагруженных ...   \n",
       "225                                Компьютерное зрение   \n",
       "226                             Конфликты и кооперация   \n",
       "227  Проектирование и разработка высоконагруженных ...   \n",
       "\n",
       "                                              spring_2  \\\n",
       "223                           Обучение с подкреплением   \n",
       "224                                   Численные методы   \n",
       "225  Проектирование и разработка высоконагруженных ...   \n",
       "226                           Обучение с подкреплением   \n",
       "227               Методы сжатия и передачи медиаданных   \n",
       "\n",
       "                                              spring_3 is_first_time  \\\n",
       "223  Проектирование и разработка высоконагруженных ...            Да   \n",
       "224               Методы сжатия и передачи медиаданных            Да   \n",
       "225            Генеративные модели в машинном обучении            Да   \n",
       "226            Генеративные модели в машинном обучении            Да   \n",
       "227                             Конфликты и кооперация            Да   \n",
       "\n",
       "     percentile  17_group blended  is_ml_student  \n",
       "223    0.963768     172.0  DevOps            0.0  \n",
       "224    0.673913     176.0  DevOps            0.0  \n",
       "225    0.782609     172.0  DevOps            0.0  \n",
       "226    0.442029     171.0  DevOps            0.0  \n",
       "227    0.789855     176.0  DevOps            0.0  "
      ]
     },
     "execution_count": 21,
     "metadata": {},
     "output_type": "execute_result"
    }
   ],
   "source": [
    "df.head()"
   ]
  },
  {
   "cell_type": "code",
   "execution_count": 22,
   "metadata": {},
   "outputs": [
    {
     "data": {
      "text/plain": [
       "array(['DevOps', 'Введение в дифференциальную геометрию', '',\n",
       "       'Соревновательный анализ данных'], dtype=object)"
      ]
     },
     "execution_count": 22,
     "metadata": {},
     "output_type": "execute_result"
    }
   ],
   "source": [
    "df[df['18_group']!='']['blended'].unique()"
   ]
  },
  {
   "cell_type": "code",
   "execution_count": 23,
   "metadata": {},
   "outputs": [],
   "source": [
    "df_17 = df[df['17_group']!='']"
   ]
  },
  {
   "cell_type": "code",
   "execution_count": 24,
   "metadata": {
    "id": "j_BRWerHhLu0"
   },
   "outputs": [
    {
     "data": {
      "text/plain": [
       "array(['DevOps', 'Введение в дифференциальную геометрию', '',\n",
       "       'Соревновательный анализ данных'], dtype=object)"
      ]
     },
     "execution_count": 24,
     "metadata": {},
     "output_type": "execute_result"
    }
   ],
   "source": [
    "df_17['blended'].unique() # все курсы для 4 курсников"
   ]
  },
  {
   "cell_type": "code",
   "execution_count": 25,
   "metadata": {},
   "outputs": [
    {
     "data": {
      "text/html": [
       "<div>\n",
       "<style scoped>\n",
       "    .dataframe tbody tr th:only-of-type {\n",
       "        vertical-align: middle;\n",
       "    }\n",
       "\n",
       "    .dataframe tbody tr th {\n",
       "        vertical-align: top;\n",
       "    }\n",
       "\n",
       "    .dataframe thead th {\n",
       "        text-align: right;\n",
       "    }\n",
       "</style>\n",
       "<table border=\"1\" class=\"dataframe\">\n",
       "  <thead>\n",
       "    <tr style=\"text-align: right;\">\n",
       "      <th></th>\n",
       "      <th>id</th>\n",
       "    </tr>\n",
       "    <tr>\n",
       "      <th>blended</th>\n",
       "      <th></th>\n",
       "    </tr>\n",
       "  </thead>\n",
       "  <tbody>\n",
       "    <tr>\n",
       "      <th></th>\n",
       "      <td>213</td>\n",
       "    </tr>\n",
       "    <tr>\n",
       "      <th>DevOps</th>\n",
       "      <td>87</td>\n",
       "    </tr>\n",
       "    <tr>\n",
       "      <th>Введение в дифференциальную геометрию</th>\n",
       "      <td>15</td>\n",
       "    </tr>\n",
       "    <tr>\n",
       "      <th>Соревновательный анализ данных</th>\n",
       "      <td>32</td>\n",
       "    </tr>\n",
       "  </tbody>\n",
       "</table>\n",
       "</div>"
      ],
      "text/plain": [
       "                                        id\n",
       "blended                                   \n",
       "                                       213\n",
       "DevOps                                  87\n",
       "Введение в дифференциальную геометрию   15\n",
       "Соревновательный анализ данных          32"
      ]
     },
     "execution_count": 25,
     "metadata": {},
     "output_type": "execute_result"
    }
   ],
   "source": [
    "df_17.groupby(by='blended').count()[['id']] # распределение студентов по курсам (наибольшее количество студентов записалось на )"
   ]
  },
  {
   "cell_type": "code",
   "execution_count": 26,
   "metadata": {},
   "outputs": [
    {
     "data": {
      "text/html": [
       "<div>\n",
       "<style scoped>\n",
       "    .dataframe tbody tr th:only-of-type {\n",
       "        vertical-align: middle;\n",
       "    }\n",
       "\n",
       "    .dataframe tbody tr th {\n",
       "        vertical-align: top;\n",
       "    }\n",
       "\n",
       "    .dataframe thead th {\n",
       "        text-align: right;\n",
       "    }\n",
       "</style>\n",
       "<table border=\"1\" class=\"dataframe\">\n",
       "  <thead>\n",
       "    <tr style=\"text-align: right;\">\n",
       "      <th></th>\n",
       "      <th>rating</th>\n",
       "    </tr>\n",
       "    <tr>\n",
       "      <th>blended</th>\n",
       "      <th></th>\n",
       "    </tr>\n",
       "  </thead>\n",
       "  <tbody>\n",
       "    <tr>\n",
       "      <th></th>\n",
       "      <td>633.901408</td>\n",
       "    </tr>\n",
       "    <tr>\n",
       "      <th>DevOps</th>\n",
       "      <td>1154.172414</td>\n",
       "    </tr>\n",
       "    <tr>\n",
       "      <th>Введение в дифференциальную геометрию</th>\n",
       "      <td>1210.733333</td>\n",
       "    </tr>\n",
       "    <tr>\n",
       "      <th>Соревновательный анализ данных</th>\n",
       "      <td>1144.218750</td>\n",
       "    </tr>\n",
       "  </tbody>\n",
       "</table>\n",
       "</div>"
      ],
      "text/plain": [
       "                                            rating\n",
       "blended                                           \n",
       "                                        633.901408\n",
       "DevOps                                 1154.172414\n",
       "Введение в дифференциальную геометрию  1210.733333\n",
       "Соревновательный анализ данных         1144.218750"
      ]
     },
     "execution_count": 26,
     "metadata": {},
     "output_type": "execute_result"
    }
   ],
   "source": [
    "df_17.groupby(by='blended').mean()[['rating']] # подсчет среднего рейтинга по курсам (с самым высоким рейтингом: Введение в дифференциальную геометрию)"
   ]
  },
  {
   "cell_type": "markdown",
   "metadata": {
    "id": "IU_FLt8HhLu0"
   },
   "source": [
    "#### 6. [1 балл] Выясните, есть ли в данных студенты с абсолютно одинаковыми предпочтениями по всем курсам (не забудьте учесть blended-курсы для четверокурсников). Сколько таких наборов, которые взяли несколько студентов? Выведите их все вместе с количеством выбравших их студентов.\n",
    "\n",
    "<i>Предпочтения двух студентов считаются абсолютно одинаковыми, если выбранные ими дисциплины имеют одинаковый приоритет.</i>"
   ]
  },
  {
   "cell_type": "code",
   "execution_count": 27,
   "metadata": {},
   "outputs": [],
   "source": [
    "df['courses'] = df['fall_1'] + ', ' + df['fall_2'] +', '+ df['fall_3'] + ', ' + df['spring_1']  + ', ' + df['spring_2']  + ', ' + df['spring_3']  + ', ' + df['blended']"
   ]
  },
  {
   "cell_type": "code",
   "execution_count": 28,
   "metadata": {},
   "outputs": [
    {
     "data": {
      "text/html": [
       "<div>\n",
       "<style scoped>\n",
       "    .dataframe tbody tr th:only-of-type {\n",
       "        vertical-align: middle;\n",
       "    }\n",
       "\n",
       "    .dataframe tbody tr th {\n",
       "        vertical-align: top;\n",
       "    }\n",
       "\n",
       "    .dataframe thead th {\n",
       "        text-align: right;\n",
       "    }\n",
       "</style>\n",
       "<table border=\"1\" class=\"dataframe\">\n",
       "  <thead>\n",
       "    <tr style=\"text-align: right;\">\n",
       "      <th></th>\n",
       "      <th>timestamp</th>\n",
       "      <th>id</th>\n",
       "      <th>rating</th>\n",
       "      <th>18_group</th>\n",
       "      <th>is_mi</th>\n",
       "      <th>fall_1</th>\n",
       "      <th>fall_2</th>\n",
       "      <th>fall_3</th>\n",
       "      <th>spring_1</th>\n",
       "      <th>spring_2</th>\n",
       "      <th>spring_3</th>\n",
       "      <th>is_first_time</th>\n",
       "      <th>percentile</th>\n",
       "      <th>17_group</th>\n",
       "      <th>blended</th>\n",
       "      <th>is_ml_student</th>\n",
       "      <th>courses</th>\n",
       "    </tr>\n",
       "  </thead>\n",
       "  <tbody>\n",
       "    <tr>\n",
       "      <th>223</th>\n",
       "      <td>2020-05-14 20:23:21.662</td>\n",
       "      <td>d555d2805e1d93d4f023e57dc4c8f403</td>\n",
       "      <td>996</td>\n",
       "      <td>0.0</td>\n",
       "      <td>0.0</td>\n",
       "      <td>Безопасность компьютерных систем</td>\n",
       "      <td>Глубинное обучение в обработке звука</td>\n",
       "      <td>Байесовские методы машинного обучения</td>\n",
       "      <td>Компьютерное зрение</td>\n",
       "      <td>Обучение с подкреплением</td>\n",
       "      <td>Проектирование и разработка высоконагруженных ...</td>\n",
       "      <td>Да</td>\n",
       "      <td>0.963768</td>\n",
       "      <td>172.0</td>\n",
       "      <td>DevOps</td>\n",
       "      <td>0.0</td>\n",
       "      <td>Безопасность компьютерных систем, Глубинное об...</td>\n",
       "    </tr>\n",
       "    <tr>\n",
       "      <th>224</th>\n",
       "      <td>2020-05-14 20:47:13.833</td>\n",
       "      <td>253bbe1a2021d0404712a1e4acd22939</td>\n",
       "      <td>1106</td>\n",
       "      <td>0.0</td>\n",
       "      <td>0.0</td>\n",
       "      <td>Безопасность компьютерных систем</td>\n",
       "      <td>Моделирование временных рядов</td>\n",
       "      <td>Statistical Learning Theory</td>\n",
       "      <td>Проектирование и разработка высоконагруженных ...</td>\n",
       "      <td>Численные методы</td>\n",
       "      <td>Методы сжатия и передачи медиаданных</td>\n",
       "      <td>Да</td>\n",
       "      <td>0.673913</td>\n",
       "      <td>176.0</td>\n",
       "      <td>DevOps</td>\n",
       "      <td>0.0</td>\n",
       "      <td>Безопасность компьютерных систем, Моделировани...</td>\n",
       "    </tr>\n",
       "    <tr>\n",
       "      <th>225</th>\n",
       "      <td>2020-05-14 20:52:42.734</td>\n",
       "      <td>881b1a6fda195b354ae2edb396a69f5d</td>\n",
       "      <td>1084</td>\n",
       "      <td>0.0</td>\n",
       "      <td>0.0</td>\n",
       "      <td>Безопасность компьютерных систем</td>\n",
       "      <td>Анализ неструктурированных данных</td>\n",
       "      <td>Глубинное обучение в обработке звука</td>\n",
       "      <td>Компьютерное зрение</td>\n",
       "      <td>Проектирование и разработка высоконагруженных ...</td>\n",
       "      <td>Генеративные модели в машинном обучении</td>\n",
       "      <td>Да</td>\n",
       "      <td>0.782609</td>\n",
       "      <td>172.0</td>\n",
       "      <td>DevOps</td>\n",
       "      <td>0.0</td>\n",
       "      <td>Безопасность компьютерных систем, Анализ нестр...</td>\n",
       "    </tr>\n",
       "    <tr>\n",
       "      <th>226</th>\n",
       "      <td>2020-05-14 21:03:02.916</td>\n",
       "      <td>5a9b8ac11ad05b39a58b0e04a263bf4c</td>\n",
       "      <td>1170</td>\n",
       "      <td>0.0</td>\n",
       "      <td>0.0</td>\n",
       "      <td>Глубинное обучение в обработке звука</td>\n",
       "      <td>Statistical Learning Theory</td>\n",
       "      <td>Сбор и обработка данных с помощью краудсорсинга</td>\n",
       "      <td>Конфликты и кооперация</td>\n",
       "      <td>Обучение с подкреплением</td>\n",
       "      <td>Генеративные модели в машинном обучении</td>\n",
       "      <td>Да</td>\n",
       "      <td>0.442029</td>\n",
       "      <td>171.0</td>\n",
       "      <td>DevOps</td>\n",
       "      <td>0.0</td>\n",
       "      <td>Глубинное обучение в обработке звука, Statisti...</td>\n",
       "    </tr>\n",
       "    <tr>\n",
       "      <th>227</th>\n",
       "      <td>2020-05-14 21:10:54.945</td>\n",
       "      <td>1bbbfae51794b83c769b634be8da7b8d</td>\n",
       "      <td>1078</td>\n",
       "      <td>0.0</td>\n",
       "      <td>0.0</td>\n",
       "      <td>Безопасность компьютерных систем</td>\n",
       "      <td>Высокопроизводительные вычисления</td>\n",
       "      <td>Анализ неструктурированных данных</td>\n",
       "      <td>Проектирование и разработка высоконагруженных ...</td>\n",
       "      <td>Методы сжатия и передачи медиаданных</td>\n",
       "      <td>Конфликты и кооперация</td>\n",
       "      <td>Да</td>\n",
       "      <td>0.789855</td>\n",
       "      <td>176.0</td>\n",
       "      <td>DevOps</td>\n",
       "      <td>0.0</td>\n",
       "      <td>Безопасность компьютерных систем, Высокопроизв...</td>\n",
       "    </tr>\n",
       "  </tbody>\n",
       "</table>\n",
       "</div>"
      ],
      "text/plain": [
       "                  timestamp                                id  rating  \\\n",
       "223 2020-05-14 20:23:21.662  d555d2805e1d93d4f023e57dc4c8f403     996   \n",
       "224 2020-05-14 20:47:13.833  253bbe1a2021d0404712a1e4acd22939    1106   \n",
       "225 2020-05-14 20:52:42.734  881b1a6fda195b354ae2edb396a69f5d    1084   \n",
       "226 2020-05-14 21:03:02.916  5a9b8ac11ad05b39a58b0e04a263bf4c    1170   \n",
       "227 2020-05-14 21:10:54.945  1bbbfae51794b83c769b634be8da7b8d    1078   \n",
       "\n",
       "     18_group  is_mi                                fall_1  \\\n",
       "223       0.0    0.0      Безопасность компьютерных систем   \n",
       "224       0.0    0.0      Безопасность компьютерных систем   \n",
       "225       0.0    0.0      Безопасность компьютерных систем   \n",
       "226       0.0    0.0  Глубинное обучение в обработке звука   \n",
       "227       0.0    0.0      Безопасность компьютерных систем   \n",
       "\n",
       "                                   fall_2  \\\n",
       "223  Глубинное обучение в обработке звука   \n",
       "224         Моделирование временных рядов   \n",
       "225     Анализ неструктурированных данных   \n",
       "226           Statistical Learning Theory   \n",
       "227     Высокопроизводительные вычисления   \n",
       "\n",
       "                                              fall_3  \\\n",
       "223            Байесовские методы машинного обучения   \n",
       "224                      Statistical Learning Theory   \n",
       "225             Глубинное обучение в обработке звука   \n",
       "226  Сбор и обработка данных с помощью краудсорсинга   \n",
       "227                Анализ неструктурированных данных   \n",
       "\n",
       "                                              spring_1  \\\n",
       "223                                Компьютерное зрение   \n",
       "224  Проектирование и разработка высоконагруженных ...   \n",
       "225                                Компьютерное зрение   \n",
       "226                             Конфликты и кооперация   \n",
       "227  Проектирование и разработка высоконагруженных ...   \n",
       "\n",
       "                                              spring_2  \\\n",
       "223                           Обучение с подкреплением   \n",
       "224                                   Численные методы   \n",
       "225  Проектирование и разработка высоконагруженных ...   \n",
       "226                           Обучение с подкреплением   \n",
       "227               Методы сжатия и передачи медиаданных   \n",
       "\n",
       "                                              spring_3 is_first_time  \\\n",
       "223  Проектирование и разработка высоконагруженных ...            Да   \n",
       "224               Методы сжатия и передачи медиаданных            Да   \n",
       "225            Генеративные модели в машинном обучении            Да   \n",
       "226            Генеративные модели в машинном обучении            Да   \n",
       "227                             Конфликты и кооперация            Да   \n",
       "\n",
       "     percentile  17_group blended  is_ml_student  \\\n",
       "223    0.963768     172.0  DevOps            0.0   \n",
       "224    0.673913     176.0  DevOps            0.0   \n",
       "225    0.782609     172.0  DevOps            0.0   \n",
       "226    0.442029     171.0  DevOps            0.0   \n",
       "227    0.789855     176.0  DevOps            0.0   \n",
       "\n",
       "                                               courses  \n",
       "223  Безопасность компьютерных систем, Глубинное об...  \n",
       "224  Безопасность компьютерных систем, Моделировани...  \n",
       "225  Безопасность компьютерных систем, Анализ нестр...  \n",
       "226  Глубинное обучение в обработке звука, Statisti...  \n",
       "227  Безопасность компьютерных систем, Высокопроизв...  "
      ]
     },
     "execution_count": 28,
     "metadata": {},
     "output_type": "execute_result"
    }
   ],
   "source": [
    "df.head()"
   ]
  },
  {
   "cell_type": "code",
   "execution_count": 29,
   "metadata": {},
   "outputs": [
    {
     "data": {
      "text/plain": [
       "15"
      ]
     },
     "execution_count": 29,
     "metadata": {},
     "output_type": "execute_result"
    }
   ],
   "source": [
    "len(df[df.duplicated(['courses'])]['courses'].unique()) # да, есть. Есть 15 уникальных наборов"
   ]
  },
  {
   "cell_type": "code",
   "execution_count": 30,
   "metadata": {},
   "outputs": [
    {
     "data": {
      "text/html": [
       "<div>\n",
       "<style scoped>\n",
       "    .dataframe tbody tr th:only-of-type {\n",
       "        vertical-align: middle;\n",
       "    }\n",
       "\n",
       "    .dataframe tbody tr th {\n",
       "        vertical-align: top;\n",
       "    }\n",
       "\n",
       "    .dataframe thead th {\n",
       "        text-align: right;\n",
       "    }\n",
       "</style>\n",
       "<table border=\"1\" class=\"dataframe\">\n",
       "  <thead>\n",
       "    <tr style=\"text-align: right;\">\n",
       "      <th></th>\n",
       "      <th>courses</th>\n",
       "    </tr>\n",
       "  </thead>\n",
       "  <tbody>\n",
       "    <tr>\n",
       "      <th>Безопасность компьютерных систем, Высокопроизводительные вычисления, Язык SQL, Компьютерные сети, Промышленное программирование на языке Java, Дискретная оптимизация,</th>\n",
       "      <td>3</td>\n",
       "    </tr>\n",
       "    <tr>\n",
       "      <th>Безопасность компьютерных систем, Statistical Learning Theory, Матричные вычисления, Дискретная оптимизация, Промышленное программирование на языке Java, Дополнительные главы прикладной статистики,</th>\n",
       "      <td>3</td>\n",
       "    </tr>\n",
       "    <tr>\n",
       "      <th>Безопасность компьютерных систем, Высокопроизводительные вычисления, Язык SQL, Промышленное программирование на языке Java, Компьютерные сети, Системы баз данных,</th>\n",
       "      <td>2</td>\n",
       "    </tr>\n",
       "    <tr>\n",
       "      <th>Сбор и обработка данных с помощью краудсорсинга, Язык SQL, Теория баз данных, Промышленное программирование на языке Java, Машинное обучение 2, Компьютерные сети,</th>\n",
       "      <td>2</td>\n",
       "    </tr>\n",
       "    <tr>\n",
       "      <th>Безопасность компьютерных систем, Высокопроизводительные вычисления, Анализ неструктурированных данных, Проектирование и разработка высоконагруженных сервисов, Методы сжатия и передачи медиаданных, Конфликты и кооперация, DevOps</th>\n",
       "      <td>2</td>\n",
       "    </tr>\n",
       "    <tr>\n",
       "      <th>Байесовские методы машинного обучения, Анализ неструктурированных данных, Глубинное обучение в обработке звука, Обучение с подкреплением, Генеративные модели в машинном обучении, Компьютерное зрение, DevOps</th>\n",
       "      <td>2</td>\n",
       "    </tr>\n",
       "    <tr>\n",
       "      <th>Безопасность компьютерных систем, Сбор и обработка данных с помощью краудсорсинга, Матричные вычисления, Компьютерные сети, Промышленное программирование на языке Java, Анализ данных в бизнесе,</th>\n",
       "      <td>2</td>\n",
       "    </tr>\n",
       "    <tr>\n",
       "      <th>Высокопроизводительные вычисления, Безопасность компьютерных систем, Сбор и обработка данных с помощью краудсорсинга, Проектирование и разработка высоконагруженных сервисов, Методы сжатия и передачи медиаданных, Компьютерное зрение, DevOps</th>\n",
       "      <td>2</td>\n",
       "    </tr>\n",
       "    <tr>\n",
       "      <th>Высокопроизводительные вычисления, Сбор и обработка данных с помощью краудсорсинга, Моделирование временных рядов, Проектирование и разработка высоконагруженных сервисов, Методы сжатия и передачи медиаданных, Методы сжатия и передачи медиаданных, DevOps</th>\n",
       "      <td>2</td>\n",
       "    </tr>\n",
       "    <tr>\n",
       "      <th>Statistical Learning Theory, Анализ неструктурированных данных, Сбор и обработка данных с помощью краудсорсинга, Обучение с подкреплением, Конфликты и кооперация, Компьютерное зрение, DevOps</th>\n",
       "      <td>2</td>\n",
       "    </tr>\n",
       "    <tr>\n",
       "      <th>Байесовские методы машинного обучения, Анализ неструктурированных данных, Сбор и обработка данных с помощью краудсорсинга, Обучение с подкреплением, Компьютерное зрение, Генеративные модели в машинном обучении, DevOps</th>\n",
       "      <td>2</td>\n",
       "    </tr>\n",
       "    <tr>\n",
       "      <th>Язык SQL, Высокопроизводительные вычисления, Теория баз данных, Компьютерные сети, Промышленное программирование на языке Java, Дискретная оптимизация,</th>\n",
       "      <td>2</td>\n",
       "    </tr>\n",
       "    <tr>\n",
       "      <th>Безопасность компьютерных систем, Матричные вычисления, Моделирование временных рядов, Промышленное программирование на языке Java, Компьютерные сети, Дискретная оптимизация,</th>\n",
       "      <td>2</td>\n",
       "    </tr>\n",
       "    <tr>\n",
       "      <th>Безопасность компьютерных систем, Теория баз данных, Язык SQL, Машинное обучение 2, Компьютерные сети, Промышленное программирование на языке Java,</th>\n",
       "      <td>2</td>\n",
       "    </tr>\n",
       "    <tr>\n",
       "      <th>Моделирование временных рядов, Сбор и обработка данных с помощью краудсорсинга, Безопасность компьютерных систем, Компьютерные сети, Дополнительные главы прикладной статистики, Системы баз данных,</th>\n",
       "      <td>2</td>\n",
       "    </tr>\n",
       "    <tr>\n",
       "      <th>Анализ неструктурированных данных, Глубинное обучение в обработке звука, Моделирование временных рядов, Обучение с подкреплением, Компьютерное зрение, Конфликты и кооперация, Соревновательный анализ данных</th>\n",
       "      <td>1</td>\n",
       "    </tr>\n",
       "  </tbody>\n",
       "</table>\n",
       "</div>"
      ],
      "text/plain": [
       "                                                    courses\n",
       "Безопасность компьютерных систем, Высокопроизво...        3\n",
       "Безопасность компьютерных систем, Statistical L...        3\n",
       "Безопасность компьютерных систем, Высокопроизво...        2\n",
       "Сбор и обработка данных с помощью краудсорсинга...        2\n",
       "Безопасность компьютерных систем, Высокопроизво...        2\n",
       "Байесовские методы машинного обучения, Анализ н...        2\n",
       "Безопасность компьютерных систем, Сбор и обрабо...        2\n",
       "Высокопроизводительные вычисления, Безопасность...        2\n",
       "Высокопроизводительные вычисления, Сбор и обраб...        2\n",
       "Statistical Learning Theory, Анализ неструктури...        2\n",
       "Байесовские методы машинного обучения, Анализ н...        2\n",
       "Язык SQL, Высокопроизводительные вычисления, Те...        2\n",
       "Безопасность компьютерных систем, Матричные выч...        2\n",
       "Безопасность компьютерных систем, Теория баз да...        2\n",
       "Моделирование временных рядов, Сбор и обработка...        2\n",
       "Анализ неструктурированных данных, Глубинное об...        1"
      ]
     },
     "execution_count": 30,
     "metadata": {},
     "output_type": "execute_result"
    }
   ],
   "source": [
    "pd.DataFrame(df['courses'].value_counts()[:16])"
   ]
  },
  {
   "cell_type": "markdown",
   "metadata": {
    "id": "spu3r3vchLu0"
   },
   "source": [
    "#### 7. [0.5 балла] Найдите курсы по выбору, на которые записывались как студенты 18-го года набора, так и студенты 17-го года."
   ]
  },
  {
   "cell_type": "code",
   "execution_count": 31,
   "metadata": {
    "id": "t21fWi8ShLu0"
   },
   "outputs": [],
   "source": [
    "third_year = df[df['18_group'] > 0][['fall_1', 'fall_2', 'fall_3', 'spring_1', 'spring_2', 'spring_3', 'blended']]"
   ]
  },
  {
   "cell_type": "code",
   "execution_count": 32,
   "metadata": {},
   "outputs": [],
   "source": [
    "forth_year = df[df['17_group'] > 0][['fall_1', 'fall_2','fall_3', 'spring_1', 'spring_2', 'spring_3', 'blended']]"
   ]
  },
  {
   "cell_type": "code",
   "execution_count": 33,
   "metadata": {},
   "outputs": [],
   "source": [
    "third_year_list = third_year.spring_1.append(third_year.spring_2).append(third_year.spring_3).append(third_year.fall_1).append(third_year.fall_2).append(third_year.fall_3).append(third_year.blended).unique()"
   ]
  },
  {
   "cell_type": "code",
   "execution_count": 34,
   "metadata": {},
   "outputs": [],
   "source": [
    "forth_year_list = forth_year.spring_1.append(forth_year.spring_2).append(forth_year.spring_3).append(forth_year.blended).append(forth_year.fall_1).append(forth_year.fall_2).append(forth_year.fall_3).unique()"
   ]
  },
  {
   "cell_type": "code",
   "execution_count": 35,
   "metadata": {},
   "outputs": [],
   "source": [
    "year_intersection = pd.Series(list(set(third_year_list).intersection(set(forth_year_list))))"
   ]
  },
  {
   "cell_type": "code",
   "execution_count": 36,
   "metadata": {},
   "outputs": [
    {
     "data": {
      "text/plain": [
       "0      Сбор и обработка данных с помощью краудсорсинга\n",
       "1                                     Численные методы\n",
       "2                    Высокопроизводительные вычисления\n",
       "3                     Безопасность компьютерных систем\n",
       "4    Принятие решений в условиях риска и неопределё...\n",
       "5                          Statistical Learning Theory\n",
       "6                        Моделирование временных рядов\n",
       "dtype: object"
      ]
     },
     "execution_count": 36,
     "metadata": {},
     "output_type": "execute_result"
    }
   ],
   "source": [
    "year_intersection #Таким образом, оба курса записывались на следующие предметы:"
   ]
  },
  {
   "cell_type": "code",
   "execution_count": 37,
   "metadata": {},
   "outputs": [
    {
     "data": {
      "text/plain": [
       "array(['Компьютерное зрение',\n",
       "       'Проектирование и разработка высоконагруженных сервисов',\n",
       "       'Конфликты и кооперация', 'Символьные вычисления',\n",
       "       'Методы сжатия и передачи медиаданных', 'Обучение с подкреплением',\n",
       "       'Генеративные модели в машинном обучении', 'Численные методы',\n",
       "       'DevOps', 'Введение в дифференциальную геометрию',\n",
       "       'Соревновательный анализ данных',\n",
       "       'Безопасность компьютерных систем',\n",
       "       'Глубинное обучение в обработке звука',\n",
       "       'Высокопроизводительные вычисления', 'Statistical Learning Theory',\n",
       "       'Анализ неструктурированных данных',\n",
       "       'Байесовские методы машинного обучения',\n",
       "       'Моделирование временных рядов',\n",
       "       'Сбор и обработка данных с помощью краудсорсинга',\n",
       "       'Принятие решений в условиях риска и неопределённости'],\n",
       "      dtype=object)"
      ]
     },
     "execution_count": 37,
     "metadata": {},
     "output_type": "execute_result"
    }
   ],
   "source": [
    "forth_year_list"
   ]
  },
  {
   "cell_type": "code",
   "execution_count": 38,
   "metadata": {},
   "outputs": [
    {
     "data": {
      "text/plain": [
       "array(['', 'Анализ данных в бизнесе', 'Дискретная оптимизация',\n",
       "       'Дополнительные главы прикладной статистики', 'Компьютерные сети',\n",
       "       'Матричные вычисления', 'Машинное обучение 2',\n",
       "       'Промышленное программирование на языке Java',\n",
       "       'Системы баз данных', 'Теория баз данных', 'Язык SQL'],\n",
       "      dtype=object)"
      ]
     },
     "execution_count": 38,
     "metadata": {},
     "output_type": "execute_result"
    }
   ],
   "source": [
    "np.setdiff1d(third_year_list,year_intersection) # для 4-ого курса"
   ]
  },
  {
   "cell_type": "code",
   "execution_count": 39,
   "metadata": {},
   "outputs": [
    {
     "data": {
      "text/plain": [
       "array(['DevOps', 'Анализ неструктурированных данных',\n",
       "       'Байесовские методы машинного обучения',\n",
       "       'Введение в дифференциальную геометрию',\n",
       "       'Генеративные модели в машинном обучении',\n",
       "       'Глубинное обучение в обработке звука', 'Компьютерное зрение',\n",
       "       'Конфликты и кооперация', 'Методы сжатия и передачи медиаданных',\n",
       "       'Обучение с подкреплением',\n",
       "       'Проектирование и разработка высоконагруженных сервисов',\n",
       "       'Символьные вычисления', 'Соревновательный анализ данных'],\n",
       "      dtype=object)"
      ]
     },
     "execution_count": 39,
     "metadata": {},
     "output_type": "execute_result"
    }
   ],
   "source": [
    "np.setdiff1d(forth_year_list,year_intersection) # для 3-его курса"
   ]
  },
  {
   "cell_type": "markdown",
   "metadata": {
    "id": "PYfX-Dr5hLu0"
   },
   "source": [
    "Методом исключения найдите курсы, которые предлагались только студентам 18-го года и только студентам 17-го года."
   ]
  },
  {
   "cell_type": "markdown",
   "metadata": {
    "id": "uL45Tg5fhLu1"
   },
   "source": [
    "### Визуализации и matplotlib"
   ]
  },
  {
   "cell_type": "markdown",
   "metadata": {
    "id": "MY9lKmP2hLu1"
   },
   "source": [
    "При работе с данными часто неудобно делать какие-то выводы, если смотреть на таблицу и числа в частности, поэтому важно уметь визуализировать данные. Здесь будут описаны ключевые правила оформления графиков для **всех** домашних заданий.\n",
    "\n",
    "У matplotlib, конечно же, есть [документация](https://matplotlib.org/users/index.html) с большим количеством [примеров](https://matplotlib.org/examples/), но для начала достаточно знать про несколько основных типов графиков:\n",
    "- plot — обычный поточечный график, которым можно изображать кривые или отдельные точки;\n",
    "- hist — гистограмма, показывающая распределение некоторой величины;\n",
    "- scatter — график, показывающий взаимосвязь двух величин;\n",
    "- bar — столбцовый график, показывающий взаимосвязь количественной величины от категориальной.\n",
    "\n",
    "В этом задании вы попробуете построить один из них. Не забывайте про базовые принципы построения приличных графиков:\n",
    "- оси должны быть подписаны, причём не слишком мелко;\n",
    "- у графика должно быть название;\n",
    "- если изображено несколько графиков, то необходима поясняющая легенда;\n",
    "- все линии на графиках должны быть чётко видны (нет похожих цветов или цветов, сливающихся с фоном);\n",
    "- если отображена величина, имеющая очевидный диапазон значений (например, проценты могут быть от 0 до 100), то желательно масштабировать ось на весь диапазон значений (исключением является случай, когда вам необходимо показать малое отличие, которое незаметно в таких масштабах);\n",
    "- сетка на графике помогает оценить значения в точках на глаз, это обычно полезно, поэтому лучше ее отрисовывать;\n",
    "- если распределение на гистограмме имеет тяжёлые хвосты, лучше использовать логарифмическую шкалу.\n",
    "\n",
    "Полезные строчки:\n",
    "- для красивой картинки <code>%config InlineBackend.figure_format = 'retina'</code>\n",
    "- задаем размер (почти) всех графиков (можно выбрать другие значения) <code>plt.rcParams['figure.figsize'] = 8, 5</code>\n",
    "- размер шрифта подписей графиков <code>plt.rcParams['font.size'] = 12</code>\n",
    "- формат в котором сохраняется изображение <code>mpl.rcParams['savefig.format'] = 'pdf'</code>\n",
    "- sns – seaborn, добавляет решетку <code>sns.set_style('darkgrid')</code>"
   ]
  },
  {
   "cell_type": "code",
   "execution_count": 40,
   "metadata": {
    "id": "na9doUOFhLu1"
   },
   "outputs": [],
   "source": [
    "%matplotlib inline\n",
    "import matplotlib.pyplot as plt"
   ]
  },
  {
   "cell_type": "markdown",
   "metadata": {
    "id": "kikwLpxfhLu1"
   },
   "source": [
    "#### 8. [0.5 балла] Постройте график средних рейтингов по дням получения ответов (bar plot)."
   ]
  },
  {
   "cell_type": "code",
   "execution_count": 41,
   "metadata": {},
   "outputs": [
    {
     "data": {
      "text/html": [
       "<div>\n",
       "<style scoped>\n",
       "    .dataframe tbody tr th:only-of-type {\n",
       "        vertical-align: middle;\n",
       "    }\n",
       "\n",
       "    .dataframe tbody tr th {\n",
       "        vertical-align: top;\n",
       "    }\n",
       "\n",
       "    .dataframe thead th {\n",
       "        text-align: right;\n",
       "    }\n",
       "</style>\n",
       "<table border=\"1\" class=\"dataframe\">\n",
       "  <thead>\n",
       "    <tr style=\"text-align: right;\">\n",
       "      <th></th>\n",
       "      <th>timestamp</th>\n",
       "      <th>id</th>\n",
       "      <th>rating</th>\n",
       "      <th>18_group</th>\n",
       "      <th>is_mi</th>\n",
       "      <th>fall_1</th>\n",
       "      <th>fall_2</th>\n",
       "      <th>fall_3</th>\n",
       "      <th>spring_1</th>\n",
       "      <th>spring_2</th>\n",
       "      <th>spring_3</th>\n",
       "      <th>is_first_time</th>\n",
       "      <th>percentile</th>\n",
       "      <th>17_group</th>\n",
       "      <th>blended</th>\n",
       "      <th>is_ml_student</th>\n",
       "      <th>courses</th>\n",
       "    </tr>\n",
       "  </thead>\n",
       "  <tbody>\n",
       "    <tr>\n",
       "      <th>223</th>\n",
       "      <td>2020-05-14 20:23:21.662</td>\n",
       "      <td>d555d2805e1d93d4f023e57dc4c8f403</td>\n",
       "      <td>996</td>\n",
       "      <td>0.0</td>\n",
       "      <td>0.0</td>\n",
       "      <td>Безопасность компьютерных систем</td>\n",
       "      <td>Глубинное обучение в обработке звука</td>\n",
       "      <td>Байесовские методы машинного обучения</td>\n",
       "      <td>Компьютерное зрение</td>\n",
       "      <td>Обучение с подкреплением</td>\n",
       "      <td>Проектирование и разработка высоконагруженных ...</td>\n",
       "      <td>Да</td>\n",
       "      <td>0.963768</td>\n",
       "      <td>172.0</td>\n",
       "      <td>DevOps</td>\n",
       "      <td>0.0</td>\n",
       "      <td>Безопасность компьютерных систем, Глубинное об...</td>\n",
       "    </tr>\n",
       "    <tr>\n",
       "      <th>224</th>\n",
       "      <td>2020-05-14 20:47:13.833</td>\n",
       "      <td>253bbe1a2021d0404712a1e4acd22939</td>\n",
       "      <td>1106</td>\n",
       "      <td>0.0</td>\n",
       "      <td>0.0</td>\n",
       "      <td>Безопасность компьютерных систем</td>\n",
       "      <td>Моделирование временных рядов</td>\n",
       "      <td>Statistical Learning Theory</td>\n",
       "      <td>Проектирование и разработка высоконагруженных ...</td>\n",
       "      <td>Численные методы</td>\n",
       "      <td>Методы сжатия и передачи медиаданных</td>\n",
       "      <td>Да</td>\n",
       "      <td>0.673913</td>\n",
       "      <td>176.0</td>\n",
       "      <td>DevOps</td>\n",
       "      <td>0.0</td>\n",
       "      <td>Безопасность компьютерных систем, Моделировани...</td>\n",
       "    </tr>\n",
       "    <tr>\n",
       "      <th>225</th>\n",
       "      <td>2020-05-14 20:52:42.734</td>\n",
       "      <td>881b1a6fda195b354ae2edb396a69f5d</td>\n",
       "      <td>1084</td>\n",
       "      <td>0.0</td>\n",
       "      <td>0.0</td>\n",
       "      <td>Безопасность компьютерных систем</td>\n",
       "      <td>Анализ неструктурированных данных</td>\n",
       "      <td>Глубинное обучение в обработке звука</td>\n",
       "      <td>Компьютерное зрение</td>\n",
       "      <td>Проектирование и разработка высоконагруженных ...</td>\n",
       "      <td>Генеративные модели в машинном обучении</td>\n",
       "      <td>Да</td>\n",
       "      <td>0.782609</td>\n",
       "      <td>172.0</td>\n",
       "      <td>DevOps</td>\n",
       "      <td>0.0</td>\n",
       "      <td>Безопасность компьютерных систем, Анализ нестр...</td>\n",
       "    </tr>\n",
       "    <tr>\n",
       "      <th>226</th>\n",
       "      <td>2020-05-14 21:03:02.916</td>\n",
       "      <td>5a9b8ac11ad05b39a58b0e04a263bf4c</td>\n",
       "      <td>1170</td>\n",
       "      <td>0.0</td>\n",
       "      <td>0.0</td>\n",
       "      <td>Глубинное обучение в обработке звука</td>\n",
       "      <td>Statistical Learning Theory</td>\n",
       "      <td>Сбор и обработка данных с помощью краудсорсинга</td>\n",
       "      <td>Конфликты и кооперация</td>\n",
       "      <td>Обучение с подкреплением</td>\n",
       "      <td>Генеративные модели в машинном обучении</td>\n",
       "      <td>Да</td>\n",
       "      <td>0.442029</td>\n",
       "      <td>171.0</td>\n",
       "      <td>DevOps</td>\n",
       "      <td>0.0</td>\n",
       "      <td>Глубинное обучение в обработке звука, Statisti...</td>\n",
       "    </tr>\n",
       "    <tr>\n",
       "      <th>227</th>\n",
       "      <td>2020-05-14 21:10:54.945</td>\n",
       "      <td>1bbbfae51794b83c769b634be8da7b8d</td>\n",
       "      <td>1078</td>\n",
       "      <td>0.0</td>\n",
       "      <td>0.0</td>\n",
       "      <td>Безопасность компьютерных систем</td>\n",
       "      <td>Высокопроизводительные вычисления</td>\n",
       "      <td>Анализ неструктурированных данных</td>\n",
       "      <td>Проектирование и разработка высоконагруженных ...</td>\n",
       "      <td>Методы сжатия и передачи медиаданных</td>\n",
       "      <td>Конфликты и кооперация</td>\n",
       "      <td>Да</td>\n",
       "      <td>0.789855</td>\n",
       "      <td>176.0</td>\n",
       "      <td>DevOps</td>\n",
       "      <td>0.0</td>\n",
       "      <td>Безопасность компьютерных систем, Высокопроизв...</td>\n",
       "    </tr>\n",
       "  </tbody>\n",
       "</table>\n",
       "</div>"
      ],
      "text/plain": [
       "                  timestamp                                id  rating  \\\n",
       "223 2020-05-14 20:23:21.662  d555d2805e1d93d4f023e57dc4c8f403     996   \n",
       "224 2020-05-14 20:47:13.833  253bbe1a2021d0404712a1e4acd22939    1106   \n",
       "225 2020-05-14 20:52:42.734  881b1a6fda195b354ae2edb396a69f5d    1084   \n",
       "226 2020-05-14 21:03:02.916  5a9b8ac11ad05b39a58b0e04a263bf4c    1170   \n",
       "227 2020-05-14 21:10:54.945  1bbbfae51794b83c769b634be8da7b8d    1078   \n",
       "\n",
       "     18_group  is_mi                                fall_1  \\\n",
       "223       0.0    0.0      Безопасность компьютерных систем   \n",
       "224       0.0    0.0      Безопасность компьютерных систем   \n",
       "225       0.0    0.0      Безопасность компьютерных систем   \n",
       "226       0.0    0.0  Глубинное обучение в обработке звука   \n",
       "227       0.0    0.0      Безопасность компьютерных систем   \n",
       "\n",
       "                                   fall_2  \\\n",
       "223  Глубинное обучение в обработке звука   \n",
       "224         Моделирование временных рядов   \n",
       "225     Анализ неструктурированных данных   \n",
       "226           Statistical Learning Theory   \n",
       "227     Высокопроизводительные вычисления   \n",
       "\n",
       "                                              fall_3  \\\n",
       "223            Байесовские методы машинного обучения   \n",
       "224                      Statistical Learning Theory   \n",
       "225             Глубинное обучение в обработке звука   \n",
       "226  Сбор и обработка данных с помощью краудсорсинга   \n",
       "227                Анализ неструктурированных данных   \n",
       "\n",
       "                                              spring_1  \\\n",
       "223                                Компьютерное зрение   \n",
       "224  Проектирование и разработка высоконагруженных ...   \n",
       "225                                Компьютерное зрение   \n",
       "226                             Конфликты и кооперация   \n",
       "227  Проектирование и разработка высоконагруженных ...   \n",
       "\n",
       "                                              spring_2  \\\n",
       "223                           Обучение с подкреплением   \n",
       "224                                   Численные методы   \n",
       "225  Проектирование и разработка высоконагруженных ...   \n",
       "226                           Обучение с подкреплением   \n",
       "227               Методы сжатия и передачи медиаданных   \n",
       "\n",
       "                                              spring_3 is_first_time  \\\n",
       "223  Проектирование и разработка высоконагруженных ...            Да   \n",
       "224               Методы сжатия и передачи медиаданных            Да   \n",
       "225            Генеративные модели в машинном обучении            Да   \n",
       "226            Генеративные модели в машинном обучении            Да   \n",
       "227                             Конфликты и кооперация            Да   \n",
       "\n",
       "     percentile  17_group blended  is_ml_student  \\\n",
       "223    0.963768     172.0  DevOps            0.0   \n",
       "224    0.673913     176.0  DevOps            0.0   \n",
       "225    0.782609     172.0  DevOps            0.0   \n",
       "226    0.442029     171.0  DevOps            0.0   \n",
       "227    0.789855     176.0  DevOps            0.0   \n",
       "\n",
       "                                               courses  \n",
       "223  Безопасность компьютерных систем, Глубинное об...  \n",
       "224  Безопасность компьютерных систем, Моделировани...  \n",
       "225  Безопасность компьютерных систем, Анализ нестр...  \n",
       "226  Глубинное обучение в обработке звука, Statisti...  \n",
       "227  Безопасность компьютерных систем, Высокопроизв...  "
      ]
     },
     "execution_count": 41,
     "metadata": {},
     "output_type": "execute_result"
    }
   ],
   "source": [
    "df.head()"
   ]
  },
  {
   "cell_type": "code",
   "execution_count": 42,
   "metadata": {},
   "outputs": [],
   "source": [
    "from matplotlib.backends.backend_pdf import PdfPages"
   ]
  },
  {
   "cell_type": "code",
   "execution_count": 43,
   "metadata": {},
   "outputs": [],
   "source": [
    "df['days'] = df['timestamp'].dt.date"
   ]
  },
  {
   "cell_type": "code",
   "execution_count": 44,
   "metadata": {},
   "outputs": [
    {
     "data": {
      "text/html": [
       "<div>\n",
       "<style scoped>\n",
       "    .dataframe tbody tr th:only-of-type {\n",
       "        vertical-align: middle;\n",
       "    }\n",
       "\n",
       "    .dataframe tbody tr th {\n",
       "        vertical-align: top;\n",
       "    }\n",
       "\n",
       "    .dataframe thead th {\n",
       "        text-align: right;\n",
       "    }\n",
       "</style>\n",
       "<table border=\"1\" class=\"dataframe\">\n",
       "  <thead>\n",
       "    <tr style=\"text-align: right;\">\n",
       "      <th></th>\n",
       "      <th>rating</th>\n",
       "    </tr>\n",
       "    <tr>\n",
       "      <th>days</th>\n",
       "      <th></th>\n",
       "    </tr>\n",
       "  </thead>\n",
       "  <tbody>\n",
       "    <tr>\n",
       "      <th>2020-05-14</th>\n",
       "      <td>1160.277778</td>\n",
       "    </tr>\n",
       "    <tr>\n",
       "      <th>2020-05-15</th>\n",
       "      <td>719.866667</td>\n",
       "    </tr>\n",
       "    <tr>\n",
       "      <th>2020-05-16</th>\n",
       "      <td>736.400000</td>\n",
       "    </tr>\n",
       "    <tr>\n",
       "      <th>2020-05-17</th>\n",
       "      <td>915.027027</td>\n",
       "    </tr>\n",
       "    <tr>\n",
       "      <th>2020-05-18</th>\n",
       "      <td>827.352679</td>\n",
       "    </tr>\n",
       "    <tr>\n",
       "      <th>2020-05-19</th>\n",
       "      <td>761.142857</td>\n",
       "    </tr>\n",
       "    <tr>\n",
       "      <th>2020-05-20</th>\n",
       "      <td>689.500000</td>\n",
       "    </tr>\n",
       "    <tr>\n",
       "      <th>2020-05-21</th>\n",
       "      <td>584.000000</td>\n",
       "    </tr>\n",
       "    <tr>\n",
       "      <th>2020-05-23</th>\n",
       "      <td>1080.500000</td>\n",
       "    </tr>\n",
       "    <tr>\n",
       "      <th>2020-05-24</th>\n",
       "      <td>670.500000</td>\n",
       "    </tr>\n",
       "  </tbody>\n",
       "</table>\n",
       "</div>"
      ],
      "text/plain": [
       "                 rating\n",
       "days                   \n",
       "2020-05-14  1160.277778\n",
       "2020-05-15   719.866667\n",
       "2020-05-16   736.400000\n",
       "2020-05-17   915.027027\n",
       "2020-05-18   827.352679\n",
       "2020-05-19   761.142857\n",
       "2020-05-20   689.500000\n",
       "2020-05-21   584.000000\n",
       "2020-05-23  1080.500000\n",
       "2020-05-24   670.500000"
      ]
     },
     "execution_count": 44,
     "metadata": {},
     "output_type": "execute_result"
    }
   ],
   "source": [
    "df.groupby(by='days').mean()[['rating']]"
   ]
  },
  {
   "cell_type": "code",
   "execution_count": 45,
   "metadata": {
    "id": "UTPLVeQvhLu2"
   },
   "outputs": [
    {
     "data": {
      "image/png": "[encoded data removed]",
      "text/plain": [
       "<Figure size 432x288 with 1 Axes>"
      ]
     },
     "metadata": {
      "needs_background": "light"
     },
     "output_type": "display_data"
    }
   ],
   "source": [
    "pp = PdfPages('pic_1.pdf')\n",
    "plt.bar(df['days'].unique(),df.groupby(by='days').mean()[['rating']]['rating'])\n",
    "plt.title('график средних рейтингов по дням получения ответов')\n",
    "plt.show()\n",
    "pp.close()"
   ]
  },
  {
   "cell_type": "markdown",
   "metadata": {
    "id": "AmsQg9_xhLu2"
   },
   "source": [
    "Сохраните график в формате pdf (так он останется векторизованным)."
   ]
  },
  {
   "cell_type": "markdown",
   "metadata": {
    "id": "b7SBV6_GhLu2"
   },
   "source": [
    "Еще одна билиотека для визуализации: [seaborn](https://jakevdp.github.io/PythonDataScienceHandbook/04.14-visualization-with-seaborn.html). Это настройка над matplotlib, иногда удобнее и красивее делать визуализации через неё. "
   ]
  },
  {
   "cell_type": "markdown",
   "metadata": {
    "id": "sCgWwjl0hLu2"
   },
   "source": [
    "### 2. Распределение студентов по курсам."
   ]
  },
  {
   "cell_type": "markdown",
   "metadata": {
    "id": "VNqXUpr4hLu3"
   },
   "source": [
    "Теперь вам нужно распределить студентов по осенним курсам по выбору, учитывая их предпочтения."
   ]
  },
  {
   "cell_type": "markdown",
   "metadata": {
    "id": "5cAR2FgphLu3"
   },
   "source": [
    "Алгоритм распределения студентов по курсам:\n",
    "1. По умолчанию на каждой дисциплине по выбору у 3 и 4 курсов может учиться 1 группа (до 30 студентов). Исключения описаны ниже. На blended-дисциплинах для четверокурсников количество мест не ограничено.\n",
    "2. Проводится первая волна отбора. Для каждой дисциплины формируется список тех, кто указал её первым приоритетом (если студент должен выбрать два курса по выбору, то для него дисциплины, которые он указал первым и вторым приоритетом, рассматриваются как дисциплины первого приоритета). Если желающих больше, чем мест, то выбирается топ по перцентилю рейтинга.\n",
    "3. На дисциплинах, где остались места после первой волны, формируются списки тех, кто выбрал их вторым приоритетом, и места заполняются лучшими по перцентили рейтинга студентами. После этого проводится такая же процедура для дисциплин третьего приоритета.\n",
    "4. Если студент не попал на необходимое количество курсов по итогам трёх волн, с ним связывается учебный офис и решает вопрос в индивидуальном порядке."
   ]
  },
  {
   "cell_type": "markdown",
   "metadata": {
    "id": "BiNKVwS6hLu3"
   },
   "source": [
    "Обращаем ваше внимание на следующие детали:\n",
    "\n",
    "- По умолчанию студент выбирает один осенний и один весенний курс по выбору, а также четверокурсники выбирают один blended-курс. Студенты групп 17-го года специализаций МОП и ТИ выбирают по 2 осенних и 2 весенних курса по выбору, также студенты групп 18' специализации МИ выбирают 2 осенних курса. <i>Для студентов, которые выбирают 2 курса (например, осенних) первый приоритет — <code>fall_1</code> и <code>fall_2</code>, второй приоритет — <code>fall_3</code>. Такие студенты участвуют только в двух волнах отбора</i>.\n",
    "\n",
    "- Студенты специализации МОП не могут выбрать весенним курсом по выбору Машинное обучение 2. <i>Если студент специализации МОП выбрал Машинное обучение 2, то его приоритеты сдвигаются. Из-за совпадений первого и второго курса по выбору двигать приоритеты не надо</i>.\n",
    "\n",
    "- Blended-курсы не трогайте, по ним не надо распределять, на другие курсы они никак не влияют.\n",
    "\n",
    "- Постарайтесь воздержаться от использования циклов там, где это возможно. <i>Допустимо итерироваться по <b>курсам</b>, на которые проводится отбор, и по <b>волнам</b> отбора. Если вы придумаете, как обойтись и без этих циклов, то на усмотрение проверяющего могут быть добавлены бонусные баллы. <b>Дублирование кода не признается успешным избавлением от циклов</b></i>\n",
    "\n",
    "- На выходе ожидается файл res_fall.csv с результатами распределения на осенние курсы по выбору. Файл должен быть следующего формата:\n",
    "\n",
    "    * три столбца: ID, course1, course2\n",
    "    \n",
    "    * Если студент не попал на курс, но должен был, то вместо названия курса в ячейке должна быть строка \"???\"\n",
    "    \n",
    "    * Если студент должен выбрать только один курс, то в колонке course2 для него должна стоять строка \"-\"\n",
    "    \n",
    "    * Если студент должен выбрать два курса по выбору, то порядок в колонках course1 и course2 не важен.\n",
    "    \n",
    "    * Формат csv: для сохранения воспользуйтесь df.to_csv('solution.csv', index=None)\n",
    "    \n",
    "\n",
    "Для работы вам могут понадобиться следующие данные:\n",
    "\n",
    "- Результаты опроса (вы уже использовали этот файл в первой части задания, но на всякий случай ссылка: https://www.dropbox.com/s/f4rm8sjc3v99p0m/_end_seminar.xlsx?dl=0)\n",
    "\n",
    "- Соответствие номеров групп специализациям:\n",
    "\n",
    "    * 171, 172 - МОП; 173 - ТИ; 174 — АДИС; 175, 176 — РС; 177 — АПР\n",
    "    \n",
    "    * У студентов 18-го года номера групп соответствуют номерам до распределения по специализациям.\n",
    "\n",
    "- Ограничения по количеству мест на курсах по выбору:\n",
    "\n",
    "    * Осенние: везде 30 мест, кроме Statistical Learning Theory (60 мест), Высокопроизводительных вычислений (60 мест), Анализа неструктурированных данных ($\\infty$ мест)\n",
    "\n",
    "    * Весенние: везде 30 мест, кроме Обучения с подкреплением (60 мест), Анализа данных в бизнесе (60 мест).\n",
    "\n",
    "\n",
    "Кстати, убедитесь, что в данных больше нет пропусков и повторных записей."
   ]
  },
  {
   "cell_type": "markdown",
   "metadata": {
    "id": "o5t55IcQhLu4"
   },
   "source": [
    "#### 0. Проверка\n",
    "\n",
    "Для начала давайте убедимся, что вы успешно выполнили задания первой части и проверим ваши данные на наличие пропусков и повторов:"
   ]
  },
  {
   "cell_type": "code",
   "execution_count": 46,
   "metadata": {},
   "outputs": [],
   "source": [
    "df_copy = df.copy()"
   ]
  },
  {
   "cell_type": "code",
   "execution_count": 47,
   "metadata": {
    "id": "34HWEdVdhLu4"
   },
   "outputs": [],
   "source": [
    "assert df.shape[0] == 347, 'В таблице остались повторы или потеряны данные'\n",
    "\n",
    "assert df.isna().sum().sum() == 0, 'В таблице остались пропуски'"
   ]
  },
  {
   "cell_type": "markdown",
   "metadata": {
    "id": "_ImUFyG3hLu4"
   },
   "source": [
    "Если вы не получили AssertionError, то можете продолжать."
   ]
  },
  {
   "cell_type": "markdown",
   "metadata": {
    "id": "LTGSwwvAhLu4"
   },
   "source": [
    "#### 1. [1 балл] Создайте новый признак, обозначающий, сколько осенних курсов должен выбрать студент\n",
    "\n",
    "В этом вам может помочь информация о специализации и группе стундента."
   ]
  },
  {
   "cell_type": "code",
   "execution_count": 48,
   "metadata": {},
   "outputs": [],
   "source": [
    "df['fall_courses'] = 1"
   ]
  },
  {
   "cell_type": "code",
   "execution_count": 49,
   "metadata": {},
   "outputs": [],
   "source": [
    "df['fall_courses'] = np.where(\n",
    "    (df['17_group'] == 171) | \n",
    "    (df['17_group'] == 172) | \n",
    "    (df['17_group'] == 173) |\n",
    "    (df['is_mi'] == 1), 2, df['fall_courses']\n",
    ")"
   ]
  },
  {
   "cell_type": "markdown",
   "metadata": {
    "id": "S47aq1sQhLu4"
   },
   "source": [
    "Проверка:"
   ]
  },
  {
   "cell_type": "code",
   "execution_count": 50,
   "metadata": {
    "id": "OlOgzDKDhLu5"
   },
   "outputs": [],
   "source": [
    "col_name = 'fall_courses'  # insert your new column name as str\n",
    "\n",
    "assert(df[df['id'] == '2662600c2c37e11e62f6ee0b88452f22'][col_name] == 2).all()\n",
    "assert(df[df['id'] == 'd555d2805e1d93d4f023e57dc4c8f403'][col_name] == 2).all()\n",
    "assert(df[df['id'] == '8fe79f84f36e3a5d2d6745621321302c'][col_name] == 1).all()\n",
    "assert(df[df['id'] == 'e4caca755ee0bdd711e18fb8084958b5'][col_name] == 1).all()"
   ]
  },
  {
   "cell_type": "markdown",
   "metadata": {
    "id": "VtQYhwuPhLu5"
   },
   "source": [
    "#### 2. [2 балла] Распределите студентов в соответствии с первым приоритетом"
   ]
  },
  {
   "cell_type": "code",
   "execution_count": 51,
   "metadata": {
    "id": "6gWfT3vqhLu5"
   },
   "outputs": [],
   "source": [
    "# распределим по годам\n",
    "df_fall_1_17 = df[df['17_group']>0][['id','17_group', 'percentile', 'fall_1', 'fall_2', 'fall_courses']]\n",
    "df_fall_1_18 = df[df['18_group']>0][['id','18_group', 'percentile', 'fall_1', 'fall_2', 'fall_courses']]"
   ]
  },
  {
   "cell_type": "code",
   "execution_count": 52,
   "metadata": {},
   "outputs": [
    {
     "data": {
      "text/plain": [
       "9"
      ]
     },
     "execution_count": 52,
     "metadata": {},
     "output_type": "execute_result"
    }
   ],
   "source": [
    "len(df_fall_1_18['fall_1'].unique())"
   ]
  },
  {
   "cell_type": "code",
   "execution_count": 53,
   "metadata": {},
   "outputs": [],
   "source": [
    "# Создадим список названия курсов и количества мест\n",
    "subjects_17 = list(map(lambda x: [x, 30], df_fall_1_17['fall_1'].unique()))\n",
    "subjects_18 = list(map(lambda x: [x, 30], df_fall_1_18['fall_1'].unique()))\n",
    "\n",
    "subjects_17[2][1] = 60\n",
    "subjects_17[3][1] = 60\n",
    "subjects_17[4][1] = 0\n",
    "\n",
    "\n",
    "subjects_18[1][1] = 60\n",
    "subjects_18[3][1] = 60"
   ]
  },
  {
   "cell_type": "code",
   "execution_count": 54,
   "metadata": {
    "tags": []
   },
   "outputs": [],
   "source": [
    "# исключение (поскольку кол-во мест неограниченно)\n",
    "subjects_17.remove(['Анализ неструктурированных данных', 0]) "
   ]
  },
  {
   "cell_type": "code",
   "execution_count": 55,
   "metadata": {},
   "outputs": [],
   "source": [
    "# первая волна\n",
    "\n",
    "# 4-ый курс\n",
    "res_17 = list(\n",
    "    map(\n",
    "        lambda x: df_fall_1_17[\n",
    "            (df_fall_1_17['fall_1'] == x[0]) |\n",
    "            ((df_fall_1_17['fall_2'] == x[0]) & (df_fall_1_17['fall_courses'] == 2))\n",
    "        ].sort_values('percentile')[:x[1]],\n",
    "        subjects_17\n",
    "    )\n",
    ")\n",
    "# 3-ий курс\n",
    "res_18 = list(\n",
    "    map(\n",
    "        lambda x: df_fall_1_18[\n",
    "            (df_fall_1_18['fall_1'] == x[0]) |\n",
    "            ((df_fall_1_18['fall_2'] == x[0]) & (df_fall_1_18['fall_courses'] == 2))\n",
    "        ].sort_values('percentile')[:x[1]],\n",
    "        subjects_18\n",
    "    )\n",
    ")\n",
    "\n",
    "# отдельно рассматривает 4-ый курс 'Анализ неструктурированных данных'\n",
    "res_17.append(\n",
    "    df_fall_1_17[\n",
    "        (df_fall_1_17['fall_1'] == 'Анализ неструктурированных данных') |\n",
    "                 ((df_fall_1_17['fall_2'] == 'Анализ неструктурированных данных') &\n",
    "                  (df_fall_1_17['fall_courses'] == 2))\n",
    "                ].sort_values('percentile')\n",
    ")"
   ]
  },
  {
   "cell_type": "code",
   "execution_count": 56,
   "metadata": {},
   "outputs": [
    {
     "data": {
      "text/plain": [
       "'Безопасность компьютерных систем'"
      ]
     },
     "execution_count": 56,
     "metadata": {},
     "output_type": "execute_result"
    }
   ],
   "source": [
    "subjects_17[0][0]"
   ]
  },
  {
   "cell_type": "code",
   "execution_count": 57,
   "metadata": {},
   "outputs": [],
   "source": [
    "res_17[0]['win'] = 'Безопасность компьютерных систем'"
   ]
  },
  {
   "cell_type": "code",
   "execution_count": 58,
   "metadata": {},
   "outputs": [],
   "source": [
    "# Добавляем отдельный столбец с предметом\n",
    "for i in range(len(subjects_17)):\n",
    "    res_17[i]['win'] = subjects_17[i][0]\n",
    "res_17[8]['win'] = 'Анализ неструктурированных данных'\n",
    "\n",
    "for i in range(len(subjects_18)):\n",
    "    res_18[i]['win'] = subjects_18[i][0]"
   ]
  },
  {
   "cell_type": "code",
   "execution_count": 59,
   "metadata": {},
   "outputs": [],
   "source": [
    "# объединяем все таблицы \n",
    "\n",
    "res_first_wave = res_17[0]\n",
    "\n",
    "for i in range(1, len(res_17)):\n",
    "    res_first_wave = res_first_wave.append(res_17[i])\n",
    "    \n",
    "for i in range(len(res_18)):    \n",
    "    res_first_wave = res_first_wave.append(res_18[i])"
   ]
  },
  {
   "cell_type": "code",
   "execution_count": 60,
   "metadata": {},
   "outputs": [],
   "source": [
    "res_first_wave = res_first_wave.drop_duplicates()"
   ]
  },
  {
   "cell_type": "code",
   "execution_count": 61,
   "metadata": {},
   "outputs": [
    {
     "data": {
      "text/html": [
       "<div>\n",
       "<style scoped>\n",
       "    .dataframe tbody tr th:only-of-type {\n",
       "        vertical-align: middle;\n",
       "    }\n",
       "\n",
       "    .dataframe tbody tr th {\n",
       "        vertical-align: top;\n",
       "    }\n",
       "\n",
       "    .dataframe thead th {\n",
       "        text-align: right;\n",
       "    }\n",
       "</style>\n",
       "<table border=\"1\" class=\"dataframe\">\n",
       "  <thead>\n",
       "    <tr style=\"text-align: right;\">\n",
       "      <th></th>\n",
       "      <th>win</th>\n",
       "    </tr>\n",
       "    <tr>\n",
       "      <th>id</th>\n",
       "      <th></th>\n",
       "    </tr>\n",
       "  </thead>\n",
       "  <tbody>\n",
       "    <tr>\n",
       "      <th>014b72217e20370dab7acc48b20c47be</th>\n",
       "      <td>[Сбор и обработка данных с помощью краудсорсинга]</td>\n",
       "    </tr>\n",
       "    <tr>\n",
       "      <th>01b072a0cdb45814fc4ab8ca3e621f0e</th>\n",
       "      <td>[Сбор и обработка данных с помощью краудсорсин...</td>\n",
       "    </tr>\n",
       "    <tr>\n",
       "      <th>044e038535ae5d2ff037150b77fdc6d1</th>\n",
       "      <td>[Безопасность компьютерных систем]</td>\n",
       "    </tr>\n",
       "    <tr>\n",
       "      <th>04b88fcbe5ba58aa8369c7de5e574de0</th>\n",
       "      <td>[Безопасность компьютерных систем]</td>\n",
       "    </tr>\n",
       "    <tr>\n",
       "      <th>04bcb5c9d23813ffa940e1febb27fadc</th>\n",
       "      <td>[Теория баз данных]</td>\n",
       "    </tr>\n",
       "    <tr>\n",
       "      <th>...</th>\n",
       "      <td>...</td>\n",
       "    </tr>\n",
       "    <tr>\n",
       "      <th>feb53dcdd28fff9dc4a981c3419fea6f</th>\n",
       "      <td>[Язык SQL]</td>\n",
       "    </tr>\n",
       "    <tr>\n",
       "      <th>fecff7bd30995d16b59fb392d47b3760</th>\n",
       "      <td>[Безопасность компьютерных систем, Анализ нест...</td>\n",
       "    </tr>\n",
       "    <tr>\n",
       "      <th>ff549c331d45453052f28ad2614afda9</th>\n",
       "      <td>[Моделирование временных рядов]</td>\n",
       "    </tr>\n",
       "    <tr>\n",
       "      <th>ffc04c64d068f8d85e4dc44e7f297ecc</th>\n",
       "      <td>[Statistical Learning Theory, Байесовские мето...</td>\n",
       "    </tr>\n",
       "    <tr>\n",
       "      <th>ffc58d371e2f52e1c7f45d49d3d629d0</th>\n",
       "      <td>[Матричные вычисления]</td>\n",
       "    </tr>\n",
       "  </tbody>\n",
       "</table>\n",
       "<p>299 rows × 1 columns</p>\n",
       "</div>"
      ],
      "text/plain": [
       "                                                                                win\n",
       "id                                                                                 \n",
       "014b72217e20370dab7acc48b20c47be  [Сбор и обработка данных с помощью краудсорсинга]\n",
       "01b072a0cdb45814fc4ab8ca3e621f0e  [Сбор и обработка данных с помощью краудсорсин...\n",
       "044e038535ae5d2ff037150b77fdc6d1                 [Безопасность компьютерных систем]\n",
       "04b88fcbe5ba58aa8369c7de5e574de0                 [Безопасность компьютерных систем]\n",
       "04bcb5c9d23813ffa940e1febb27fadc                                [Теория баз данных]\n",
       "...                                                                             ...\n",
       "feb53dcdd28fff9dc4a981c3419fea6f                                         [Язык SQL]\n",
       "fecff7bd30995d16b59fb392d47b3760  [Безопасность компьютерных систем, Анализ нест...\n",
       "ff549c331d45453052f28ad2614afda9                    [Моделирование временных рядов]\n",
       "ffc04c64d068f8d85e4dc44e7f297ecc  [Statistical Learning Theory, Байесовские мето...\n",
       "ffc58d371e2f52e1c7f45d49d3d629d0                             [Матричные вычисления]\n",
       "\n",
       "[299 rows x 1 columns]"
      ]
     },
     "execution_count": 61,
     "metadata": {},
     "output_type": "execute_result"
    }
   ],
   "source": [
    "# создаем табличку result и закидываем туда результаты первой волны\n",
    "result = pd.DataFrame(res_first_wave.groupby(by='id')['win'].unique())\n",
    "result"
   ]
  },
  {
   "cell_type": "code",
   "execution_count": 62,
   "metadata": {},
   "outputs": [
    {
     "data": {
      "text/html": [
       "<div>\n",
       "<style scoped>\n",
       "    .dataframe tbody tr th:only-of-type {\n",
       "        vertical-align: middle;\n",
       "    }\n",
       "\n",
       "    .dataframe tbody tr th {\n",
       "        vertical-align: top;\n",
       "    }\n",
       "\n",
       "    .dataframe thead th {\n",
       "        text-align: right;\n",
       "    }\n",
       "</style>\n",
       "<table border=\"1\" class=\"dataframe\">\n",
       "  <thead>\n",
       "    <tr style=\"text-align: right;\">\n",
       "      <th></th>\n",
       "      <th>win</th>\n",
       "      <th>course_1</th>\n",
       "      <th>course_2</th>\n",
       "    </tr>\n",
       "    <tr>\n",
       "      <th>id</th>\n",
       "      <th></th>\n",
       "      <th></th>\n",
       "      <th></th>\n",
       "    </tr>\n",
       "  </thead>\n",
       "  <tbody>\n",
       "    <tr>\n",
       "      <th>014b72217e20370dab7acc48b20c47be</th>\n",
       "      <td>[Сбор и обработка данных с помощью краудсорсинга]</td>\n",
       "      <td>Сбор и обработка данных с помощью краудсорсинга</td>\n",
       "      <td>NaN</td>\n",
       "    </tr>\n",
       "    <tr>\n",
       "      <th>01b072a0cdb45814fc4ab8ca3e621f0e</th>\n",
       "      <td>[Сбор и обработка данных с помощью краудсорсин...</td>\n",
       "      <td>Сбор и обработка данных с помощью краудсорсинга</td>\n",
       "      <td>Анализ неструктурированных данных</td>\n",
       "    </tr>\n",
       "    <tr>\n",
       "      <th>044e038535ae5d2ff037150b77fdc6d1</th>\n",
       "      <td>[Безопасность компьютерных систем]</td>\n",
       "      <td>Безопасность компьютерных систем</td>\n",
       "      <td>NaN</td>\n",
       "    </tr>\n",
       "    <tr>\n",
       "      <th>04b88fcbe5ba58aa8369c7de5e574de0</th>\n",
       "      <td>[Безопасность компьютерных систем]</td>\n",
       "      <td>Безопасность компьютерных систем</td>\n",
       "      <td>NaN</td>\n",
       "    </tr>\n",
       "    <tr>\n",
       "      <th>04bcb5c9d23813ffa940e1febb27fadc</th>\n",
       "      <td>[Теория баз данных]</td>\n",
       "      <td>Теория баз данных</td>\n",
       "      <td>NaN</td>\n",
       "    </tr>\n",
       "  </tbody>\n",
       "</table>\n",
       "</div>"
      ],
      "text/plain": [
       "                                                                                win  \\\n",
       "id                                                                                    \n",
       "014b72217e20370dab7acc48b20c47be  [Сбор и обработка данных с помощью краудсорсинга]   \n",
       "01b072a0cdb45814fc4ab8ca3e621f0e  [Сбор и обработка данных с помощью краудсорсин...   \n",
       "044e038535ae5d2ff037150b77fdc6d1                 [Безопасность компьютерных систем]   \n",
       "04b88fcbe5ba58aa8369c7de5e574de0                 [Безопасность компьютерных систем]   \n",
       "04bcb5c9d23813ffa940e1febb27fadc                                [Теория баз данных]   \n",
       "\n",
       "                                                                         course_1  \\\n",
       "id                                                                                  \n",
       "014b72217e20370dab7acc48b20c47be  Сбор и обработка данных с помощью краудсорсинга   \n",
       "01b072a0cdb45814fc4ab8ca3e621f0e  Сбор и обработка данных с помощью краудсорсинга   \n",
       "044e038535ae5d2ff037150b77fdc6d1                 Безопасность компьютерных систем   \n",
       "04b88fcbe5ba58aa8369c7de5e574de0                 Безопасность компьютерных систем   \n",
       "04bcb5c9d23813ffa940e1febb27fadc                                Теория баз данных   \n",
       "\n",
       "                                                           course_2  \n",
       "id                                                                   \n",
       "014b72217e20370dab7acc48b20c47be                                NaN  \n",
       "01b072a0cdb45814fc4ab8ca3e621f0e  Анализ неструктурированных данных  \n",
       "044e038535ae5d2ff037150b77fdc6d1                                NaN  \n",
       "04b88fcbe5ba58aa8369c7de5e574de0                                NaN  \n",
       "04bcb5c9d23813ffa940e1febb27fadc                                NaN  "
      ]
     },
     "execution_count": 62,
     "metadata": {},
     "output_type": "execute_result"
    }
   ],
   "source": [
    "# раскидываем по формату\n",
    "result['course_1'] = result['win'].str[0]\n",
    "result['course_2'] = result['win'].str[1] \n",
    "result[:5]"
   ]
  },
  {
   "cell_type": "markdown",
   "metadata": {
    "id": "vc5zXP5hhLu5"
   },
   "source": [
    "Здесь для проверки приведена таблица, в которой есть 2 дополнительные колонки:\n",
    "    \n",
    "    1) is_first_place - является ли студент лучшим по перцентили хотя бы на одном из курсов, куда он был зачислен \n",
    "    (True / NaN)\n",
    "    \n",
    "    2) is_last_place  - является ли студент худшим по перцентили хотя бы на одном из курсов, куда он был зачислен (True / NaN)"
   ]
  },
  {
   "cell_type": "code",
   "execution_count": 63,
   "metadata": {
    "id": "uZTkGEq5hLu5"
   },
   "outputs": [],
   "source": [
    "!wget  -O '2_task_check.csv' -q 'https://www.dropbox.com/s/v8o2zzq3iz5gc9w/_2_task_check.csv?dl=0'\n",
    "check_df = pd.read_csv('2_task_check.csv')"
   ]
  },
  {
   "cell_type": "code",
   "execution_count": 64,
   "metadata": {},
   "outputs": [],
   "source": [
    "#df_copy = df.copy()\n",
    "df_copy['is_first_place'] = np.NaN\n",
    "df_copy['is_last_place'] = np.NaN"
   ]
  },
  {
   "cell_type": "markdown",
   "metadata": {
    "id": "E_fbyB9qhLu5"
   },
   "source": [
    "После распределения студентов в соответствии с первым приоритетом добавьте в свой датафрейм аналогичные признаки и запустите проверку:"
   ]
  },
  {
   "cell_type": "code",
   "execution_count": 65,
   "metadata": {},
   "outputs": [],
   "source": [
    "# написать проверку для студентов на первое и последнее место в пройденных списках"
   ]
  },
  {
   "cell_type": "code",
   "execution_count": 66,
   "metadata": {},
   "outputs": [
    {
     "name": "stdout",
     "output_type": "stream",
     "text": [
      "bb29d9b9230528a4873f91abce2095b8\n",
      "67e4ec4fe5c0601815692fbd6d403fb7\n",
      "3a7326c9e355a67d3805824ca34c4bc5\n",
      "3a7326c9e355a67d3805824ca34c4bc5\n",
      "67e4ec4fe5c0601815692fbd6d403fb7\n",
      "dc7f705ae386b0457542a833571d51d0\n",
      "e3b41563b7ea61def9fdd3623df1c783\n",
      "93da3d13e0ae40a97367b0c16d497399\n",
      "7f98e4487c7a910567f2d841e5e764c3\n"
     ]
    },
    {
     "data": {
      "text/plain": [
       "(347, 20)"
      ]
     },
     "execution_count": 66,
     "metadata": {},
     "output_type": "execute_result"
    }
   ],
   "source": [
    "for i in range(len(res_17)):\n",
    "    print(res_17[i].iloc[0][0])\n",
    "    df_copy.loc[(df_copy['id'] == res_17[i].iloc[-1][0]), 'is_last_place'] = True\n",
    "    df_copy.loc[(df_copy['id'] == res_17[i].iloc[0][0]), 'is_first_place'] = True\n",
    "    \n",
    "    df_copy.loc[(df_copy['id'] == res_18[i].iloc[-1][0]), 'is_last_place'] = True\n",
    "    df_copy.loc[(df_copy['id'] == res_18[i].iloc[0][0]), 'is_first_place'] = True\n",
    "df_copy.shape"
   ]
  },
  {
   "cell_type": "code",
   "execution_count": 67,
   "metadata": {},
   "outputs": [],
   "source": [
    "df_copy.sort_index(inplace=True) #df.reset_index(drop=True)"
   ]
  },
  {
   "cell_type": "markdown",
   "metadata": {},
   "source": [
    "Я не отправила вовремя дз именно из-за этого ассерта!!!! И так и не смогла понять, в чем ошибка(((\n",
    "p.s. сижу на Покре в вскр пол девятого вечера!!!"
   ]
  },
  {
   "cell_type": "markdown",
   "metadata": {},
   "source": [
    "<img src=\"https://image.shutterstock.com/image-photo/cute-dog-pug-breed-lying-600w-1175191675.jpg\" style=\"width: 600px\">"
   ]
  },
  {
   "cell_type": "code",
   "execution_count": 68,
   "metadata": {
    "id": "GOAzQeYehLu6"
   },
   "outputs": [],
   "source": [
    "# \n",
    "# fir_col_name = 'is_first_place'    # insert name of your new column with is_first_place as str\n",
    "# last_col_name = 'is_last_place'   # insert name of your new column with is_last_place as str\n",
    "\n",
    "# assert(\n",
    "#     (\n",
    "#         df[\n",
    "#             df[fir_col_name].isna() == False\n",
    "#         ][\n",
    "#             ['id']\n",
    "#         ].sort_values('id').reset_index(drop=True)\n",
    "#         ==\n",
    "#         check_df[\n",
    "#             check_df[fir_col_name].isna() == False\n",
    "#         ][\n",
    "#             ['id']\n",
    "#         ].sort_values('id').reset_index(drop=True)\n",
    "#     ).id.values\n",
    "# ).all()\n",
    "\n",
    "# assert((df[df[last_col_name].isna() == False][['id']].sort_values('id').reset_index(drop=True)\n",
    "#        == \n",
    "#        check_df[check_df['is_last_place'].isna() == False][['id']].sort_values('id').reset_index(drop=True)\n",
    "#       ).id.values).all()"
   ]
  },
  {
   "cell_type": "markdown",
   "metadata": {
    "id": "RO6DwNNFhLu6"
   },
   "source": [
    "#### 3. [3 балла] Проведите все три волны отбора студентов на курсы по выбору"
   ]
  },
  {
   "cell_type": "code",
   "execution_count": 69,
   "metadata": {
    "id": "jn2OOrLjhLu6"
   },
   "outputs": [],
   "source": [
    "# 2 волна"
   ]
  },
  {
   "cell_type": "code",
   "execution_count": 70,
   "metadata": {},
   "outputs": [],
   "source": [
    "# посмотрим количество мест на курсах, которое осталось после первой волны\n",
    "choice_one_17 = pd.DataFrame(\n",
    "    res_first_wave[res_first_wave['17_group'] > 0]['win'].value_counts()\n",
    ").reset_index().sort_values(by='index')\n",
    "\n",
    "choice_one_17 = choice_one_17.loc[\n",
    "    choice_one_17['index'] != 'Анализ неструктурированных данных'\n",
    "].reset_index(drop=True) \n",
    "\n",
    "# посмотрим количество мест на курсах, которое осталось после первой волны\n",
    "choice_one_18 = pd.DataFrame(\n",
    "    res_first_wave[\n",
    "        res_first_wave['18_group'] > 0\n",
    "    ]['win'].value_counts()\n",
    ")\\\n",
    ".reset_index()\\\n",
    ".sort_values(by='index')\\\n",
    ".reset_index(drop=True)"
   ]
  },
  {
   "cell_type": "code",
   "execution_count": 71,
   "metadata": {},
   "outputs": [
    {
     "data": {
      "text/html": [
       "<div>\n",
       "<style scoped>\n",
       "    .dataframe tbody tr th:only-of-type {\n",
       "        vertical-align: middle;\n",
       "    }\n",
       "\n",
       "    .dataframe tbody tr th {\n",
       "        vertical-align: top;\n",
       "    }\n",
       "\n",
       "    .dataframe thead th {\n",
       "        text-align: right;\n",
       "    }\n",
       "</style>\n",
       "<table border=\"1\" class=\"dataframe\">\n",
       "  <thead>\n",
       "    <tr style=\"text-align: right;\">\n",
       "      <th></th>\n",
       "      <th>index</th>\n",
       "      <th>win</th>\n",
       "    </tr>\n",
       "  </thead>\n",
       "  <tbody>\n",
       "    <tr>\n",
       "      <th>0</th>\n",
       "      <td>Statistical Learning Theory</td>\n",
       "      <td>15</td>\n",
       "    </tr>\n",
       "    <tr>\n",
       "      <th>1</th>\n",
       "      <td>Безопасность компьютерных систем</td>\n",
       "      <td>30</td>\n",
       "    </tr>\n",
       "    <tr>\n",
       "      <th>2</th>\n",
       "      <td>Высокопроизводительные вычисления</td>\n",
       "      <td>17</td>\n",
       "    </tr>\n",
       "    <tr>\n",
       "      <th>3</th>\n",
       "      <td>Матричные вычисления</td>\n",
       "      <td>15</td>\n",
       "    </tr>\n",
       "    <tr>\n",
       "      <th>4</th>\n",
       "      <td>Моделирование временных рядов</td>\n",
       "      <td>23</td>\n",
       "    </tr>\n",
       "    <tr>\n",
       "      <th>5</th>\n",
       "      <td>Принятие решений в условиях риска и неопределё...</td>\n",
       "      <td>5</td>\n",
       "    </tr>\n",
       "    <tr>\n",
       "      <th>6</th>\n",
       "      <td>Сбор и обработка данных с помощью краудсорсинга</td>\n",
       "      <td>30</td>\n",
       "    </tr>\n",
       "    <tr>\n",
       "      <th>7</th>\n",
       "      <td>Теория баз данных</td>\n",
       "      <td>14</td>\n",
       "    </tr>\n",
       "    <tr>\n",
       "      <th>8</th>\n",
       "      <td>Язык SQL</td>\n",
       "      <td>29</td>\n",
       "    </tr>\n",
       "  </tbody>\n",
       "</table>\n",
       "</div>"
      ],
      "text/plain": [
       "                                               index  win\n",
       "0                        Statistical Learning Theory   15\n",
       "1                   Безопасность компьютерных систем   30\n",
       "2                  Высокопроизводительные вычисления   17\n",
       "3                               Матричные вычисления   15\n",
       "4                      Моделирование временных рядов   23\n",
       "5  Принятие решений в условиях риска и неопределё...    5\n",
       "6    Сбор и обработка данных с помощью краудсорсинга   30\n",
       "7                                  Теория баз данных   14\n",
       "8                                           Язык SQL   29"
      ]
     },
     "execution_count": 71,
     "metadata": {},
     "output_type": "execute_result"
    }
   ],
   "source": [
    "choice_one_18\n"
   ]
  },
  {
   "cell_type": "code",
   "execution_count": 72,
   "metadata": {},
   "outputs": [
    {
     "data": {
      "text/html": [
       "<div>\n",
       "<style scoped>\n",
       "    .dataframe tbody tr th:only-of-type {\n",
       "        vertical-align: middle;\n",
       "    }\n",
       "\n",
       "    .dataframe tbody tr th {\n",
       "        vertical-align: top;\n",
       "    }\n",
       "\n",
       "    .dataframe thead th {\n",
       "        text-align: right;\n",
       "    }\n",
       "</style>\n",
       "<table border=\"1\" class=\"dataframe\">\n",
       "  <thead>\n",
       "    <tr style=\"text-align: right;\">\n",
       "      <th></th>\n",
       "      <th>timestamp</th>\n",
       "      <th>id</th>\n",
       "      <th>rating</th>\n",
       "      <th>18_group</th>\n",
       "      <th>is_mi</th>\n",
       "      <th>fall_1</th>\n",
       "      <th>fall_2</th>\n",
       "      <th>fall_3</th>\n",
       "      <th>spring_1</th>\n",
       "      <th>spring_2</th>\n",
       "      <th>spring_3</th>\n",
       "      <th>is_first_time</th>\n",
       "      <th>percentile</th>\n",
       "      <th>17_group</th>\n",
       "      <th>blended</th>\n",
       "      <th>is_ml_student</th>\n",
       "      <th>courses</th>\n",
       "      <th>days</th>\n",
       "      <th>fall_courses</th>\n",
       "    </tr>\n",
       "  </thead>\n",
       "  <tbody>\n",
       "    <tr>\n",
       "      <th>2</th>\n",
       "      <td>2020-05-15 03:12:41.480</td>\n",
       "      <td>30f3653fc176d54e89ac3179c455c6dd</td>\n",
       "      <td>624</td>\n",
       "      <td>185.0</td>\n",
       "      <td>0.0</td>\n",
       "      <td>Безопасность компьютерных систем</td>\n",
       "      <td>Матричные вычисления</td>\n",
       "      <td>Моделирование временных рядов</td>\n",
       "      <td>Дискретная оптимизация</td>\n",
       "      <td>Машинное обучение 2</td>\n",
       "      <td>Численные методы</td>\n",
       "      <td>Да</td>\n",
       "      <td>0.538117</td>\n",
       "      <td>0.0</td>\n",
       "      <td></td>\n",
       "      <td>0.0</td>\n",
       "      <td>Безопасность компьютерных систем, Матричные вы...</td>\n",
       "      <td>2020-05-15</td>\n",
       "      <td>1</td>\n",
       "    </tr>\n",
       "    <tr>\n",
       "      <th>16</th>\n",
       "      <td>2020-05-15 16:58:06.959</td>\n",
       "      <td>64173586abab6f7a172946c8c74bde0d</td>\n",
       "      <td>630</td>\n",
       "      <td>181.0</td>\n",
       "      <td>0.0</td>\n",
       "      <td>Безопасность компьютерных систем</td>\n",
       "      <td>Высокопроизводительные вычисления</td>\n",
       "      <td>Язык SQL</td>\n",
       "      <td>Компьютерные сети</td>\n",
       "      <td>Промышленное программирование на языке Java</td>\n",
       "      <td>Дискретная оптимизация</td>\n",
       "      <td>Да</td>\n",
       "      <td>0.502242</td>\n",
       "      <td>0.0</td>\n",
       "      <td></td>\n",
       "      <td>0.0</td>\n",
       "      <td>Безопасность компьютерных систем, Высокопроизв...</td>\n",
       "      <td>2020-05-15</td>\n",
       "      <td>1</td>\n",
       "    </tr>\n",
       "    <tr>\n",
       "      <th>20</th>\n",
       "      <td>2020-05-15 21:55:16.699</td>\n",
       "      <td>f0f6f3881894172a0f04e79b554b49e6</td>\n",
       "      <td>673</td>\n",
       "      <td>181.0</td>\n",
       "      <td>0.0</td>\n",
       "      <td>Безопасность компьютерных систем</td>\n",
       "      <td>Сбор и обработка данных с помощью краудсорсинга</td>\n",
       "      <td>Принятие решений в условиях риска и неопределё...</td>\n",
       "      <td>Машинное обучение 2</td>\n",
       "      <td>Численные методы</td>\n",
       "      <td>Дополнительные главы прикладной статистики</td>\n",
       "      <td>Да</td>\n",
       "      <td>0.300448</td>\n",
       "      <td>0.0</td>\n",
       "      <td></td>\n",
       "      <td>1.0</td>\n",
       "      <td>Безопасность компьютерных систем, Сбор и обраб...</td>\n",
       "      <td>2020-05-15</td>\n",
       "      <td>1</td>\n",
       "    </tr>\n",
       "    <tr>\n",
       "      <th>23</th>\n",
       "      <td>2020-05-15 22:30:31.902</td>\n",
       "      <td>a65d50ef4fadfac64508a54e972d8623</td>\n",
       "      <td>626</td>\n",
       "      <td>184.0</td>\n",
       "      <td>0.0</td>\n",
       "      <td>Безопасность компьютерных систем</td>\n",
       "      <td>Высокопроизводительные вычисления</td>\n",
       "      <td>Матричные вычисления</td>\n",
       "      <td>Дискретная оптимизация</td>\n",
       "      <td>Численные методы</td>\n",
       "      <td>Анализ данных в бизнесе</td>\n",
       "      <td>Нет</td>\n",
       "      <td>0.526906</td>\n",
       "      <td>0.0</td>\n",
       "      <td></td>\n",
       "      <td>0.0</td>\n",
       "      <td>Безопасность компьютерных систем, Высокопроизв...</td>\n",
       "      <td>2020-05-15</td>\n",
       "      <td>1</td>\n",
       "    </tr>\n",
       "    <tr>\n",
       "      <th>24</th>\n",
       "      <td>2020-05-15 22:41:51.724</td>\n",
       "      <td>cddf159101f9a5a30f9041ceebdb2835</td>\n",
       "      <td>651</td>\n",
       "      <td>181.0</td>\n",
       "      <td>0.0</td>\n",
       "      <td>Безопасность компьютерных систем</td>\n",
       "      <td>Теория баз данных</td>\n",
       "      <td>Язык SQL</td>\n",
       "      <td>Дискретная оптимизация</td>\n",
       "      <td>Компьютерные сети</td>\n",
       "      <td>Системы баз данных</td>\n",
       "      <td>Да</td>\n",
       "      <td>0.408072</td>\n",
       "      <td>0.0</td>\n",
       "      <td></td>\n",
       "      <td>0.0</td>\n",
       "      <td>Безопасность компьютерных систем, Теория баз д...</td>\n",
       "      <td>2020-05-15</td>\n",
       "      <td>1</td>\n",
       "    </tr>\n",
       "  </tbody>\n",
       "</table>\n",
       "</div>"
      ],
      "text/plain": [
       "                 timestamp                                id  rating  \\\n",
       "2  2020-05-15 03:12:41.480  30f3653fc176d54e89ac3179c455c6dd     624   \n",
       "16 2020-05-15 16:58:06.959  64173586abab6f7a172946c8c74bde0d     630   \n",
       "20 2020-05-15 21:55:16.699  f0f6f3881894172a0f04e79b554b49e6     673   \n",
       "23 2020-05-15 22:30:31.902  a65d50ef4fadfac64508a54e972d8623     626   \n",
       "24 2020-05-15 22:41:51.724  cddf159101f9a5a30f9041ceebdb2835     651   \n",
       "\n",
       "    18_group  is_mi                            fall_1  \\\n",
       "2      185.0    0.0  Безопасность компьютерных систем   \n",
       "16     181.0    0.0  Безопасность компьютерных систем   \n",
       "20     181.0    0.0  Безопасность компьютерных систем   \n",
       "23     184.0    0.0  Безопасность компьютерных систем   \n",
       "24     181.0    0.0  Безопасность компьютерных систем   \n",
       "\n",
       "                                             fall_2  \\\n",
       "2                              Матричные вычисления   \n",
       "16                Высокопроизводительные вычисления   \n",
       "20  Сбор и обработка данных с помощью краудсорсинга   \n",
       "23                Высокопроизводительные вычисления   \n",
       "24                                Теория баз данных   \n",
       "\n",
       "                                               fall_3                spring_1  \\\n",
       "2                       Моделирование временных рядов  Дискретная оптимизация   \n",
       "16                                           Язык SQL       Компьютерные сети   \n",
       "20  Принятие решений в условиях риска и неопределё...     Машинное обучение 2   \n",
       "23                               Матричные вычисления  Дискретная оптимизация   \n",
       "24                                           Язык SQL  Дискретная оптимизация   \n",
       "\n",
       "                                       spring_2  \\\n",
       "2                           Машинное обучение 2   \n",
       "16  Промышленное программирование на языке Java   \n",
       "20                             Численные методы   \n",
       "23                             Численные методы   \n",
       "24                            Компьютерные сети   \n",
       "\n",
       "                                      spring_3 is_first_time  percentile  \\\n",
       "2                             Численные методы            Да    0.538117   \n",
       "16                      Дискретная оптимизация            Да    0.502242   \n",
       "20  Дополнительные главы прикладной статистики            Да    0.300448   \n",
       "23                     Анализ данных в бизнесе           Нет    0.526906   \n",
       "24                          Системы баз данных            Да    0.408072   \n",
       "\n",
       "    17_group blended  is_ml_student  \\\n",
       "2        0.0                    0.0   \n",
       "16       0.0                    0.0   \n",
       "20       0.0                    1.0   \n",
       "23       0.0                    0.0   \n",
       "24       0.0                    0.0   \n",
       "\n",
       "                                              courses        days  \\\n",
       "2   Безопасность компьютерных систем, Матричные вы...  2020-05-15   \n",
       "16  Безопасность компьютерных систем, Высокопроизв...  2020-05-15   \n",
       "20  Безопасность компьютерных систем, Сбор и обраб...  2020-05-15   \n",
       "23  Безопасность компьютерных систем, Высокопроизв...  2020-05-15   \n",
       "24  Безопасность компьютерных систем, Теория баз д...  2020-05-15   \n",
       "\n",
       "    fall_courses  \n",
       "2              1  \n",
       "16             1  \n",
       "20             1  \n",
       "23             1  \n",
       "24             1  "
      ]
     },
     "execution_count": 72,
     "metadata": {},
     "output_type": "execute_result"
    }
   ],
   "source": [
    "# вынесем студентов, которые не прошли первый отбор\n",
    "second_wave = df[~df['id'].isin(result.index)]\n",
    "second_wave.head()"
   ]
  },
  {
   "cell_type": "code",
   "execution_count": 73,
   "metadata": {},
   "outputs": [],
   "source": [
    "# проверим, какие студенты с 2-умя курсами не прошли на один из них\n",
    "result = result.reset_index()\n",
    "\n",
    "two_courses =  df[df['fall_courses']==2][['id', '18_group', '17_group', 'fall_1', 'fall_2']]\n",
    "check_course = pd.merge(result, two_courses,  how='right', left_on=['id'], right_on = ['id'])\n",
    "\n",
    "third_wave_two_courses = list(\n",
    "    check_course[\n",
    "        (check_course['course_1']=='-')|\n",
    "        (check_course['course_2']=='-')\n",
    "    ]['id']\n",
    ")"
   ]
  },
  {
   "cell_type": "code",
   "execution_count": 74,
   "metadata": {},
   "outputs": [
    {
     "data": {
      "text/html": [
       "<div>\n",
       "<style scoped>\n",
       "    .dataframe tbody tr th:only-of-type {\n",
       "        vertical-align: middle;\n",
       "    }\n",
       "\n",
       "    .dataframe tbody tr th {\n",
       "        vertical-align: top;\n",
       "    }\n",
       "\n",
       "    .dataframe thead th {\n",
       "        text-align: right;\n",
       "    }\n",
       "</style>\n",
       "<table border=\"1\" class=\"dataframe\">\n",
       "  <thead>\n",
       "    <tr style=\"text-align: right;\">\n",
       "      <th></th>\n",
       "      <th>0</th>\n",
       "      <th>1</th>\n",
       "      <th>second_wave</th>\n",
       "    </tr>\n",
       "  </thead>\n",
       "  <tbody>\n",
       "    <tr>\n",
       "      <th>0</th>\n",
       "      <td>Statistical Learning Theory</td>\n",
       "      <td>60</td>\n",
       "      <td>42</td>\n",
       "    </tr>\n",
       "    <tr>\n",
       "      <th>1</th>\n",
       "      <td>Байесовские методы машинного обучения</td>\n",
       "      <td>30</td>\n",
       "      <td>6</td>\n",
       "    </tr>\n",
       "    <tr>\n",
       "      <th>2</th>\n",
       "      <td>Безопасность компьютерных систем</td>\n",
       "      <td>30</td>\n",
       "      <td>0</td>\n",
       "    </tr>\n",
       "    <tr>\n",
       "      <th>3</th>\n",
       "      <td>Высокопроизводительные вычисления</td>\n",
       "      <td>60</td>\n",
       "      <td>33</td>\n",
       "    </tr>\n",
       "    <tr>\n",
       "      <th>4</th>\n",
       "      <td>Глубинное обучение в обработке звука</td>\n",
       "      <td>30</td>\n",
       "      <td>7</td>\n",
       "    </tr>\n",
       "    <tr>\n",
       "      <th>5</th>\n",
       "      <td>Моделирование временных рядов</td>\n",
       "      <td>30</td>\n",
       "      <td>22</td>\n",
       "    </tr>\n",
       "    <tr>\n",
       "      <th>6</th>\n",
       "      <td>Принятие решений в условиях риска и неопределё...</td>\n",
       "      <td>30</td>\n",
       "      <td>27</td>\n",
       "    </tr>\n",
       "    <tr>\n",
       "      <th>7</th>\n",
       "      <td>Сбор и обработка данных с помощью краудсорсинга</td>\n",
       "      <td>30</td>\n",
       "      <td>10</td>\n",
       "    </tr>\n",
       "  </tbody>\n",
       "</table>\n",
       "</div>"
      ],
      "text/plain": [
       "                                                   0   1  second_wave\n",
       "0                        Statistical Learning Theory  60           42\n",
       "1              Байесовские методы машинного обучения  30            6\n",
       "2                   Безопасность компьютерных систем  30            0\n",
       "3                  Высокопроизводительные вычисления  60           33\n",
       "4               Глубинное обучение в обработке звука  30            7\n",
       "5                      Моделирование временных рядов  30           22\n",
       "6  Принятие решений в условиях риска и неопределё...  30           27\n",
       "7    Сбор и обработка данных с помощью краудсорсинга  30           10"
      ]
     },
     "execution_count": 74,
     "metadata": {},
     "output_type": "execute_result"
    }
   ],
   "source": [
    "second_wave = second_wave.append(df[df['id'].isin(third_wave_two_courses)])\n",
    "\n",
    "# разделим по годам\n",
    "second_wave_17 = second_wave[second_wave['17_group']>0]\n",
    "second_wave_18 = second_wave[second_wave['18_group']>0]\n",
    "\n",
    "subjects_17 = pd.DataFrame(subjects_17).sort_values(by=0).reset_index(drop=True) \n",
    "\n",
    "# посчитаем, сколько осталось мест\n",
    "subjects_17['second_wave'] = subjects_17[1] - choice_one_17['win'] \n",
    "\n",
    "subjects_17"
   ]
  },
  {
   "cell_type": "code",
   "execution_count": 75,
   "metadata": {
    "tags": []
   },
   "outputs": [
    {
     "data": {
      "text/html": [
       "<div>\n",
       "<style scoped>\n",
       "    .dataframe tbody tr th:only-of-type {\n",
       "        vertical-align: middle;\n",
       "    }\n",
       "\n",
       "    .dataframe tbody tr th {\n",
       "        vertical-align: top;\n",
       "    }\n",
       "\n",
       "    .dataframe thead th {\n",
       "        text-align: right;\n",
       "    }\n",
       "</style>\n",
       "<table border=\"1\" class=\"dataframe\">\n",
       "  <thead>\n",
       "    <tr style=\"text-align: right;\">\n",
       "      <th></th>\n",
       "      <th>0</th>\n",
       "      <th>1</th>\n",
       "      <th>second_wave</th>\n",
       "    </tr>\n",
       "  </thead>\n",
       "  <tbody>\n",
       "    <tr>\n",
       "      <th>0</th>\n",
       "      <td>Statistical Learning Theory</td>\n",
       "      <td>60</td>\n",
       "      <td>45</td>\n",
       "    </tr>\n",
       "    <tr>\n",
       "      <th>1</th>\n",
       "      <td>Безопасность компьютерных систем</td>\n",
       "      <td>30</td>\n",
       "      <td>0</td>\n",
       "    </tr>\n",
       "    <tr>\n",
       "      <th>2</th>\n",
       "      <td>Высокопроизводительные вычисления</td>\n",
       "      <td>60</td>\n",
       "      <td>43</td>\n",
       "    </tr>\n",
       "    <tr>\n",
       "      <th>3</th>\n",
       "      <td>Матричные вычисления</td>\n",
       "      <td>30</td>\n",
       "      <td>15</td>\n",
       "    </tr>\n",
       "    <tr>\n",
       "      <th>4</th>\n",
       "      <td>Моделирование временных рядов</td>\n",
       "      <td>30</td>\n",
       "      <td>7</td>\n",
       "    </tr>\n",
       "    <tr>\n",
       "      <th>5</th>\n",
       "      <td>Принятие решений в условиях риска и неопределё...</td>\n",
       "      <td>30</td>\n",
       "      <td>25</td>\n",
       "    </tr>\n",
       "    <tr>\n",
       "      <th>6</th>\n",
       "      <td>Сбор и обработка данных с помощью краудсорсинга</td>\n",
       "      <td>30</td>\n",
       "      <td>0</td>\n",
       "    </tr>\n",
       "    <tr>\n",
       "      <th>7</th>\n",
       "      <td>Теория баз данных</td>\n",
       "      <td>30</td>\n",
       "      <td>16</td>\n",
       "    </tr>\n",
       "    <tr>\n",
       "      <th>8</th>\n",
       "      <td>Язык SQL</td>\n",
       "      <td>30</td>\n",
       "      <td>1</td>\n",
       "    </tr>\n",
       "  </tbody>\n",
       "</table>\n",
       "</div>"
      ],
      "text/plain": [
       "                                                   0   1  second_wave\n",
       "0                        Statistical Learning Theory  60           45\n",
       "1                   Безопасность компьютерных систем  30            0\n",
       "2                  Высокопроизводительные вычисления  60           43\n",
       "3                               Матричные вычисления  30           15\n",
       "4                      Моделирование временных рядов  30            7\n",
       "5  Принятие решений в условиях риска и неопределё...  30           25\n",
       "6    Сбор и обработка данных с помощью краудсорсинга  30            0\n",
       "7                                  Теория баз данных  30           16\n",
       "8                                           Язык SQL  30            1"
      ]
     },
     "execution_count": 75,
     "metadata": {},
     "output_type": "execute_result"
    }
   ],
   "source": [
    "# Сделаем то же самое для 3-его курса\n",
    "subjects_18 = pd.DataFrame(subjects_18).sort_values(by=0).reset_index(drop=True) \n",
    "\n",
    "subjects_18['second_wave'] = subjects_18[1] - choice_one_18['win']\n",
    "\n",
    "subjects_18"
   ]
  },
  {
   "cell_type": "code",
   "execution_count": 76,
   "metadata": {},
   "outputs": [
    {
     "name": "stdout",
     "output_type": "stream",
     "text": [
      "8\n",
      "9\n"
     ]
    }
   ],
   "source": [
    "# 2-ая волна\n",
    "res_17_3 = list(\n",
    "    map(\n",
    "        lambda x: second_wave_17[\n",
    "            ((second_wave_17['fall_2'] == x[0]) & (second_wave_17['fall_courses'] == 1)) |\n",
    "            ((second_wave_17['fall_3'] == x[0]) & (second_wave_17['fall_courses'] == 2))\n",
    "        ].sort_values('percentile')[:x[2]],\n",
    "        subjects_17.values.tolist()\n",
    "       )\n",
    ")\n",
    "print(len(res_17_3))\n",
    "res_18_3 = list(\n",
    "    map(\n",
    "        lambda x: second_wave_18[\n",
    "            ((second_wave_18['fall_2'] == x[0]) & (second_wave_18['fall_courses'] == 1)) |\n",
    "            ((second_wave_18['fall_3'] == x[0]) & (second_wave_18['fall_courses'] == 2))\n",
    "        ].sort_values('percentile')[:x[2]],\n",
    "        subjects_18.values.tolist()\n",
    "    )\n",
    ")\n",
    "res_17_3.append(\n",
    "    second_wave_17[\n",
    "        ((second_wave_17['fall_2'] == 'Анализ неструктурированных данных') & (second_wave_17['fall_courses'] == 1)) | \n",
    "        ((second_wave_17['fall_3'] == 'Анализ неструктурированных данных') & (second_wave_17['fall_courses'] == 2))\n",
    "    ].sort_values('percentile')\n",
    ")\n",
    "print(len(res_17_3))"
   ]
  },
  {
   "cell_type": "code",
   "execution_count": 77,
   "metadata": {},
   "outputs": [],
   "source": [
    "# снова записываем предмет в столбец courses\n",
    "for i in range(len(subjects_17)):\n",
    "    if not res_17_3[i].empty:\n",
    "        res_17_3[i]['courses'] = subjects_17.iloc[i][0]\n",
    "        \n",
    "for i in range(len(subjects_18)):\n",
    "    if not res_18_3[i].empty:\n",
    "        res_18_3[i]['courses'] = subjects_18.iloc[i][0]"
   ]
  },
  {
   "cell_type": "code",
   "execution_count": 78,
   "metadata": {},
   "outputs": [],
   "source": [
    "res_second_wave = res_17_3[0]\n",
    "\n",
    "for i in range(1, len(res_17_3)):\n",
    "    res_second_wave = res_second_wave.append(res_17_3[i])\n",
    "    \n",
    "for i in range(len(res_18_3)):\n",
    "    res_second_wave = res_second_wave.append(res_18_3[i])"
   ]
  },
  {
   "cell_type": "code",
   "execution_count": 79,
   "metadata": {},
   "outputs": [],
   "source": [
    "result_new = pd.merge(result, res_second_wave[['id', 'courses']], on='id', how='outer')\n",
    "result_new = result_new.fillna('')\n",
    "result_new['course_2'] = result_new['course_2'] + result_new['courses']\n",
    "result_new['course_2'].unique()\n",
    "result_new = result_new.drop(columns = ['win', 'courses'])"
   ]
  },
  {
   "cell_type": "code",
   "execution_count": 80,
   "metadata": {},
   "outputs": [],
   "source": [
    "# 3-я волна"
   ]
  },
  {
   "cell_type": "code",
   "execution_count": 81,
   "metadata": {},
   "outputs": [
    {
     "name": "stdout",
     "output_type": "stream",
     "text": [
      "                               index  courses\n",
      "0  Высокопроизводительные вычисления        1\n",
      "                               index  courses\n",
      "0        Statistical Learning Theory        2\n",
      "1  Высокопроизводительные вычисления       14\n",
      "2               Матричные вычисления        7\n",
      "3      Моделирование временных рядов        2\n",
      "4                  Теория баз данных        4\n",
      "5                           Язык SQL        1\n"
     ]
    }
   ],
   "source": [
    "# посмотрим количество мест на курсах, которое осталось после первой волны\n",
    "choice_two_17 = pd.DataFrame(\n",
    "    res_second_wave[res_second_wave['17_group'] > 0]['courses'].value_counts()\n",
    ").reset_index().sort_values(by='index')\n",
    "\n",
    "print(choice_two_17)\n",
    "\n",
    "choice_two_17 = choice_two_17.loc[\n",
    "    choice_two_17['index'] != 'Анализ неструктурированных данных'\n",
    "].reset_index(drop=True) \n",
    "\n",
    "choice_two_18 = pd.DataFrame(\n",
    "    res_second_wave[\n",
    "        res_second_wave['18_group'] > 0\n",
    "    ]['courses'].value_counts()\n",
    ")\\\n",
    ".reset_index()\\\n",
    ".sort_values(by='index')\\\n",
    ".reset_index(drop=True)\n",
    "\n",
    "print(choice_two_18)"
   ]
  },
  {
   "cell_type": "code",
   "execution_count": 82,
   "metadata": {},
   "outputs": [
    {
     "data": {
      "text/plain": [
       "(17, 19)"
      ]
     },
     "execution_count": 82,
     "metadata": {},
     "output_type": "execute_result"
    }
   ],
   "source": [
    "third_wave = df[~df['id'].isin(result_new['id'])]\n",
    "third_wave.shape"
   ]
  },
  {
   "cell_type": "code",
   "execution_count": 83,
   "metadata": {},
   "outputs": [
    {
     "data": {
      "text/plain": [
       "['d555d2805e1d93d4f023e57dc4c8f403',\n",
       " 'e0fceae1e285f737630bb6123a1bd85d',\n",
       " '39cd1820459fdbcc193f9bb0ddb74a58',\n",
       " '7fcf56aae6836855a689000a50e80360',\n",
       " 'feb53dcdd28fff9dc4a981c3419fea6f',\n",
       " 'de539be8b29b3afa002184e28d63c670',\n",
       " 'b75b5f8abebf7faf4adbb6247d6d03bb',\n",
       " 'c154bbf18efdd4d760e52155eaa87929',\n",
       " '79d14db48e4737af731960ae212d5134']"
      ]
     },
     "execution_count": 83,
     "metadata": {},
     "output_type": "execute_result"
    }
   ],
   "source": [
    "# проверим, какие студенты с 2-умя курсами не прошли на один из них\n",
    "two_courses =  df[df['fall_courses']==2][['id', '18_group', '17_group', 'fall_1', 'fall_2']]\n",
    "check_course = pd.merge(result_new, two_courses,  how='right', left_on=['id'], right_on = ['id'])\n",
    "\n",
    "third_wave_two_courses = list(\n",
    "    check_course[\n",
    "        (check_course['course_1']=='')|\n",
    "        (check_course['course_2']=='')\n",
    "    ]['id']\n",
    ")\n",
    "\n",
    "# эти ребята уже не будут участвовать в 3-ей волне, поэтому мы их сразу отправляем к администрации\n",
    "third_wave_two_courses"
   ]
  },
  {
   "cell_type": "code",
   "execution_count": 84,
   "metadata": {},
   "outputs": [
    {
     "data": {
      "text/html": [
       "<div>\n",
       "<style scoped>\n",
       "    .dataframe tbody tr th:only-of-type {\n",
       "        vertical-align: middle;\n",
       "    }\n",
       "\n",
       "    .dataframe tbody tr th {\n",
       "        vertical-align: top;\n",
       "    }\n",
       "\n",
       "    .dataframe thead th {\n",
       "        text-align: right;\n",
       "    }\n",
       "</style>\n",
       "<table border=\"1\" class=\"dataframe\">\n",
       "  <thead>\n",
       "    <tr style=\"text-align: right;\">\n",
       "      <th></th>\n",
       "      <th>index</th>\n",
       "      <th>courses</th>\n",
       "    </tr>\n",
       "  </thead>\n",
       "  <tbody>\n",
       "    <tr>\n",
       "      <th>0</th>\n",
       "      <td>Высокопроизводительные вычисления</td>\n",
       "      <td>1</td>\n",
       "    </tr>\n",
       "  </tbody>\n",
       "</table>\n",
       "</div>"
      ],
      "text/plain": [
       "                               index  courses\n",
       "0  Высокопроизводительные вычисления        1"
      ]
     },
     "execution_count": 84,
     "metadata": {},
     "output_type": "execute_result"
    }
   ],
   "source": [
    "choice_two_17"
   ]
  },
  {
   "cell_type": "code",
   "execution_count": 85,
   "metadata": {},
   "outputs": [],
   "source": [
    "third_wave = third_wave.append(df[df['id'].isin(third_wave_two_courses)])\n",
    "\n",
    "# разделим по годам\n",
    "third_wave_17 = third_wave[third_wave['17_group'] > 0]\n",
    "third_wave_18 = third_wave[third_wave['18_group'] > 0]\n",
    "\n",
    "subjects_17 = pd.DataFrame(subjects_17).sort_values(by=0).reset_index(drop=True) \n",
    "\n",
    "# посчитаем, сколько осталось мест\n",
    "third_wave = list(\n",
    "    (subjects_17.set_index(0)['second_wave'] - (choice_two_17.set_index('index')['courses']).fillna(0)\n",
    "    ))"
   ]
  },
  {
   "cell_type": "code",
   "execution_count": 86,
   "metadata": {},
   "outputs": [
    {
     "data": {
      "text/html": [
       "<div>\n",
       "<style scoped>\n",
       "    .dataframe tbody tr th:only-of-type {\n",
       "        vertical-align: middle;\n",
       "    }\n",
       "\n",
       "    .dataframe tbody tr th {\n",
       "        vertical-align: top;\n",
       "    }\n",
       "\n",
       "    .dataframe thead th {\n",
       "        text-align: right;\n",
       "    }\n",
       "</style>\n",
       "<table border=\"1\" class=\"dataframe\">\n",
       "  <thead>\n",
       "    <tr style=\"text-align: right;\">\n",
       "      <th></th>\n",
       "      <th>0</th>\n",
       "      <th>1</th>\n",
       "      <th>second_wave</th>\n",
       "      <th>third_wave</th>\n",
       "    </tr>\n",
       "  </thead>\n",
       "  <tbody>\n",
       "    <tr>\n",
       "      <th>0</th>\n",
       "      <td>Statistical Learning Theory</td>\n",
       "      <td>60</td>\n",
       "      <td>42</td>\n",
       "      <td>42.0</td>\n",
       "    </tr>\n",
       "    <tr>\n",
       "      <th>1</th>\n",
       "      <td>Байесовские методы машинного обучения</td>\n",
       "      <td>30</td>\n",
       "      <td>6</td>\n",
       "      <td>6.0</td>\n",
       "    </tr>\n",
       "    <tr>\n",
       "      <th>2</th>\n",
       "      <td>Безопасность компьютерных систем</td>\n",
       "      <td>30</td>\n",
       "      <td>0</td>\n",
       "      <td>0.0</td>\n",
       "    </tr>\n",
       "    <tr>\n",
       "      <th>3</th>\n",
       "      <td>Высокопроизводительные вычисления</td>\n",
       "      <td>60</td>\n",
       "      <td>33</td>\n",
       "      <td>32.0</td>\n",
       "    </tr>\n",
       "    <tr>\n",
       "      <th>4</th>\n",
       "      <td>Глубинное обучение в обработке звука</td>\n",
       "      <td>30</td>\n",
       "      <td>7</td>\n",
       "      <td>7.0</td>\n",
       "    </tr>\n",
       "    <tr>\n",
       "      <th>5</th>\n",
       "      <td>Моделирование временных рядов</td>\n",
       "      <td>30</td>\n",
       "      <td>22</td>\n",
       "      <td>22.0</td>\n",
       "    </tr>\n",
       "    <tr>\n",
       "      <th>6</th>\n",
       "      <td>Принятие решений в условиях риска и неопределё...</td>\n",
       "      <td>30</td>\n",
       "      <td>27</td>\n",
       "      <td>27.0</td>\n",
       "    </tr>\n",
       "    <tr>\n",
       "      <th>7</th>\n",
       "      <td>Сбор и обработка данных с помощью краудсорсинга</td>\n",
       "      <td>30</td>\n",
       "      <td>10</td>\n",
       "      <td>10.0</td>\n",
       "    </tr>\n",
       "  </tbody>\n",
       "</table>\n",
       "</div>"
      ],
      "text/plain": [
       "                                                   0   1  second_wave  \\\n",
       "0                        Statistical Learning Theory  60           42   \n",
       "1              Байесовские методы машинного обучения  30            6   \n",
       "2                   Безопасность компьютерных систем  30            0   \n",
       "3                  Высокопроизводительные вычисления  60           33   \n",
       "4               Глубинное обучение в обработке звука  30            7   \n",
       "5                      Моделирование временных рядов  30           22   \n",
       "6  Принятие решений в условиях риска и неопределё...  30           27   \n",
       "7    Сбор и обработка данных с помощью краудсорсинга  30           10   \n",
       "\n",
       "   third_wave  \n",
       "0        42.0  \n",
       "1         6.0  \n",
       "2         0.0  \n",
       "3        32.0  \n",
       "4         7.0  \n",
       "5        22.0  \n",
       "6        27.0  \n",
       "7        10.0  "
      ]
     },
     "execution_count": 86,
     "metadata": {},
     "output_type": "execute_result"
    }
   ],
   "source": [
    "subjects_17['third_wave'] = third_wave\n",
    "subjects_17['third_wave'] = subjects_17['third_wave'].fillna(subjects_17['second_wave'])\n",
    "subjects_17"
   ]
  },
  {
   "cell_type": "code",
   "execution_count": 87,
   "metadata": {},
   "outputs": [
    {
     "data": {
      "text/html": [
       "<div>\n",
       "<style scoped>\n",
       "    .dataframe tbody tr th:only-of-type {\n",
       "        vertical-align: middle;\n",
       "    }\n",
       "\n",
       "    .dataframe tbody tr th {\n",
       "        vertical-align: top;\n",
       "    }\n",
       "\n",
       "    .dataframe thead th {\n",
       "        text-align: right;\n",
       "    }\n",
       "</style>\n",
       "<table border=\"1\" class=\"dataframe\">\n",
       "  <thead>\n",
       "    <tr style=\"text-align: right;\">\n",
       "      <th></th>\n",
       "      <th>0</th>\n",
       "      <th>1</th>\n",
       "      <th>second_wave</th>\n",
       "      <th>third_wave</th>\n",
       "    </tr>\n",
       "  </thead>\n",
       "  <tbody>\n",
       "    <tr>\n",
       "      <th>0</th>\n",
       "      <td>Statistical Learning Theory</td>\n",
       "      <td>60</td>\n",
       "      <td>45</td>\n",
       "      <td>43.0</td>\n",
       "    </tr>\n",
       "    <tr>\n",
       "      <th>1</th>\n",
       "      <td>Безопасность компьютерных систем</td>\n",
       "      <td>30</td>\n",
       "      <td>0</td>\n",
       "      <td>0.0</td>\n",
       "    </tr>\n",
       "    <tr>\n",
       "      <th>2</th>\n",
       "      <td>Высокопроизводительные вычисления</td>\n",
       "      <td>60</td>\n",
       "      <td>43</td>\n",
       "      <td>29.0</td>\n",
       "    </tr>\n",
       "    <tr>\n",
       "      <th>3</th>\n",
       "      <td>Матричные вычисления</td>\n",
       "      <td>30</td>\n",
       "      <td>15</td>\n",
       "      <td>8.0</td>\n",
       "    </tr>\n",
       "    <tr>\n",
       "      <th>4</th>\n",
       "      <td>Моделирование временных рядов</td>\n",
       "      <td>30</td>\n",
       "      <td>7</td>\n",
       "      <td>5.0</td>\n",
       "    </tr>\n",
       "    <tr>\n",
       "      <th>5</th>\n",
       "      <td>Принятие решений в условиях риска и неопределё...</td>\n",
       "      <td>30</td>\n",
       "      <td>25</td>\n",
       "      <td>25.0</td>\n",
       "    </tr>\n",
       "    <tr>\n",
       "      <th>6</th>\n",
       "      <td>Сбор и обработка данных с помощью краудсорсинга</td>\n",
       "      <td>30</td>\n",
       "      <td>0</td>\n",
       "      <td>0.0</td>\n",
       "    </tr>\n",
       "    <tr>\n",
       "      <th>7</th>\n",
       "      <td>Теория баз данных</td>\n",
       "      <td>30</td>\n",
       "      <td>16</td>\n",
       "      <td>12.0</td>\n",
       "    </tr>\n",
       "    <tr>\n",
       "      <th>8</th>\n",
       "      <td>Язык SQL</td>\n",
       "      <td>30</td>\n",
       "      <td>1</td>\n",
       "      <td>0.0</td>\n",
       "    </tr>\n",
       "  </tbody>\n",
       "</table>\n",
       "</div>"
      ],
      "text/plain": [
       "                                                   0   1  second_wave  \\\n",
       "0                        Statistical Learning Theory  60           45   \n",
       "1                   Безопасность компьютерных систем  30            0   \n",
       "2                  Высокопроизводительные вычисления  60           43   \n",
       "3                               Матричные вычисления  30           15   \n",
       "4                      Моделирование временных рядов  30            7   \n",
       "5  Принятие решений в условиях риска и неопределё...  30           25   \n",
       "6    Сбор и обработка данных с помощью краудсорсинга  30            0   \n",
       "7                                  Теория баз данных  30           16   \n",
       "8                                           Язык SQL  30            1   \n",
       "\n",
       "   third_wave  \n",
       "0        43.0  \n",
       "1         0.0  \n",
       "2        29.0  \n",
       "3         8.0  \n",
       "4         5.0  \n",
       "5        25.0  \n",
       "6         0.0  \n",
       "7        12.0  \n",
       "8         0.0  "
      ]
     },
     "execution_count": 87,
     "metadata": {},
     "output_type": "execute_result"
    }
   ],
   "source": [
    "# Сделаем то же самое для 3-его курса\n",
    "subjects_18 = pd.DataFrame(subjects_18).sort_values(by=0).reset_index(drop=True) \n",
    "\n",
    "subjects_18['third_wave'] = third_wave = list(\n",
    "    (subjects_18.set_index(0)['second_wave'] - (choice_two_18.set_index('index')['courses']).fillna(0)\n",
    "    ))\n",
    "subjects_18['third_wave'] = subjects_18['third_wave'].fillna(subjects_18['second_wave'])\n",
    "subjects_18"
   ]
  },
  {
   "cell_type": "code",
   "execution_count": 88,
   "metadata": {},
   "outputs": [],
   "source": [
    "subjects_18['third_wave'] = subjects_18['third_wave'].astype(int)\n",
    "subjects_17['third_wave'] = subjects_17['third_wave'].astype(int)"
   ]
  },
  {
   "cell_type": "code",
   "execution_count": 89,
   "metadata": {},
   "outputs": [],
   "source": [
    "# 2-ая волна\n",
    "res_17_4 = list(\n",
    "    map(\n",
    "        lambda x: third_wave_17[\n",
    "            ((third_wave_17['fall_3'] == x[0]) & (third_wave_17['fall_courses'] == 1))\n",
    "        ].sort_values('percentile')[:x[3]],\n",
    "        subjects_17.values.tolist()\n",
    "       )\n",
    ")\n",
    "\n",
    "res_18_4 = list(\n",
    "    map(\n",
    "        lambda x: third_wave_18[\n",
    "            ((third_wave_18['fall_3'] == x[0]) & (third_wave_18['fall_courses'] == 1))\n",
    "        ].sort_values('percentile')[:x[3]],\n",
    "        subjects_18.values.tolist()\n",
    "    )\n",
    ")\n",
    "res_17_4.append(\n",
    "    third_wave_17[\n",
    "        ((third_wave_17['fall_3'] == 'Анализ неструктурированных данных') & (third_wave_17['fall_courses'] == 1))\n",
    "    ].sort_values('percentile')\n",
    ")\n"
   ]
  },
  {
   "cell_type": "code",
   "execution_count": 90,
   "metadata": {},
   "outputs": [],
   "source": [
    "# снова записываем предмет в столбец courses\n",
    "for i in range(len(subjects_17)):\n",
    "    if not res_17_4[i].empty:\n",
    "        res_17_4[i]['courses'] = subjects_17.iloc[i][0]\n",
    "        \n",
    "for i in range(len(subjects_18)):\n",
    "    if not res_18_4[i].empty:\n",
    "        res_18_4[i]['courses'] = subjects_18.iloc[i][0]"
   ]
  },
  {
   "cell_type": "code",
   "execution_count": 91,
   "metadata": {},
   "outputs": [],
   "source": [
    "# повтор 2-ой волны (знаю, что можно было сделать в функциях......)\n",
    "res_third_wave = res_17_4[0]\n",
    "\n",
    "for i in range(1, len(res_17_4)):\n",
    "    res_third_wave = res_third_wave.append(res_17_4[i])\n",
    "    \n",
    "for i in range(len(res_18_4)):\n",
    "    res_third_wave = res_third_wave.append(res_18_4[i])"
   ]
  },
  {
   "cell_type": "code",
   "execution_count": 92,
   "metadata": {},
   "outputs": [],
   "source": [
    "# последняя обработка итоговой таблица\n",
    "result_final = pd.merge(result_new, res_third_wave[['id', 'courses']], on='id', how='outer')\n",
    "result_final = result_final.fillna('')\n",
    "result_final['course_2'] = result_final['course_2'] + result_final['courses']\n",
    "result_final['course_2'].unique()\n",
    "result_final = result_final.drop(columns = ['courses'])"
   ]
  },
  {
   "cell_type": "code",
   "execution_count": 93,
   "metadata": {},
   "outputs": [],
   "source": [
    "# перенесем все единичные курсы в первый столбец\n",
    "result_final.loc[(result_final.course_1 == ''), 'course_1'] = result_final['course_2']\n",
    "result_final.loc[(result_final.course_2 == result_final.course_1), 'course_2'] = '-'\n",
    "result_final.loc[(result_final.course_2 == ''), 'course_2'] = '-'\n",
    "result_final = result_final.fillna('-')"
   ]
  },
  {
   "cell_type": "code",
   "execution_count": 94,
   "metadata": {},
   "outputs": [],
   "source": [
    "# ребята, которые должны были выбрать 2 курса, но попали только по одному\n",
    "result_final.loc[(result_final['id'].isin(third_wave_two_courses)), 'course_2'] = '???'"
   ]
  },
  {
   "cell_type": "code",
   "execution_count": 95,
   "metadata": {},
   "outputs": [],
   "source": [
    "result_final.rename(columns = {'course_1':'course1', 'course_2':'course2'}, inplace = True)\n",
    "result_final.rename(columns = {'id':'ID'}, inplace = True)\n",
    "lost_students = df[~df['id'].isin(result_final['ID'])]['id']\n",
    "lost_students = list(map(lambda x:{'ID':x,'course1': '???','course2': '-'}, lost_students))\n",
    "result_final = result_final.append(lost_students)"
   ]
  },
  {
   "cell_type": "code",
   "execution_count": 96,
   "metadata": {},
   "outputs": [],
   "source": [
    "result_final.to_csv('res_fall.csv', index=None)"
   ]
  },
  {
   "cell_type": "markdown",
   "metadata": {
    "id": "1xQjV9BuhLu6",
    "tags": []
   },
   "source": [
    "**Отправьте свой файл res_fall.csv в контест (https://contest.yandex.ru/contest/29176/problems/A/) и прикрепите/укажите ниже ваш никнейм и ссылку на успешную посылку.**"
   ]
  },
  {
   "cell_type": "markdown",
   "metadata": {
    "id": "QRTbPrgbhLu6"
   },
   "source": [
    "*Дисклеймер:*\n",
    "\n",
    "Контест выдаётся для самопроверки. Если ваша посылка получила ОК, то код, скорее всего, правильный. Но при этом оценка всё равно может быть снижена в случае обнаружения неэффективностей или ошибок в коде. Если вы сдадите в AnyTask очевидно неработающий код или ноутбук без кода, но при этом в контест будет сдан корректный файл, то это будет расцениваться как плагиат."
   ]
  },
  {
   "cell_type": "markdown",
   "metadata": {
    "id": "1IkQa_gdhLu6"
   },
   "source": [
    "На всякий случай просим вас сдать вместе с ноутбуком файл res_fall.csv в anytask"
   ]
  },
  {
   "cell_type": "markdown",
   "metadata": {
    "id": "k8d711qGhLu7"
   },
   "source": [
    "**Дополнительное задание. [2 бонусных балла] Распределите таким же образом студентов еще и на весенние курсы по выбору.**\n",
    "\n",
    "Если ваш код был хорошо структурирован, то это не составит проблем. \n",
    "\n",
    "Если вы выполнили это задание, сдайте среди прочего файл res_spring.csv в таком же формате, как и res_fall.csv."
   ]
  },
  {
   "cell_type": "code",
   "execution_count": 98,
   "metadata": {
    "id": "hwmusOGThLu7"
   },
   "outputs": [
    {
     "data": {
      "text/html": [
       "<div>\n",
       "<style scoped>\n",
       "    .dataframe tbody tr th:only-of-type {\n",
       "        vertical-align: middle;\n",
       "    }\n",
       "\n",
       "    .dataframe tbody tr th {\n",
       "        vertical-align: top;\n",
       "    }\n",
       "\n",
       "    .dataframe thead th {\n",
       "        text-align: right;\n",
       "    }\n",
       "</style>\n",
       "<table border=\"1\" class=\"dataframe\">\n",
       "  <thead>\n",
       "    <tr style=\"text-align: right;\">\n",
       "      <th></th>\n",
       "      <th>timestamp</th>\n",
       "      <th>id</th>\n",
       "      <th>rating</th>\n",
       "      <th>18_group</th>\n",
       "      <th>is_mi</th>\n",
       "      <th>fall_1</th>\n",
       "      <th>fall_2</th>\n",
       "      <th>fall_3</th>\n",
       "      <th>spring_1</th>\n",
       "      <th>spring_2</th>\n",
       "      <th>spring_3</th>\n",
       "      <th>is_first_time</th>\n",
       "      <th>percentile</th>\n",
       "      <th>17_group</th>\n",
       "      <th>blended</th>\n",
       "      <th>is_ml_student</th>\n",
       "      <th>courses</th>\n",
       "      <th>days</th>\n",
       "      <th>fall_courses</th>\n",
       "    </tr>\n",
       "  </thead>\n",
       "  <tbody>\n",
       "  </tbody>\n",
       "</table>\n",
       "</div>"
      ],
      "text/plain": [
       "Empty DataFrame\n",
       "Columns: [timestamp, id, rating, 18_group, is_mi, fall_1, fall_2, fall_3, spring_1, spring_2, spring_3, is_first_time, percentile, 17_group, blended, is_ml_student, courses, days, fall_courses]\n",
       "Index: []"
      ]
     },
     "execution_count": 98,
     "metadata": {},
     "output_type": "execute_result"
    }
   ],
   "source": [
    "df[((df['17_group'] == 171) | (df['17_group']==172))& (df['spring_1']=='Машинное обучение 2')]"
   ]
  },
  {
   "cell_type": "markdown",
   "metadata": {
    "id": "It7QQZLYhLu7"
   },
   "source": [
    "**Отправьте свой файл res_spring.csv в контест (https://contest.yandex.ru/contest/29176/problems/B/) и прикрепите/укажите ниже ваш никнейм и ссылку на успешную посылку.**"
   ]
  },
  {
   "cell_type": "markdown",
   "metadata": {
    "id": "1YcouVTihLu7"
   },
   "source": [
    "На всякий случай просим вас сдать вместе с ноутбуком файл res_spring.csv в anytask"
   ]
  },
  {
   "cell_type": "markdown",
   "metadata": {
    "id": "uY_OY6inhLu7"
   },
   "source": [
    "Вставьте картинку, описывающую ваш опыт выполнения этого задания:"
   ]
  },
  {
   "cell_type": "code",
   "execution_count": null,
   "metadata": {
    "id": "R9_7CnSFhLu7"
   },
   "outputs": [],
   "source": []
  }
 ],
 "metadata": {
  "colab": {
   "name": "homework-practice-01-pandas.ipynb",
   "provenance": []
  },
  "kernelspec": {
   "display_name": "Python 3 (ipykernel)",
   "language": "python",
   "name": "python3"
  },
  "language_info": {
   "codemirror_mode": {
    "name": "ipython",
    "version": 3
   },
   "file_extension": ".py",
   "mimetype": "text/x-python",
   "name": "python",
   "nbconvert_exporter": "python",
   "pygments_lexer": "ipython3",
   "version": "3.9.4"
  },
  "varInspector": {
   "cols": {
    "lenName": 16,
    "lenType": 16,
    "lenVar": 40
   },
   "kernels_config": {
    "python": {
     "delete_cmd_postfix": "",
     "delete_cmd_prefix": "del ",
     "library": "var_list.py",
     "varRefreshCmd": "print(var_dic_list())"
    },
    "r": {
     "delete_cmd_postfix": ") ",
     "delete_cmd_prefix": "rm(",
     "library": "var_list.r",
     "varRefreshCmd": "cat(var_dic_list()) "
    }
   },
   "types_to_exclude": [
    "module",
    "function",
    "builtin_function_or_method",
    "instance",
    "_Feature"
   ],
   "window_display": false
  }
 },
 "nbformat": 4,
 "nbformat_minor": 4
}
