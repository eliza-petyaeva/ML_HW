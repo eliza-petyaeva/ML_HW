{
 "cells": [
  {
   "cell_type": "markdown",
   "metadata": {},
   "source": [
    "# Машинное обучение, ФКН ВШЭ\n",
    "\n",
    "## Практическое задание 4. Классификация. \n",
    "\n",
    "### Общая информация\n",
    "Дата выдачи: 29.10.2020\n",
    "\n",
    "Мягкий дедлайн: 23:59MSK 10.11.2020 (за каждый день просрочки снимается 1 балл)\n",
    "\n",
    "Жесткий дедлайн: 23:59MSK 13.11.2020"
   ]
  },
  {
   "cell_type": "markdown",
   "metadata": {},
   "source": [
    "### О задании\n",
    "\n",
    "В этом задании вы:\n",
    "- ознакомитесь с тем, что происходит \"внутри\" метода опорных векторов и логистической регрессии\n",
    "- познакомитесь с калибровкой вероятности\n",
    "- изучите методы трансформации переменных и методы отбора признаков\n",
    "- попробуете оценить экономический эффект модели\n",
    "\n",
    "\n",
    "### Оценивание и штрафы\n",
    "Каждая из задач имеет определенную «стоимость» (указана в скобках около задачи). Максимально допустимая оценка за работу — 10 баллов.\n",
    "\n",
    "Сдавать задание после указанного срока сдачи нельзя. При выставлении неполного балла за задание в связи с наличием ошибок на усмотрение проверяющего предусмотрена возможность исправить работу на указанных в ответном письме условиях.\n",
    "\n",
    "Задание выполняется самостоятельно. «Похожие» решения считаются плагиатом и все задействованные студенты (в том числе те, у кого списали) не могут получить за него больше 0 баллов (подробнее о плагиате см. на странице курса). Если вы нашли решение какого-то из заданий (или его часть) в открытом источнике, необходимо указать ссылку на этот источник в отдельном блоке в конце вашей работы (скорее всего вы будете не единственным, кто это нашел, поэтому чтобы исключить подозрение в плагиате, необходима ссылка на источник).\n",
    "\n",
    "Неэффективная реализация кода может негативно отразиться на оценке.\n",
    "\n",
    "\n",
    "### Формат сдачи\n",
    "Для сдачи задания переименуйте получившийся файл *.ipynb в соответствии со следующим форматом: homework-practice-04-classification-Username.ipynb, где Username — ваша фамилия и имя на латинице именно в таком порядке (например, homework-practice-04-classification-IvanovIvan.ipynb).\n",
    "\n",
    "Для удобства проверки самостоятельно посчитайте свою максимальную оценку (исходя из набора решенных задач) и укажите ниже.\n",
    "\n",
    "**Оценка**: "
   ]
  },
  {
   "cell_type": "code",
   "execution_count": 641,
   "metadata": {},
   "outputs": [],
   "source": [
    "import numpy as np\n",
    "import pandas as pd\n",
    "import matplotlib.pyplot as plt\n",
    "from tqdm import tqdm\n",
    "%matplotlib inline\n",
    "\n",
    "pd.set_option('display.max_rows', 100)\n",
    "pd.set_option('display.max_columns', 100)"
   ]
  },
  {
   "cell_type": "markdown",
   "metadata": {},
   "source": [
    "# Часть 0. SVM, LR и калибровка вероятностей. "
   ]
  },
  {
   "cell_type": "markdown",
   "metadata": {},
   "source": [
    "Сгенерируем синтетические данные."
   ]
  },
  {
   "cell_type": "code",
   "execution_count": 642,
   "metadata": {},
   "outputs": [],
   "source": [
    "from sklearn.datasets import make_classification\n",
    "from sklearn.model_selection import train_test_split\n",
    "\n",
    "X, y = make_classification(\n",
    "    n_samples=10000, n_features=10, n_informative=5, n_redundant=5,\n",
    "    random_state=42)\n",
    "\n",
    "X_train, X_test, y_train, y_test = train_test_split(\n",
    "    X, y, test_size=0.3, random_state=42)\n"
   ]
  },
  {
   "cell_type": "markdown",
   "metadata": {},
   "source": [
    "__Задание 1.__ Обучение и применение метода опорных векторов и логистической регрессии.\n",
    "\n",
    "__(1 балл)__\n",
    "\n",
    "Обучите метод опорных векторов. На занятиях мы проходили линейный вариант без ядрового перехода, что соответствует линейному ядру (`LinearSVC` или же `SVC(kernel='linear')` в `sklearn.svm`). Подберите параметр регуляризации `C` (можете воспользоваться кросс-валидацией или отделить валидационную выборку от обучающей). __Здесь и далее, если не сказано иначе, подбирайте оптимальные гиперпараметры с точки зрения AUC-PR.__"
   ]
  },
  {
   "cell_type": "code",
   "execution_count": 647,
   "metadata": {},
   "outputs": [],
   "source": [
    "from sklearn.model_selection import train_test_split\n",
    "\n",
    "X_train, X_valid, y_train, y_valid = train_test_split(X_train, y_train, test_size=0.3 )"
   ]
  },
  {
   "cell_type": "code",
   "execution_count": 648,
   "metadata": {},
   "outputs": [],
   "source": [
    "import numpy as np\n",
    "from sklearn import metrics\n",
    "from sklearn.svm import LinearSVC, SVC\n",
    "from sklearn.metrics import precision_recall_curve\n",
    "from sklearn.metrics import auc\n",
    "\n",
    "# https://sinyi-chou.github.io/python-sklearn-precision-recall/\n",
    "\n",
    "\n",
    "\n",
    "def find_best_c(X_train, y_train, X_test, y_test, learn_model):\n",
    "    \n",
    "    auc_pr_list = []\n",
    "\n",
    "    for c in tqdm(np.linspace(0.001, 1, 10)):\n",
    "        model = learn_model(max_iter=100000, C=c).fit(X_train, y_train)\n",
    "        pred = model.predict(X_test)\n",
    "        precision, recall, thresholds = precision_recall_curve(y_test, pred)\n",
    "        auc_precision_recall = auc(recall, precision)\n",
    "        auc_pr_list.append(auc_precision_recall)\n",
    "\n",
    "    return np.linspace(0.01, 1, 10)[np.argmax(auc_pr_list)]\n",
    "        "
   ]
  },
  {
   "cell_type": "code",
   "execution_count": 645,
   "metadata": {},
   "outputs": [
    {
     "name": "stderr",
     "output_type": "stream",
     "text": [
      "100%|███████████████████████████████████████████| 10/10 [00:04<00:00,  2.22it/s]\n"
     ]
    }
   ],
   "source": [
    "c_best_svc = find_best_c(X_train, y_train, X_valid, y_valid, LinearSVC)"
   ]
  },
  {
   "cell_type": "code",
   "execution_count": 646,
   "metadata": {},
   "outputs": [
    {
     "data": {
      "text/plain": [
       "0.01"
      ]
     },
     "execution_count": 646,
     "metadata": {},
     "output_type": "execute_result"
    }
   ],
   "source": [
    "c_best_svc"
   ]
  },
  {
   "cell_type": "markdown",
   "metadata": {},
   "source": [
    "На тестовой части постройте ROC и PR кривые, а также посчитайте AUC-ROC, AUC-PR с точностью до 5 знаков. Сравните AUC-ROC и AUC-PR для вашей модели с этими же метриками для случайного классификатора (который на каждом объекте выдаёт один из двух классов с равными вероятностями)."
   ]
  },
  {
   "cell_type": "code",
   "execution_count": 293,
   "metadata": {},
   "outputs": [
    {
     "data": {
      "image/png": "[encoded data removed]",
      "text/plain": [
       "<Figure size 432x288 with 1 Axes>"
      ]
     },
     "metadata": {
      "needs_background": "light"
     },
     "output_type": "display_data"
    }
   ],
   "source": [
    "import matplotlib.pyplot as plt\n",
    "from sklearn import datasets, metrics, model_selection, svm\n",
    "\n",
    "svc = LinearSVC(max_iter=100000, C=c_best_svc).fit(X_train, y_train)\n",
    "metrics.plot_roc_curve(svc, X_test, y_test) \n",
    "\n",
    "plt.show() "
   ]
  },
  {
   "cell_type": "code",
   "execution_count": 660,
   "metadata": {},
   "outputs": [
    {
     "name": "stdout",
     "output_type": "stream",
     "text": [
      "AUC_PR:\n"
     ]
    },
    {
     "data": {
      "text/plain": [
       "0.83264"
      ]
     },
     "execution_count": 660,
     "metadata": {},
     "output_type": "execute_result"
    }
   ],
   "source": [
    "precision, recall, thresholds = precision_recall_curve(y_test, svc.predict(X_test))\n",
    "auc_precision_recall = auc(recall, precision)\n",
    "print('AUC_PR:')\n",
    "np.round(auc_precision_recall, 5)"
   ]
  },
  {
   "cell_type": "code",
   "execution_count": 659,
   "metadata": {},
   "outputs": [
    {
     "name": "stdout",
     "output_type": "stream",
     "text": [
      "AUC_ROC:\n"
     ]
    },
    {
     "data": {
      "text/plain": [
       "0.7733419981499846"
      ]
     },
     "execution_count": 659,
     "metadata": {},
     "output_type": "execute_result"
    }
   ],
   "source": [
    "print('AUC_ROC:')\n",
    "metrics.roc_auc_score(y_test, svc.predict(X_test))"
   ]
  },
  {
   "cell_type": "code",
   "execution_count": 661,
   "metadata": {},
   "outputs": [
    {
     "data": {
      "text/plain": [
       "<sklearn.metrics._plot.precision_recall_curve.PrecisionRecallDisplay at 0x7ff3a27c74c0>"
      ]
     },
     "execution_count": 661,
     "metadata": {},
     "output_type": "execute_result"
    },
    {
     "data": {
      "image/png": "[encoded data removed]",
      "text/plain": [
       "<Figure size 432x288 with 1 Axes>"
      ]
     },
     "metadata": {
      "needs_background": "light"
     },
     "output_type": "display_data"
    }
   ],
   "source": [
    "metrics.plot_precision_recall_curve(svc, X_test, y_test)"
   ]
  },
  {
   "cell_type": "code",
   "execution_count": 653,
   "metadata": {},
   "outputs": [
    {
     "data": {
      "text/plain": [
       "DummyClassifier(strategy='uniform')"
      ]
     },
     "execution_count": 653,
     "metadata": {},
     "output_type": "execute_result"
    }
   ],
   "source": [
    "from sklearn.dummy import DummyClassifier\n",
    "dummy_clf = DummyClassifier(strategy=\"uniform\")\n",
    "dummy_clf.fit(X_train, y_train)"
   ]
  },
  {
   "cell_type": "code",
   "execution_count": 654,
   "metadata": {},
   "outputs": [
    {
     "data": {
      "image/png": "[encoded data removed]",
      "text/plain": [
       "<Figure size 432x288 with 1 Axes>"
      ]
     },
     "metadata": {
      "needs_background": "light"
     },
     "output_type": "display_data"
    }
   ],
   "source": [
    "metrics.plot_roc_curve(dummy_clf, X_test, y_test) \n",
    "\n",
    "plt.show()"
   ]
  },
  {
   "cell_type": "code",
   "execution_count": 655,
   "metadata": {},
   "outputs": [
    {
     "data": {
      "text/plain": [
       "<sklearn.metrics._plot.precision_recall_curve.PrecisionRecallDisplay at 0x7ff3a1bd3d30>"
      ]
     },
     "execution_count": 655,
     "metadata": {},
     "output_type": "execute_result"
    },
    {
     "data": {
      "image/png": "[encoded data removed]",
      "text/plain": [
       "<Figure size 432x288 with 1 Axes>"
      ]
     },
     "metadata": {
      "needs_background": "light"
     },
     "output_type": "display_data"
    }
   ],
   "source": [
    "metrics.plot_precision_recall_curve(dummy_clf, X_test, y_test) # рандом победил!"
   ]
  },
  {
   "cell_type": "code",
   "execution_count": 662,
   "metadata": {},
   "outputs": [
    {
     "name": "stdout",
     "output_type": "stream",
     "text": [
      "AUC-PR:\n"
     ]
    },
    {
     "data": {
      "text/plain": [
       "0.62612"
      ]
     },
     "execution_count": 662,
     "metadata": {},
     "output_type": "execute_result"
    }
   ],
   "source": [
    "precision, recall, thresholds = precision_recall_curve(y_test, dummy_clf.predict(X_test))\n",
    "auc_precision_recall = auc(recall, precision)\n",
    "print('AUC-PR:')\n",
    "np.round(auc_precision_recall, 5)"
   ]
  },
  {
   "cell_type": "markdown",
   "metadata": {},
   "source": [
    "А теперь проделайте все то же самое для логистической регрессии (LR) — обучение, подбор параметра регуляризации (используйте L2-регуляризацию), вычисление всех метрик и построение кривых. Сравните результаты LR и SVM с точки зрения всех вычисленных критериев качества, объясните различия (если они есть)."
   ]
  },
  {
   "cell_type": "code",
   "execution_count": 657,
   "metadata": {},
   "outputs": [
    {
     "name": "stderr",
     "output_type": "stream",
     "text": [
      "100%|███████████████████████████████████████████| 10/10 [00:00<00:00, 34.46it/s]\n"
     ]
    },
    {
     "data": {
      "image/png": "[encoded data removed]",
      "text/plain": [
       "<Figure size 432x288 with 1 Axes>"
      ]
     },
     "metadata": {
      "needs_background": "light"
     },
     "output_type": "display_data"
    }
   ],
   "source": [
    "import matplotlib.pyplot as plt\n",
    "from sklearn import datasets, metrics, model_selection, svm\n",
    "import numpy as np\n",
    "from sklearn import metrics\n",
    "from sklearn.svm import LinearSVC\n",
    "from sklearn.metrics import precision_recall_curve\n",
    "from sklearn.linear_model import LogisticRegression\n",
    "from sklearn.metrics import auc\n",
    "# https://sinyi-chou.github.io/python-sklearn-precision-recall/\n",
    "\n",
    "c_best_lr = find_best_c(X_train, y_train, X_valid, y_valid, LogisticRegression)\n",
    "\n",
    "lr = LogisticRegression(max_iter=100000, C=c_best_lr).fit(X_train, y_train)\n",
    "metrics.plot_roc_curve(lr, X_test, y_test) \n",
    "\n",
    "plt.show()"
   ]
  },
  {
   "cell_type": "code",
   "execution_count": 663,
   "metadata": {},
   "outputs": [
    {
     "name": "stdout",
     "output_type": "stream",
     "text": [
      "AUC_PR:\n"
     ]
    },
    {
     "data": {
      "text/plain": [
       "0.8343"
      ]
     },
     "execution_count": 663,
     "metadata": {},
     "output_type": "execute_result"
    }
   ],
   "source": [
    "precision, recall, thresholds = precision_recall_curve(y_test, lr.predict(X_test))\n",
    "auc_precision_recall = auc(recall, precision)\n",
    "print('AUC_PR:')\n",
    "np.round(auc_precision_recall, 5)"
   ]
  },
  {
   "cell_type": "code",
   "execution_count": 664,
   "metadata": {},
   "outputs": [
    {
     "name": "stdout",
     "output_type": "stream",
     "text": [
      "AUC_ROC:\n"
     ]
    },
    {
     "data": {
      "text/plain": [
       "0.7753951507549193"
      ]
     },
     "execution_count": 664,
     "metadata": {},
     "output_type": "execute_result"
    }
   ],
   "source": [
    "print('AUC_ROC:')\n",
    "metrics.roc_auc_score(y_test, lr.predict(X_test))"
   ]
  },
  {
   "cell_type": "code",
   "execution_count": 665,
   "metadata": {},
   "outputs": [
    {
     "data": {
      "text/plain": [
       "<sklearn.metrics._plot.precision_recall_curve.PrecisionRecallDisplay at 0x7ff3a24ee4f0>"
      ]
     },
     "execution_count": 665,
     "metadata": {},
     "output_type": "execute_result"
    },
    {
     "data": {
      "image/png": "[encoded data removed]",
      "text/plain": [
       "<Figure size 432x288 with 1 Axes>"
      ]
     },
     "metadata": {
      "needs_background": "light"
     },
     "output_type": "display_data"
    }
   ],
   "source": [
    "metrics.plot_precision_recall_curve(lr, X_test, y_test)"
   ]
  },
  {
   "cell_type": "code",
   "execution_count": null,
   "metadata": {},
   "outputs": [],
   "source": [
    "# результаты очень похожи"
   ]
  },
  {
   "cell_type": "markdown",
   "metadata": {},
   "source": [
    "В названии метода опорных векторов присутствуют некоторые \"опорные векторы\". Сгенерируйте синтетические данные с помощью `make_classification` с 2 признаками, обучите на нём метод опорных векторов. Визуализируйте разделяющую прямую, все объекты и выделите опорные векторы (атрибут `support_vectors_`). В этот раз, если необходимо, вместо `LinearSVC` воспользуйтесь `SVC(kernel='linear')`, так как только в нём есть информация об опорных векторах."
   ]
  },
  {
   "cell_type": "code",
   "execution_count": 13,
   "metadata": {},
   "outputs": [],
   "source": [
    "from sklearn.datasets import make_classification\n",
    "\n",
    "X, y = make_classification(n_samples=10000,\n",
    "                              n_features=2,\n",
    "                              n_informative=2, \n",
    "                              n_redundant=0,\n",
    "                              n_repeated=0, \n",
    "                              n_classes=2, \n",
    "                              random_state = 42)"
   ]
  },
  {
   "cell_type": "code",
   "execution_count": 14,
   "metadata": {},
   "outputs": [],
   "source": [
    "X_train_, X_test_, y_train_, y_test_ = train_test_split(X, y, test_size=0.3, random_state=42)"
   ]
  },
  {
   "cell_type": "code",
   "execution_count": 15,
   "metadata": {},
   "outputs": [
    {
     "name": "stderr",
     "output_type": "stream",
     "text": [
      "100%|███████████████████████████████████████████| 10/10 [00:00<00:00, 13.05it/s]\n"
     ]
    }
   ],
   "source": [
    "# https://sinyi-chou.github.io/python-sklearn-precision-recall/\n",
    "c_best = find_best_c(X_train_, y_train_, X_test_, y_test_, LinearSVC)\n",
    "\n",
    "svc = SVC(kernel='linear', max_iter=100000, C=c_best).fit(X_train_, y_train_)"
   ]
  },
  {
   "cell_type": "code",
   "execution_count": 16,
   "metadata": {},
   "outputs": [
    {
     "name": "stderr",
     "output_type": "stream",
     "text": [
      "No handles with labels found to put in legend.\n"
     ]
    },
    {
     "data": {
      "image/png": "[encoded data removed]",
      "text/plain": [
       "<Figure size 432x288 with 1 Axes>"
      ]
     },
     "metadata": {},
     "output_type": "display_data"
    }
   ],
   "source": [
    "# https://stackoverflow.com/questions/51495819/how-to-plot-svm-decision-boundary-in-sklearn-python\n",
    "# https://scikit-learn.org/stable/auto_examples/svm/plot_linearsvc_support_vectors.html\n",
    "\n",
    "def make_meshgrid(x, y, h=.02):\n",
    "    x_min, x_max = x.min() - 1, x.max() + 1\n",
    "    y_min, y_max = y.min() - 1, y.max() + 1\n",
    "    xx, yy = np.meshgrid(np.arange(x_min, x_max, h), np.arange(y_min, y_max, h))\n",
    "    return xx, yy\n",
    "\n",
    "def plot_contours(ax, clf, xx, yy, **params):\n",
    "    Z = clf.predict(np.c_[xx.ravel(), yy.ravel()])\n",
    "    Z = Z.reshape(xx.shape)\n",
    "    out = ax.contourf(xx, yy, Z, **params)\n",
    "    return out\n",
    "\n",
    "svc = SVC(kernel='linear', max_iter=100000, C=c_best).fit(X_train_, y_train_)\n",
    "\n",
    "fig, ax = plt.subplots()\n",
    "# title for the plots\n",
    "title = ('Decision surface of linear SVC ')\n",
    "# Set-up grid for plotting.\n",
    "X0, X1 = X[:, 0], X[:, 1]\n",
    "xx, yy = make_meshgrid(X0, X1)\n",
    "\n",
    "plot_contours(ax, svc, xx, yy, cmap=plt.cm.coolwarm, alpha=0.8)\n",
    "ax.scatter(X0, X1, c=y, cmap=plt.cm.coolwarm, s=20, edgecolors='k')\n",
    "\n",
    "ax.set_ylabel('y label here')\n",
    "ax.set_xlabel('x label here')\n",
    "ax.set_xticks(())\n",
    "ax.set_yticks(())\n",
    "ax.set_title(title)\n",
    "ax.legend()\n",
    "plt.show()"
   ]
  },
  {
   "cell_type": "code",
   "execution_count": null,
   "metadata": {},
   "outputs": [],
   "source": [
    "# plt.figure(figsize=(10, 5))\n",
    "# for i, C in enumerate([1, 100]):\n",
    "#     # \"hinge\" is the standard SVM loss\n",
    "#     clf = LinearSVC(C=C, loss=\"hinge\", random_state=42).fit(X, y)\n",
    "#     # obtain the support vectors through the decision function\n",
    "#     decision_function = clf.decision_function(X)\n",
    "#     # we can also calculate the decision function manually\n",
    "#     # decision_function = np.dot(X, clf.coef_[0]) + clf.intercept_[0]\n",
    "#     # The support vectors are the samples that lie within the margin\n",
    "#     # boundaries, whose size is conventionally constrained to 1\n",
    "#     support_vector_indices = np.where(np.abs(decision_function) <= 1 + 1e-15)[0]\n",
    "#     support_vectors = X[support_vector_indices]\n",
    "\n",
    "#     plt.subplot(1, 2, i + 1)\n",
    "#     plt.scatter(X[:, 0], X[:, 1], c=y, s=30, cmap=plt.cm.Paired)\n",
    "#     ax = plt.gca()\n",
    "#     xlim = ax.get_xlim()\n",
    "#     ylim = ax.get_ylim()\n",
    "#     xx, yy = np.meshgrid(\n",
    "#         np.linspace(xlim[0], xlim[1], 50), np.linspace(ylim[0], ylim[1], 50)\n",
    "#     )\n",
    "#     Z = clf.decision_function(np.c_[xx.ravel(), yy.ravel()])\n",
    "#     Z = Z.reshape(xx.shape)\n",
    "#     plt.contour(\n",
    "#         xx,\n",
    "#         yy,\n",
    "#         Z,\n",
    "#         colors=\"k\",\n",
    "#         levels=[-1, 0, 1],\n",
    "#         alpha=0.5,\n",
    "#         linestyles=[\"--\", \"-\", \"--\"],\n",
    "#     )\n",
    "#     plt.scatter(\n",
    "#         support_vectors[:, 0],\n",
    "#         support_vectors[:, 1],\n",
    "#         s=100,\n",
    "#         linewidth=1,\n",
    "#         facecolors=\"none\",\n",
    "#         edgecolors=\"k\",\n",
    "#     )\n",
    "#     plt.title(\"C=\" + str(C))\n",
    "# plt.tight_layout()\n",
    "# plt.show()"
   ]
  },
  {
   "cell_type": "code",
   "execution_count": 17,
   "metadata": {},
   "outputs": [
    {
     "name": "stderr",
     "output_type": "stream",
     "text": [
      "100%|███████████████████████████████████████████| 10/10 [00:00<00:00, 22.14it/s]\n"
     ]
    }
   ],
   "source": [
    "import matplotlib.pyplot as plt\n",
    "from sklearn import datasets, metrics, model_selection, svm\n",
    "\n",
    "c_best = find_best_c(X_train_, y_train_, X_test_, y_test_, LogisticRegression)\n",
    "\n",
    "lr = LogisticRegression(max_iter=100000, C=c_best).fit(X_train, y_train)"
   ]
  },
  {
   "cell_type": "markdown",
   "metadata": {},
   "source": [
    "В отличие от метода опорных векторов, логистическая регрессия не пытается построить разделяющую гиперплоскость с максимальным отступом, а приближает в каждой точке пространства объектов вероятность положительных ответов $p(y=+1|x)$. Попробуйте нарисовать это распределение на плоскости, не забудьте отметить на ней все объекты. Вам может помочь функция `plt.pcolor`."
   ]
  },
  {
   "cell_type": "code",
   "execution_count": 18,
   "metadata": {},
   "outputs": [],
   "source": [
    "import seaborn as sns"
   ]
  },
  {
   "cell_type": "code",
   "execution_count": 19,
   "metadata": {},
   "outputs": [
    {
     "data": {
      "image/png": "[encoded data removed]",
      "text/plain": [
       "<Figure size 432x288 with 1 Axes>"
      ]
     },
     "metadata": {
      "needs_background": "light"
     },
     "output_type": "display_data"
    }
   ],
   "source": [
    "# https://scipython.com/blog/plotting-the-decision-boundary-of-a-logistic-regression-model/\n",
    "\n",
    "lr = LogisticRegression(max_iter=100000, C=c_best)\n",
    "lr.fit(X_train_, y_train_)\n",
    "\n",
    "# Retrieve the model parameters.\n",
    "b = lr.intercept_[0]\n",
    "w1, w2 = lr.coef_.T\n",
    "# Calculate the intercept and gradient of the decision boundary.\n",
    "c = -b/w2\n",
    "m = -w1/w2\n",
    "\n",
    "# Plot the data and the classification with the decision boundary.\n",
    "xmin, xmax = -1, 2\n",
    "ymin, ymax = -1, 2.5\n",
    "xd = np.array([xmin, xmax])\n",
    "yd = m*xd + c\n",
    "plt.plot(xd, yd, 'k', lw=1, ls='--')\n",
    "plt.fill_between(xd, yd, ymin, color='tab:blue', alpha=0.2)\n",
    "plt.fill_between(xd, yd, ymax, color='tab:orange', alpha=0.2)\n",
    "\n",
    "plt.scatter(*X_train_[y_train_==0].T, s=8, alpha=0.5)\n",
    "plt.scatter(*X_train_[y_train_==1].T, s=8, alpha=0.5)\n",
    "plt.xlim(xmin, xmax)\n",
    "plt.ylim(ymin, ymax)\n",
    "plt.ylabel(r'$x_2$')\n",
    "plt.xlabel(r'$x_1$')\n",
    "\n",
    "plt.show()"
   ]
  },
  {
   "cell_type": "markdown",
   "metadata": {},
   "source": [
    "__Задание 2.__ Калибровка вероятностей.\n",
    "\n",
    "__(1 балл)__\n",
    "\n",
    "Перейдём к оценке качества выдаваемых алгоритмами вероятностей. Начнём с калибровочных кривых. \n",
    "\n",
    "Допустим, алгоритм возвращает некоторые числа от нуля до единицы. Хорошо ли они оценивают вероятность? Для этого разобьем отрезок $[0, 1]$ на несколько маленьких отрезков одинаковой длины. Рассмотрим $i$-й отрезок с границами $[a_i, b_i]$ и предсказания $p_1, p_2, \\dots, p_k$, которые попали в него. Пусть им соответствуют истинные ответы $y_1, y_2, \\dots, y_k$. Если алгоритм выдает корректные вероятности, то среди этих истинных ответов должно быть примерно $(a_i + b_i) / 2$ единиц. Иными словами, если нарисовать кривую, у которой по оси X отложены центры отрезков, а по оси Y — доли единичных ответов этих в отрезках, то она должна оказаться диагональной. Ниже приведена функция, которая должна рисовать такие кривые. В ней допущено две ошибки — найдите и исправьте их."
   ]
  },
  {
   "cell_type": "code",
   "execution_count": 667,
   "metadata": {},
   "outputs": [],
   "source": [
    "def plot_calibration_curve(y_test, preds):\n",
    "    bin_middle_points = []\n",
    "    bin_real_ratios = []\n",
    "    n_bins = 10\n",
    "    for i in range(n_bins):\n",
    "        l = 1.0 / n_bins * i\n",
    "        r = 1.0 / n_bins * (i + 1)\n",
    "        bin_middle_points.append((l + r) / 2) # поменяла - на + (центры отрезков)\n",
    "        bin_real_ratios.append(np.sum(y_test[(preds >= l) & (preds < r)] == 1) \n",
    "                               / len(y_test[(preds >= l) & (preds < r)])) # доли единичных ответов\n",
    "    plt.figure(figsize=(6,6))\n",
    "    plt.plot(bin_middle_points, bin_real_ratios)\n",
    "    plt.ylim([-0.05, 1.05])\n",
    "    plt.grid()"
   ]
  },
  {
   "cell_type": "markdown",
   "metadata": {},
   "source": [
    "Сгенерируйте синтетические данные аналогично использованным в самом первом задании. Постройте калибровочные кривые на тестовой части для логистической регрессии и метода опорных векторов (не забудьте перевести его предсказания в $[0;1]$). Изучите распределение ответов классификаторов (постройте гистограммы с помощью `plt.hist`). Чем они различаются? Чем вы можете объяснить это?"
   ]
  },
  {
   "cell_type": "code",
   "execution_count": 668,
   "metadata": {},
   "outputs": [],
   "source": [
    "X, y = make_classification(\n",
    "    n_samples=10000, n_features=10, n_informative=5, n_redundant=5,\n",
    "    random_state=42)\n",
    "\n",
    "X_train, X_test, y_train, y_test = train_test_split(\n",
    "    X, y, test_size=0.3, random_state=42)"
   ]
  },
  {
   "cell_type": "code",
   "execution_count": 669,
   "metadata": {},
   "outputs": [],
   "source": [
    "svc = SVC(kernel='linear', max_iter=100000, C=c_best_svc).fit(X_train, y_train)\n",
    "svc_pred = svc.decision_function(X_test)\n",
    "\n",
    "# переведем предсказание как в семинаре\n",
    "svc_pred = (svc_pred - svc_pred.min()) / (svc_pred.max() - svc_pred.min())"
   ]
  },
  {
   "cell_type": "code",
   "execution_count": 670,
   "metadata": {},
   "outputs": [
    {
     "data": {
      "image/png": "[encoded data removed]",
      "text/plain": [
       "<Figure size 432x432 with 1 Axes>"
      ]
     },
     "metadata": {
      "needs_background": "light"
     },
     "output_type": "display_data"
    }
   ],
   "source": [
    "plot_calibration_curve(y_test, svc_pred) # нуууу, почти диагональное"
   ]
  },
  {
   "cell_type": "code",
   "execution_count": 671,
   "metadata": {},
   "outputs": [
    {
     "data": {
      "text/plain": [
       "<AxesSubplot:ylabel='Count'>"
      ]
     },
     "execution_count": 671,
     "metadata": {},
     "output_type": "execute_result"
    },
    {
     "data": {
      "image/png": "[encoded data removed]",
      "text/plain": [
       "<Figure size 432x288 with 1 Axes>"
      ]
     },
     "metadata": {
      "needs_background": "light"
     },
     "output_type": "display_data"
    }
   ],
   "source": [
    "sns.histplot(svc_pred)"
   ]
  },
  {
   "cell_type": "code",
   "execution_count": 26,
   "metadata": {},
   "outputs": [
    {
     "data": {
      "image/png": "[encoded data removed]",
      "text/plain": [
       "<Figure size 432x432 with 1 Axes>"
      ]
     },
     "metadata": {
      "needs_background": "light"
     },
     "output_type": "display_data"
    }
   ],
   "source": [
    "lr = LogisticRegression(max_iter=100000, C=c_best).fit(X_train, y_train)\n",
    "lr_pred = lr.predict_proba(X_test)[:, 1]\n",
    "plot_calibration_curve(y_test, lr_pred) # оооОООоО!!!!"
   ]
  },
  {
   "cell_type": "code",
   "execution_count": 27,
   "metadata": {},
   "outputs": [
    {
     "data": {
      "text/plain": [
       "<AxesSubplot:ylabel='Count'>"
      ]
     },
     "execution_count": 27,
     "metadata": {},
     "output_type": "execute_result"
    },
    {
     "data": {
      "image/png": "[encoded data removed]",
      "text/plain": [
       "<Figure size 432x288 with 1 Axes>"
      ]
     },
     "metadata": {
      "needs_background": "light"
     },
     "output_type": "display_data"
    }
   ],
   "source": [
    "sns.histplot(lr_pred)"
   ]
  },
  {
   "cell_type": "code",
   "execution_count": null,
   "metadata": {},
   "outputs": [],
   "source": [
    "# мы видим, что у lr вероятсноти распределены примерно одинаково\n",
    "# у svc же они распределены нормально\n",
    "# вероятно, это происходит из-за распределяющей полосы svm, которая влияет на уверенности модели"
   ]
  },
  {
   "cell_type": "markdown",
   "metadata": {},
   "source": [
    "Воспользуйтесь `CalibratedClassifierCV` из `sklearn` для калибровки вероятностей метода опорных векторов на обучении и постройте с его помощью предсказания для тестовой выборки. Нарисуйте для них калибровочную кривую. Улучшилась ли она?"
   ]
  },
  {
   "cell_type": "code",
   "execution_count": 672,
   "metadata": {},
   "outputs": [
    {
     "data": {
      "image/png": "[encoded data removed]",
      "text/plain": [
       "<Figure size 504x504 with 1 Axes>"
      ]
     },
     "metadata": {
      "needs_background": "light"
     },
     "output_type": "display_data"
    }
   ],
   "source": [
    "# код из шестого семинара\n",
    "from sklearn.calibration import CalibratedClassifierCV, calibration_curve\n",
    "\n",
    "plt.figure(figsize=(7, 7))\n",
    "\n",
    "sigmoid_svc = CalibratedClassifierCV(svc, cv=3, method='sigmoid').fit(X_train, y_train)\n",
    "sigmoid_svc_pred = sigmoid_svc.predict_proba(X_test)[:, 1]\n",
    "\n",
    "svc_true_prob, svc_pred_prob = calibration_curve(y_test, svc_pred, n_bins=15)\n",
    "sigm_svc_true_prob, sigm_svc_pred_prob = calibration_curve(y_test, sigmoid_svc_pred, n_bins=15)\n",
    "lr_true_prob, lr_pred_prob = calibration_curve(y_test, lr_pred, n_bins=15)\n",
    "\n",
    "plt.plot(sigm_svc_pred_prob, sigm_svc_true_prob, label='SVC_sigm', color='red') # мы видим, что стало лучше!!\n",
    "plt.plot(svc_pred_prob, svc_true_prob, label='SVC', color='blue')\n",
    "plt.plot(lr_pred_prob, lr_true_prob, label='LR', color='orange')\n",
    "plt.plot([0, 1], [0, 1], label='Perfect', linestyle='--', color='green')\n",
    "\n",
    "plt.xlabel('Mean predicted probability')\n",
    "plt.ylabel('Fraction of positives')\n",
    "plt.title('Calibration curves')\n",
    "plt.legend()\n",
    "plt.show() # да, стало значительнос лучше!"
   ]
  },
  {
   "cell_type": "code",
   "execution_count": 29,
   "metadata": {},
   "outputs": [],
   "source": [
    "# воспользуемся определением из семинара"
   ]
  },
  {
   "cell_type": "markdown",
   "metadata": {},
   "source": [
    "__Бонусное задание (0.5 балла).__ Реализуйте свою функцию для калибровки вероятностей. Опишите ваш подход и продемонстрируйте результаты. Ключевые слова для вдохновения: `Platt`, `Isotonic`."
   ]
  },
  {
   "cell_type": "code",
   "execution_count": 33,
   "metadata": {},
   "outputs": [
    {
     "data": {
      "text/plain": [
       "(array([0.00858369, 0.08189655, 0.16336634, 0.235     , 0.31472081,\n",
       "        0.26011561, 0.52469136, 0.53333333, 0.59893048, 0.75294118,\n",
       "        0.72395833, 0.83561644, 0.82553191, 0.86821705, 0.89142857]),\n",
       " array([0.03792749, 0.09835124, 0.16476404, 0.23288661, 0.30311015,\n",
       "        0.36556707, 0.43666038, 0.50158776, 0.56427544, 0.63068835,\n",
       "        0.69917531, 0.76721351, 0.83369974, 0.90142586, 0.9571743 ]))"
      ]
     },
     "execution_count": 33,
     "metadata": {},
     "output_type": "execute_result"
    }
   ],
   "source": [
    "sigm_svc_true_prob,sigm_svc_pred_prob"
   ]
  },
  {
   "cell_type": "markdown",
   "metadata": {},
   "source": [
    "**Калибровка Платта**\n",
    "\n",
    "Допустим, у нас есть обученный класификатор $b(x)$, который выдает уверенность (скор) в том, что $x$ относится к положительному классу. Метод приближает вероятность положительного класса с помощью сигмоидной функции:\n",
    "\n",
    "$$\n",
    "p\\big(y = +1 \\big| b(x)\\big) = \\frac{1}{1 + \\exp (A \\cdot b(x) + C)}\n",
    "$$\n",
    "\n",
    "Здесь обучаемыми параметрами являются $A, C \\in \\mathbb{R}$, их подбирают с помощью метода максимального правдоподобия (точно так же, как в логистической регрессии). Сделать это можно по кросс-валидации или на отложенной выборке. "
   ]
  },
  {
   "cell_type": "markdown",
   "metadata": {},
   "source": [
    "# Часть 1. Работа с переменными."
   ]
  },
  {
   "cell_type": "markdown",
   "metadata": {},
   "source": [
    "В этой части мы научимся обрабатывать категориальные переменные, так как закодировать их в виде чисел недостаточно (это задаёт некоторый порядок, которого на категориальных переменных может и не быть). Существует два основных способа обработки категориальных значений:\n",
    "- One-hot-кодирование\n",
    "- Счётчики (CTR, mean-target кодирование, ...) — каждый категориальный признак заменяется на среднее значение целевой переменной по всем объектам, имеющим одинаковое значение в этом признаке.\n",
    "\n",
    "Начнём с one-hot-кодирования. Допустим наш категориальный признак $f_j(x)$ принимает значения из множества $C=\\{c_1, \\dots, c_m\\}$. Заменим его на $m$ бинарных признаков $b_1(x), \\dots, b_m(x)$, каждый из которых является индикатором одного из возможных категориальных значений:\n",
    "$$\n",
    "b_i(x) = [f_j(x) = c_i]\n",
    "$$"
   ]
  },
  {
   "cell_type": "markdown",
   "metadata": {},
   "source": [
    "__Подготовка данных.__\n",
    "\n",
    "Загрузим данные [UCI Bank Marketing Dataset](https://archive.ics.uci.edu/ml/datasets/bank+marketing). Этот датасет содержит информацию о банковском телефонном маркетинге, объектом в нем является телефонный звонок потенциальному клиенту с предложением некоторой услуги (утверждается, что это краткосрочный депозит), целевой переменной - ответ клиента (согласился ли он открыть депозит?). В качестве признакового описания используются характеристики клиента (образование, брак и т.д.), данные о звонке и различные экономические индикаторы - более подробная информация представлена в файле `bank-additional-names.txt`."
   ]
  },
  {
   "cell_type": "code",
   "execution_count": 36,
   "metadata": {},
   "outputs": [
    {
     "name": "stdout",
     "output_type": "stream",
     "text": [
      "--2021-11-09 18:12:29--  https://archive.ics.uci.edu/ml/machine-learning-databases/00222/bank-additional.zip\n",
      "Распознаётся archive.ics.uci.edu (archive.ics.uci.edu)… 128.195.10.252\n",
      "Подключение к archive.ics.uci.edu (archive.ics.uci.edu)|128.195.10.252|:443... соединение установлено.\n",
      "HTTP-запрос отправлен. Ожидание ответа… 200 OK\n",
      "Длина: 444572 (434K) [application/x-httpd-php]\n",
      "Сохранение в: «bank-additional.zip.14»\n",
      "\n",
      "bank-additional.zip 100%[===================>] 434,15K   459KB/s    за 0,9s    \n",
      "\n",
      "2021-11-09 18:12:31 (459 KB/s) - «bank-additional.zip.14» сохранён [444572/444572]\n",
      "\n",
      "Archive:  bank-additional.zip\n",
      "replace bank-additional/.DS_Store? [y]es, [n]o, [A]ll, [N]one, [r]ename: ^C\n"
     ]
    }
   ],
   "source": [
    "!wget https://archive.ics.uci.edu/ml/machine-learning-databases/00222/bank-additional.zip\n",
    "!unzip bank-additional.zip\n",
    "df = pd.read_csv('bank-additional/bank-additional-full.csv', sep=';')\n"
   ]
  },
  {
   "cell_type": "code",
   "execution_count": 37,
   "metadata": {},
   "outputs": [
    {
     "data": {
      "text/html": [
       "<div>\n",
       "<style scoped>\n",
       "    .dataframe tbody tr th:only-of-type {\n",
       "        vertical-align: middle;\n",
       "    }\n",
       "\n",
       "    .dataframe tbody tr th {\n",
       "        vertical-align: top;\n",
       "    }\n",
       "\n",
       "    .dataframe thead th {\n",
       "        text-align: right;\n",
       "    }\n",
       "</style>\n",
       "<table border=\"1\" class=\"dataframe\">\n",
       "  <thead>\n",
       "    <tr style=\"text-align: right;\">\n",
       "      <th></th>\n",
       "      <th>age</th>\n",
       "      <th>job</th>\n",
       "      <th>marital</th>\n",
       "      <th>education</th>\n",
       "      <th>default</th>\n",
       "      <th>housing</th>\n",
       "      <th>loan</th>\n",
       "      <th>contact</th>\n",
       "      <th>month</th>\n",
       "      <th>day_of_week</th>\n",
       "      <th>duration</th>\n",
       "      <th>campaign</th>\n",
       "      <th>pdays</th>\n",
       "      <th>previous</th>\n",
       "      <th>poutcome</th>\n",
       "      <th>emp.var.rate</th>\n",
       "      <th>cons.price.idx</th>\n",
       "      <th>cons.conf.idx</th>\n",
       "      <th>euribor3m</th>\n",
       "      <th>nr.employed</th>\n",
       "      <th>y</th>\n",
       "    </tr>\n",
       "  </thead>\n",
       "  <tbody>\n",
       "    <tr>\n",
       "      <th>0</th>\n",
       "      <td>56</td>\n",
       "      <td>housemaid</td>\n",
       "      <td>married</td>\n",
       "      <td>basic.4y</td>\n",
       "      <td>no</td>\n",
       "      <td>no</td>\n",
       "      <td>no</td>\n",
       "      <td>telephone</td>\n",
       "      <td>may</td>\n",
       "      <td>mon</td>\n",
       "      <td>261</td>\n",
       "      <td>1</td>\n",
       "      <td>999</td>\n",
       "      <td>0</td>\n",
       "      <td>nonexistent</td>\n",
       "      <td>1.1</td>\n",
       "      <td>93.994</td>\n",
       "      <td>-36.4</td>\n",
       "      <td>4.857</td>\n",
       "      <td>5191.0</td>\n",
       "      <td>no</td>\n",
       "    </tr>\n",
       "    <tr>\n",
       "      <th>1</th>\n",
       "      <td>57</td>\n",
       "      <td>services</td>\n",
       "      <td>married</td>\n",
       "      <td>high.school</td>\n",
       "      <td>unknown</td>\n",
       "      <td>no</td>\n",
       "      <td>no</td>\n",
       "      <td>telephone</td>\n",
       "      <td>may</td>\n",
       "      <td>mon</td>\n",
       "      <td>149</td>\n",
       "      <td>1</td>\n",
       "      <td>999</td>\n",
       "      <td>0</td>\n",
       "      <td>nonexistent</td>\n",
       "      <td>1.1</td>\n",
       "      <td>93.994</td>\n",
       "      <td>-36.4</td>\n",
       "      <td>4.857</td>\n",
       "      <td>5191.0</td>\n",
       "      <td>no</td>\n",
       "    </tr>\n",
       "    <tr>\n",
       "      <th>2</th>\n",
       "      <td>37</td>\n",
       "      <td>services</td>\n",
       "      <td>married</td>\n",
       "      <td>high.school</td>\n",
       "      <td>no</td>\n",
       "      <td>yes</td>\n",
       "      <td>no</td>\n",
       "      <td>telephone</td>\n",
       "      <td>may</td>\n",
       "      <td>mon</td>\n",
       "      <td>226</td>\n",
       "      <td>1</td>\n",
       "      <td>999</td>\n",
       "      <td>0</td>\n",
       "      <td>nonexistent</td>\n",
       "      <td>1.1</td>\n",
       "      <td>93.994</td>\n",
       "      <td>-36.4</td>\n",
       "      <td>4.857</td>\n",
       "      <td>5191.0</td>\n",
       "      <td>no</td>\n",
       "    </tr>\n",
       "    <tr>\n",
       "      <th>3</th>\n",
       "      <td>40</td>\n",
       "      <td>admin.</td>\n",
       "      <td>married</td>\n",
       "      <td>basic.6y</td>\n",
       "      <td>no</td>\n",
       "      <td>no</td>\n",
       "      <td>no</td>\n",
       "      <td>telephone</td>\n",
       "      <td>may</td>\n",
       "      <td>mon</td>\n",
       "      <td>151</td>\n",
       "      <td>1</td>\n",
       "      <td>999</td>\n",
       "      <td>0</td>\n",
       "      <td>nonexistent</td>\n",
       "      <td>1.1</td>\n",
       "      <td>93.994</td>\n",
       "      <td>-36.4</td>\n",
       "      <td>4.857</td>\n",
       "      <td>5191.0</td>\n",
       "      <td>no</td>\n",
       "    </tr>\n",
       "    <tr>\n",
       "      <th>4</th>\n",
       "      <td>56</td>\n",
       "      <td>services</td>\n",
       "      <td>married</td>\n",
       "      <td>high.school</td>\n",
       "      <td>no</td>\n",
       "      <td>no</td>\n",
       "      <td>yes</td>\n",
       "      <td>telephone</td>\n",
       "      <td>may</td>\n",
       "      <td>mon</td>\n",
       "      <td>307</td>\n",
       "      <td>1</td>\n",
       "      <td>999</td>\n",
       "      <td>0</td>\n",
       "      <td>nonexistent</td>\n",
       "      <td>1.1</td>\n",
       "      <td>93.994</td>\n",
       "      <td>-36.4</td>\n",
       "      <td>4.857</td>\n",
       "      <td>5191.0</td>\n",
       "      <td>no</td>\n",
       "    </tr>\n",
       "  </tbody>\n",
       "</table>\n",
       "</div>"
      ],
      "text/plain": [
       "   age        job  marital    education  default housing loan    contact  \\\n",
       "0   56  housemaid  married     basic.4y       no      no   no  telephone   \n",
       "1   57   services  married  high.school  unknown      no   no  telephone   \n",
       "2   37   services  married  high.school       no     yes   no  telephone   \n",
       "3   40     admin.  married     basic.6y       no      no   no  telephone   \n",
       "4   56   services  married  high.school       no      no  yes  telephone   \n",
       "\n",
       "  month day_of_week  duration  campaign  pdays  previous     poutcome  \\\n",
       "0   may         mon       261         1    999         0  nonexistent   \n",
       "1   may         mon       149         1    999         0  nonexistent   \n",
       "2   may         mon       226         1    999         0  nonexistent   \n",
       "3   may         mon       151         1    999         0  nonexistent   \n",
       "4   may         mon       307         1    999         0  nonexistent   \n",
       "\n",
       "   emp.var.rate  cons.price.idx  cons.conf.idx  euribor3m  nr.employed   y  \n",
       "0           1.1          93.994          -36.4      4.857       5191.0  no  \n",
       "1           1.1          93.994          -36.4      4.857       5191.0  no  \n",
       "2           1.1          93.994          -36.4      4.857       5191.0  no  \n",
       "3           1.1          93.994          -36.4      4.857       5191.0  no  \n",
       "4           1.1          93.994          -36.4      4.857       5191.0  no  "
      ]
     },
     "execution_count": 37,
     "metadata": {},
     "output_type": "execute_result"
    }
   ],
   "source": [
    "df.head()"
   ]
  },
  {
   "cell_type": "code",
   "execution_count": 38,
   "metadata": {},
   "outputs": [
    {
     "data": {
      "text/plain": [
       "no     36548\n",
       "yes     4640\n",
       "Name: y, dtype: int64"
      ]
     },
     "execution_count": 38,
     "metadata": {},
     "output_type": "execute_result"
    }
   ],
   "source": [
    "df.y.value_counts() # норм такой дисбаланс"
   ]
  },
  {
   "cell_type": "markdown",
   "metadata": {},
   "source": [
    "__Задание 3 (0.5 балла).__ Разделите выборку на обучающую и тестовую в соотношении 3:1. Зафиксируйте `random_state=777`, также используйте `stratify`. Один из столбцов в данных не несет информации для решения задачи — какой? Отбросьте его. \n",
    "\n"
   ]
  },
  {
   "cell_type": "code",
   "execution_count": 39,
   "metadata": {},
   "outputs": [],
   "source": [
    "#Из описания данных:\n",
    "# 1 - duration: last contact duration, in seconds (numeric). \n",
    "#     Important note: this attribute highly affects the output target (e.g., \n",
    "#     if duration=0 then y='no'). Yet, the duration is not known before a call is performed. \n",
    "#     Also, after the end of the call y is obviously known. Thus, this input should only be included \n",
    "#     for benchmark purposes and should be discarded if the intention is to have a realistic predictive model.\n",
    "\n",
    "# уберем этот признак\n",
    "\n",
    "df = df.drop(columns=['duration'])"
   ]
  },
  {
   "cell_type": "markdown",
   "metadata": {},
   "source": [
    "Закодируйте категориальные признаки с помощью `OrdinalEncoder`. Посчитайте качество (в этом задании будем работать c `AUC-PR`) при применении логистической регрессии. Замерьте время, потребовавшееся на обучение модели (с учетом кодирования признаков).\n",
    "\n",
    "__Вопрос__: почему в данном задании мы выбрали метрикой именно `AUC-PR`, а не, к примеру, `AUC-ROC`?\n",
    "\n",
    "__Ваш ответ__:"
   ]
  },
  {
   "cell_type": "code",
   "execution_count": 40,
   "metadata": {},
   "outputs": [],
   "source": [
    "# AUC-PR точнее работает на несбалансированных выборках (см 5 лекцию)"
   ]
  },
  {
   "cell_type": "code",
   "execution_count": 41,
   "metadata": {},
   "outputs": [
    {
     "data": {
      "text/plain": [
       "age                78\n",
       "job                12\n",
       "marital             4\n",
       "education           8\n",
       "default             3\n",
       "housing             3\n",
       "loan                3\n",
       "contact             2\n",
       "month              10\n",
       "day_of_week         5\n",
       "campaign           42\n",
       "pdays              27\n",
       "previous            8\n",
       "poutcome            3\n",
       "emp.var.rate       10\n",
       "cons.price.idx     26\n",
       "cons.conf.idx      26\n",
       "euribor3m         316\n",
       "nr.employed        11\n",
       "y                   2\n",
       "dtype: int64"
      ]
     },
     "execution_count": 41,
     "metadata": {},
     "output_type": "execute_result"
    }
   ],
   "source": [
    "df.nunique()"
   ]
  },
  {
   "cell_type": "code",
   "execution_count": 42,
   "metadata": {},
   "outputs": [],
   "source": [
    "# категориальные признаки (тоже взяла из описания): \n",
    "# job, marital, education, default, housing, loan, contact, month, day_of_week, poutcome\n"
   ]
  },
  {
   "cell_type": "code",
   "execution_count": 43,
   "metadata": {},
   "outputs": [],
   "source": [
    "from sklearn.preprocessing import OrdinalEncoder \n",
    "enc = OrdinalEncoder()\n",
    "\n",
    "categorical = ['job', 'marital', 'education', 'default', 'housing', 'loan', 'contact', 'month', 'day_of_week', 'poutcome', 'y']\n",
    "\n",
    "df[categorical] = enc.fit_transform(df[categorical])"
   ]
  },
  {
   "cell_type": "code",
   "execution_count": 44,
   "metadata": {},
   "outputs": [],
   "source": [
    "x = df[df.columns[:-1]]\n",
    "y = df[df.columns[-1]]"
   ]
  },
  {
   "cell_type": "code",
   "execution_count": 45,
   "metadata": {},
   "outputs": [],
   "source": [
    "from sklearn.model_selection import train_test_split\n",
    "from sklearn.metrics import average_precision_score\n",
    "\n",
    "X_train, X_test, y_train, y_test = train_test_split(x,y, \n",
    "                                                  train_size=0.75, \n",
    "                                                  random_state=777, \n",
    "                                                  stratify=y)"
   ]
  },
  {
   "cell_type": "code",
   "execution_count": 46,
   "metadata": {},
   "outputs": [],
   "source": [
    "lr = LogisticRegression(max_iter=100000)\n",
    "lr.fit(X_train, y_train)\n",
    "y_score = lr.predict(X_test)"
   ]
  },
  {
   "cell_type": "code",
   "execution_count": 47,
   "metadata": {},
   "outputs": [
    {
     "data": {
      "text/plain": [
       "0.501124576890935"
      ]
     },
     "execution_count": 47,
     "metadata": {},
     "output_type": "execute_result"
    }
   ],
   "source": [
    "precision, recall, thresholds = precision_recall_curve(y_test, y_score)\n",
    "auc_precision_recall = auc(recall, precision)\n",
    "auc_precision_recall"
   ]
  },
  {
   "cell_type": "markdown",
   "metadata": {},
   "source": [
    "__Задание 4 (0.5 балла).__ Закодируйте все категориальные признаки с помощью one-hot-кодирования. Обучите логистическую регрессию и посмотрите, как изменилось качество модели (с тем, что было до кодирования). Измерьте время, потребовавшееся на кодирование категориальных признаков и обучение модели.\n",
    "\n"
   ]
  },
  {
   "cell_type": "code",
   "execution_count": 48,
   "metadata": {},
   "outputs": [],
   "source": [
    "df[categorical] = enc.inverse_transform(df[categorical])\n"
   ]
  },
  {
   "cell_type": "code",
   "execution_count": 49,
   "metadata": {},
   "outputs": [],
   "source": [
    "from sklearn.preprocessing import OneHotEncoder\n",
    "\n",
    "\n",
    "ohe = OneHotEncoder()\n",
    "\n",
    "x = df[df.columns[:-1]]\n",
    "y = df[df.columns[-1]]\n",
    "\n",
    "categorical_ = categorical[:-1]\n",
    "\n",
    "x = ohe.fit_transform(x[categorical_])"
   ]
  },
  {
   "cell_type": "code",
   "execution_count": 50,
   "metadata": {},
   "outputs": [],
   "source": [
    "from sklearn.preprocessing import LabelEncoder\n",
    "lab = LabelEncoder()\n",
    "y = lab.fit_transform(y)"
   ]
  },
  {
   "cell_type": "code",
   "execution_count": 51,
   "metadata": {},
   "outputs": [
    {
     "name": "stderr",
     "output_type": "stream",
     "text": [
      "100%|███████████████████████████████████████████| 10/10 [00:06<00:00,  1.52it/s]\n"
     ]
    }
   ],
   "source": [
    "X_train, X_test, y_train, y_test = train_test_split(x,y, \n",
    "                                                  train_size=0.75, \n",
    "                                                  random_state=777, \n",
    "                                                  stratify=y)\n",
    "\n",
    "c_best = find_best_c(X_train, y_train, X_test, y_test, LogisticRegression)\n",
    "\n",
    "lr = LogisticRegression(max_iter=100000, C=c_best)"
   ]
  },
  {
   "cell_type": "code",
   "execution_count": 52,
   "metadata": {},
   "outputs": [
    {
     "name": "stdout",
     "output_type": "stream",
     "text": [
      "CPU times: user 285 ms, sys: 5.34 ms, total: 290 ms\n",
      "Wall time: 305 ms\n"
     ]
    },
    {
     "data": {
      "text/plain": [
       "0.48793188490577577"
      ]
     },
     "execution_count": 52,
     "metadata": {},
     "output_type": "execute_result"
    }
   ],
   "source": [
    "%%time\n",
    "lr.fit(X_train, y_train)\n",
    "\n",
    "y_score = lr.predict(X_test)\n",
    "precision, recall, thresholds = precision_recall_curve(y_test, y_score)\n",
    "auc_precision_recall = auc(recall, precision)\n",
    "auc_precision_recall"
   ]
  },
  {
   "cell_type": "markdown",
   "metadata": {},
   "source": [
    "Как можно было заменить, one-hot-кодирование может сильно увеличивать количество признаков, что сказывается на памяти, особенно, если некоторый признак имеет большое количество значений. Эту проблему решает другой способ кодирования категориальных признаков — mean-target encoding (для простоты будем называть это счётчиками). Основная идея в том, что нам важны не сами категории, а значения целевой переменной, которые имеют объекты этой категории. Каждый категориальный признак мы заменим средним значением целевой переменной по всем объектам этой же категории:\n",
    "$$\n",
    "g_j(x, X) = \\frac{\\sum_{i=1}^{l} [f_j(x) = f_j(x_i)][y_i = +1]}{\\sum_{i=1}^{l} [f_j(x) = f_j(x_i)]}\n",
    "$$\n",
    "\n",
    "__Задание 5 (1 балл).__ Закодируйте категориальные переменные с помощью счётчиков (ровно так, как описано выше без каких-либо хитростей). Обучите логистическую регрессию и посмотрите на качество модели на тестовом множестве. Сравните время обучения с предыдущими экспериментами (с учетом кодирования признаков). Заметили ли вы что-то интересное?\n",
    "\n",
    "\n",
    "__Бонус (1 балл)__: Здесь и далее реализуйте вычисление счетчиков с помощью трансформера (наследуйтесь от классов `BaseEstimator, TransformerMixin` из `sklearn.base`). Обратите внимание, что все вычисления должны быть векторизованными, трансформер не должен модифицировать передаваемую ему выборку inplace, а все необходимые статистики нужно считать только по обучающей выборке в методе `fit`. Ваш трансформер должен принимать при инициализации список из категориальных признаков и изменять только их. \n"
   ]
  },
  {
   "cell_type": "code",
   "execution_count": 53,
   "metadata": {},
   "outputs": [],
   "source": [
    "#получается, мы делим количество определенного значения признака при котором y=1 на количество значения этого признака"
   ]
  },
  {
   "cell_type": "code",
   "execution_count": 706,
   "metadata": {},
   "outputs": [],
   "source": [
    "df_ = df.copy()"
   ]
  },
  {
   "cell_type": "code",
   "execution_count": 707,
   "metadata": {},
   "outputs": [
    {
     "name": "stdout",
     "output_type": "stream",
     "text": [
      "CPU times: user 12.2 s, sys: 84.4 ms, total: 12.3 s\n",
      "Wall time: 12.9 s\n"
     ]
    }
   ],
   "source": [
    "%%time\n",
    "for feature in categorical_:\n",
    "    unique = df_[feature].unique()\n",
    "    \n",
    "    for value in unique:\n",
    "        \n",
    "        value_with_one = df_[\n",
    "            (df_[feature] == value) &\n",
    "            (df_['y'] == 'yes')]['job'].count()       \n",
    "        \n",
    "        all_value_count = df_[\n",
    "            df_[feature] == value]['job'].count()\n",
    "        \n",
    "        df_.loc[df_[feature] == value, feature] = value_with_one / all_value_count\n",
    "        "
   ]
  },
  {
   "cell_type": "code",
   "execution_count": 708,
   "metadata": {},
   "outputs": [],
   "source": [
    "x = df_[df_.columns[:-1]]\n",
    "y = df_[df_.columns[-1]]"
   ]
  },
  {
   "cell_type": "code",
   "execution_count": 709,
   "metadata": {},
   "outputs": [],
   "source": [
    "lab = LabelEncoder()\n",
    "y = lab.fit_transform(y)"
   ]
  },
  {
   "cell_type": "code",
   "execution_count": 710,
   "metadata": {},
   "outputs": [
    {
     "data": {
      "text/plain": [
       "0.5561082211115029"
      ]
     },
     "execution_count": 710,
     "metadata": {},
     "output_type": "execute_result"
    }
   ],
   "source": [
    "X_train, X_test, y_train, y_test = train_test_split(x,y, \n",
    "                                                  train_size=0.75, \n",
    "                                                  random_state=777, \n",
    "                                                  stratify=y)\n",
    "\n",
    "\n",
    "lr = LogisticRegression(max_iter=100000)\n",
    "lr.fit(X_train, y_train)\n",
    "y_score = lr.predict(X_test)\n",
    "precision, recall, thresholds = precision_recall_curve(y_test, y_score)\n",
    "auc_precision_recall = auc(recall, precision)\n",
    "auc_precision_recall"
   ]
  },
  {
   "cell_type": "markdown",
   "metadata": {},
   "source": [
    "Отметим, что такие признаки сами по себе являются классификаторами и, обучаясь на них, мы допускаем \"утечку\" целевой переменной в признаки. Это ведёт к переобучению, поэтому считать такие признаки необходимо таким образом, чтобы при вычислении для конкретного объекта его целевая метка не использовалась. Это можно делать следующими способами:\n",
    "1. Вычислять значение счётчика по всем объектам расположенным выше в датасете (например, если у нас выборка отсортирована по времени).\n",
    "2. Вычислять по фолдам, то есть делить выборку на некоторое количество частей и подсчитывать значение признаков по всем фолдам кроме текущего (как делается в кросс-валидации).\n",
    "3. Внесение некоторого шума в посчитанные признаки. \n",
    "\n",
    "__Задание 6.__ Реализуйте корректное вычисление счётчиков самым простым способом — добавление шума к значениям (постарайтесь найти баланс между борьбой с переобучением и сохранением полезности признаков). Снова обучите логистическую регрессию, оцените качество. Сделайте выводы.\n",
    "\n",
    "__(0.5 балла)__"
   ]
  },
  {
   "cell_type": "code",
   "execution_count": 711,
   "metadata": {},
   "outputs": [],
   "source": [
    "for feature in categorical_:\n",
    "    noise = np.random.normal(0, 10, df_.shape[0])\n",
    "    df_[feature] = df_[feature] + noise"
   ]
  },
  {
   "cell_type": "code",
   "execution_count": 712,
   "metadata": {},
   "outputs": [],
   "source": [
    "x = df_[df_.columns[:-1]]"
   ]
  },
  {
   "cell_type": "code",
   "execution_count": 713,
   "metadata": {},
   "outputs": [
    {
     "data": {
      "text/plain": [
       "0.5582717758108648"
      ]
     },
     "execution_count": 713,
     "metadata": {},
     "output_type": "execute_result"
    }
   ],
   "source": [
    "X_train, X_test, y_train, y_test = train_test_split(x,y, \n",
    "                                                  train_size=0.75, \n",
    "                                                  random_state=777, \n",
    "                                                  stratify=y)\n",
    "\n",
    "lr = LogisticRegression(max_iter=100000) \n",
    "lr.fit(X_train, y_train)\n",
    "y_score = lr.predict(X_test)\n",
    "precision, recall, thresholds = precision_recall_curve(y_test, y_score)\n",
    "auc_precision_recall = auc(recall, precision)\n",
    "auc_precision_recall # шум действительно борется с переобучением!"
   ]
  },
  {
   "cell_type": "markdown",
   "metadata": {},
   "source": [
    "__(Бонусная часть, 0.5 балла)__ Посчитайте корректные счётчики первым или вторым способов из описанных выше (не забудьте добавить и шум). \n",
    "\n"
   ]
  },
  {
   "cell_type": "markdown",
   "metadata": {},
   "source": [
    "А теперь ответьте на следующий вопрос: что будет, если некоторая категория встречается в выборке всего несколько раз? По этой причине производится сглаживание счётчиков. Например, на практике хорошие результаты показывает использование сглаживания средним по всей выборке:\n",
    "$$\n",
    "g_j(x, X) = \\frac{\\sum_{i=1}^{\\ell} [f_j(x) = f_j(x_i)][y_i = +1] + C \\times global\\_mean}{\\sum_{i=1}^{\\ell} [f_j(x) = f_j(x_i)] + C}\n",
    "$$\n",
    "где $global\\_mean$ — доля объектов положительного класса в выборке, $C$ — параметр, определяющий степень сглаживания (например, можно использовать 10 или подобрать для каждого признака свой). Основная идея в том, что мы \"разбавляем\" среднее значение по некоторой категории глобальным средним значением. И тем меньше, чем большее количество объектов этой категории встречается в выборке. \n",
    "\n",
    "Однако для сглаживания вместо среднего значения целевой переменной можно использовать любое другое значение от 0 до 1 (этот параметр иногда называют $prior$). Можно сделать несколько признаков с разными значениями параметра. На практике в задачах бинарной классификации полезными бывают даже отрицательные значения!\n"
   ]
  },
  {
   "cell_type": "markdown",
   "metadata": {},
   "source": [
    "__Задание 7 (1 балл).__ Добавьте сглаживание, описанное выше и повторите эксперименты."
   ]
  },
  {
   "cell_type": "code",
   "execution_count": 714,
   "metadata": {},
   "outputs": [],
   "source": [
    "df1 = df.copy()"
   ]
  },
  {
   "cell_type": "code",
   "execution_count": 715,
   "metadata": {},
   "outputs": [],
   "source": [
    "global_mean = df1['y'].value_counts()['yes'] / len(df1['y'])\n",
    "c = 10"
   ]
  },
  {
   "cell_type": "code",
   "execution_count": 716,
   "metadata": {},
   "outputs": [
    {
     "name": "stdout",
     "output_type": "stream",
     "text": [
      "CPU times: user 12.3 s, sys: 80.5 ms, total: 12.4 s\n",
      "Wall time: 13.2 s\n"
     ]
    }
   ],
   "source": [
    "%%time\n",
    "for feature in categorical_:\n",
    "    unique = df1[feature].unique()\n",
    "    \n",
    "    for value in unique:\n",
    "        \n",
    "        value_with_one = df1[\n",
    "            (df1[feature] == value) &\n",
    "            (df1['y'] == 'yes')]['job'].count() + c * global_mean\n",
    "        \n",
    "        all_value_count = df1[\n",
    "            df1[feature] == value]['job'].count() + c\n",
    "        \n",
    "        df1.loc[df1[feature] == value, feature] = value_with_one / all_value_count\n"
   ]
  },
  {
   "cell_type": "code",
   "execution_count": 717,
   "metadata": {},
   "outputs": [],
   "source": [
    "x = df1[df1.columns[:-1]]\n",
    "y = df1['y']\n",
    "\n",
    "lb = LabelEncoder()\n",
    "y = lb.fit_transform(y)"
   ]
  },
  {
   "cell_type": "code",
   "execution_count": 718,
   "metadata": {},
   "outputs": [
    {
     "data": {
      "text/plain": [
       "0.5584465104124989"
      ]
     },
     "execution_count": 718,
     "metadata": {},
     "output_type": "execute_result"
    }
   ],
   "source": [
    "X_train, X_test, y_train, y_test = train_test_split(x,y, \n",
    "                                                  train_size=0.75, \n",
    "                                                  random_state=777, \n",
    "                                                  stratify=y)\n",
    "\n",
    "\n",
    "lr = LogisticRegression(max_iter=100000)\n",
    "lr.fit(X_train, y_train)\n",
    "\n",
    "y_score = lr.predict(X_test)\n",
    "precision, recall, thresholds = precision_recall_curve(y_test, y_score)\n",
    "auc_precision_recall = auc(recall, precision)\n",
    "auc_precision_recall # пока шум выигрывает"
   ]
  },
  {
   "cell_type": "markdown",
   "metadata": {},
   "source": [
    "__Задание 8 (0.5 балла).__ В данных имеется признак \"возраст клиента\". Сейчас мы интерпретируем его как числовой, что в общем случае для линейной модели может быть неверной гипотезой. Тем не менее, у этого признака есть довольно много уникальных значений (сколько?), поэтому применять к нему one-hot кодирование может оказаться излишним. Попробуйте закодировать возраст с помощью счетчиков. Стало ли лучше?\n",
    "\n"
   ]
  },
  {
   "cell_type": "code",
   "execution_count": 719,
   "metadata": {},
   "outputs": [],
   "source": [
    "unique = df['age'].unique()\n",
    "\n",
    "for value in unique:\n",
    "\n",
    "    value_with_one = df[\n",
    "        (df['age'] == value) &\n",
    "        (df['y'] == 'yes')]['job'].count() + c * global_mean\n",
    "\n",
    "    all_value_count = df[\n",
    "        df['age'] == value]['job'].count() + c\n",
    "\n",
    "    df1.loc[df_['age'] == value, 'age'] = value_with_one / all_value_count"
   ]
  },
  {
   "cell_type": "code",
   "execution_count": 720,
   "metadata": {},
   "outputs": [],
   "source": [
    "x = df1[df1.columns[:-1]]"
   ]
  },
  {
   "cell_type": "code",
   "execution_count": 721,
   "metadata": {},
   "outputs": [
    {
     "data": {
      "text/plain": [
       "0.555026443761822"
      ]
     },
     "execution_count": 721,
     "metadata": {},
     "output_type": "execute_result"
    }
   ],
   "source": [
    "X_train, X_test, y_train, y_test = train_test_split(x,y, \n",
    "                                                  train_size=0.75, \n",
    "                                                  random_state=777, \n",
    "                                                  stratify=y)\n",
    "\n",
    "\n",
    "lr = LogisticRegression(max_iter=100000)\n",
    "lr.fit(X_train, y_train)\n",
    "\n",
    "y_score = lr.predict(X_test)\n",
    "precision, recall, thresholds = precision_recall_curve(y_test, y_score)\n",
    "auc_precision_recall = auc(recall, precision)\n",
    "auc_precision_recall # стало хуже"
   ]
  },
  {
   "cell_type": "code",
   "execution_count": 722,
   "metadata": {},
   "outputs": [
    {
     "name": "stderr",
     "output_type": "stream",
     "text": [
      "/var/folders/5b/j4k5qtvx2j7b9nzkp2clls4c0000gp/T/ipykernel_50103/240578827.py:10: RuntimeWarning: invalid value encountered in long_scalars\n",
      "  df_.loc[df_[feature] == value, feature] = value_with_one / all_value_count\n"
     ]
    }
   ],
   "source": [
    "for value in unique:\n",
    "\n",
    "    value_with_one = df_[\n",
    "        (df_[feature] == value) &\n",
    "        (df_['y'] == 'yes')]['job'].count()       \n",
    "\n",
    "    all_value_count = df_[\n",
    "        df_[feature] == value]['job'].count()\n",
    "\n",
    "    df_.loc[df_[feature] == value, feature] = value_with_one / all_value_count \n",
    "\n",
    "\n",
    "noise = np.random.normal(0, 10, df_.shape[0])\n",
    "df_['age'] = df_['age'] + noise"
   ]
  },
  {
   "cell_type": "code",
   "execution_count": 723,
   "metadata": {},
   "outputs": [],
   "source": [
    "x = df_[df_.columns[:-1]]"
   ]
  },
  {
   "cell_type": "code",
   "execution_count": 724,
   "metadata": {},
   "outputs": [
    {
     "data": {
      "text/plain": [
       "0.555026443761822"
      ]
     },
     "execution_count": 724,
     "metadata": {},
     "output_type": "execute_result"
    }
   ],
   "source": [
    "X_train, X_test, y_train, y_test = train_test_split(x,y, \n",
    "                                                  train_size=0.75, \n",
    "                                                  random_state=777, \n",
    "                                                  stratify=y)\n",
    "\n",
    "lr = LogisticRegression(max_iter=100000) \n",
    "lr.fit(X_train, y_train)\n",
    "y_score = lr.predict(X_test)\n",
    "precision, recall, thresholds = precision_recall_curve(y_test, y_score)\n",
    "auc_precision_recall = auc(recall, precision)\n",
    "auc_precision_recall "
   ]
  },
  {
   "cell_type": "markdown",
   "metadata": {},
   "source": [
    "Можно пойти и в обратную сторону. У нас есть признаки \"месяц и день недели\" для звонка. Попробуйте интерпретировать их как числовые (месяц от 0 до 12, дни недели от 0 до 4). Стало ли лучше в этот раз?"
   ]
  },
  {
   "cell_type": "code",
   "execution_count": 725,
   "metadata": {},
   "outputs": [],
   "source": [
    "lab = LabelEncoder()\n",
    "df_['day_of_week'] = lab.fit_transform(df['day_of_week'])\n"
   ]
  },
  {
   "cell_type": "code",
   "execution_count": 726,
   "metadata": {},
   "outputs": [],
   "source": [
    "lab = LabelEncoder()\n",
    "df_['month'] = lab.fit_transform(df['month'])"
   ]
  },
  {
   "cell_type": "code",
   "execution_count": 727,
   "metadata": {},
   "outputs": [],
   "source": [
    "x = df_[df_.columns[:-1]]"
   ]
  },
  {
   "cell_type": "code",
   "execution_count": 728,
   "metadata": {},
   "outputs": [],
   "source": [
    "X_train, X_test, y_train, y_test = train_test_split(x,y, \n",
    "                                                  train_size=0.75, \n",
    "                                                  random_state=777, \n",
    "                                                  stratify=y)"
   ]
  },
  {
   "cell_type": "code",
   "execution_count": 729,
   "metadata": {},
   "outputs": [
    {
     "data": {
      "text/plain": [
       "0.5597825712927184"
      ]
     },
     "execution_count": 729,
     "metadata": {},
     "output_type": "execute_result"
    }
   ],
   "source": [
    "lr = LogisticRegression(max_iter=100000)\n",
    "lr.fit(X_train, y_train)\n",
    "\n",
    "y_score = lr.predict(X_test)\n",
    "precision, recall, thresholds = precision_recall_curve(y_test, y_score)\n",
    "auc_precision_recall = auc(recall, precision)\n",
    "auc_precision_recall "
   ]
  },
  {
   "cell_type": "markdown",
   "metadata": {},
   "source": [
    "__Замечание.__ Усложнение методов вычисления счётчиков не делают результаты модели гарантированно лучше. Особенно с учётом того, что логистическая регрессия не такая сложная модель, чтобы переобучаться. Поэтому вы необязательно должны были получать на каждом шаге всё лучшие и лучшие результаты (но необходимые результаты у вас должны были получиться).\n",
    "\n",
    "Как вы должны были заметить, счётчики являются хорошей альтернативой one-hot-кодированию. Напишите, какие плюсы и минусы использования счётчиков по сравнению с one-hot-кодированием вы заметили.\n",
    "\n",
    "__Ответ:__ \n",
    "OHE - достаточно простой способ, но дает много признаков\n",
    "Счетчики - более запарный вариант, там надо следить за утечкой данных, там много эксперементов, которые тоже требуют времени, но они могут дать кач-во получше, чем OHE (но не факт)"
   ]
  },
  {
   "cell_type": "markdown",
   "metadata": {},
   "source": [
    "# Часть 2. Отбор признаков"
   ]
  },
  {
   "cell_type": "code",
   "execution_count": 730,
   "metadata": {},
   "outputs": [],
   "source": [
    "numeric = ['age', \n",
    "           'campaign', \n",
    "           'pdays', \n",
    "           'previous', \n",
    "           'emp.var.rate', \n",
    "           'cons.price.idx', \n",
    "           'cons.conf.idx', \n",
    "           'euribor3m', \n",
    "           'nr.employed']"
   ]
  },
  {
   "cell_type": "code",
   "execution_count": 731,
   "metadata": {},
   "outputs": [],
   "source": [
    "df = pd.read_csv('bank-additional/bank-additional-full.csv', sep=';')\n",
    "\n",
    "X = pd.get_dummies(df[categorical_])\n",
    "X[numeric] = df[numeric]\n",
    "\n",
    "y = (df.y == 'yes')\n",
    "lb = LabelEncoder()\n",
    "y = lb.fit_transform(y)\n",
    "\n",
    "X_train, X_test, y_train, y_test = train_test_split(X, y, test_size=0.2, random_state=777, stratify=y)"
   ]
  },
  {
   "cell_type": "code",
   "execution_count": 732,
   "metadata": {},
   "outputs": [
    {
     "data": {
      "text/plain": [
       "(41188, 62)"
      ]
     },
     "execution_count": 732,
     "metadata": {},
     "output_type": "execute_result"
    }
   ],
   "source": [
    "X.shape # 62 признака"
   ]
  },
  {
   "cell_type": "markdown",
   "metadata": {},
   "source": [
    "Как вы помните, в данных много категориальных признаков (сейчас давайте интерпретировать возраст как числовой). Давайте закодируем их с помощью one-hot кодирования. Исходные колонки с категориальными признаками можно удалить. Сколько признаков мы получили?"
   ]
  },
  {
   "cell_type": "markdown",
   "metadata": {},
   "source": [
    "В качестве основной модели будем использовать логистическую регрессию, а целевой метрики — `AUC-PR`. Обучите модель и посчитайте качество на тестовой выборке. Давайте запомним полученное значение."
   ]
  },
  {
   "cell_type": "code",
   "execution_count": 733,
   "metadata": {},
   "outputs": [
    {
     "data": {
      "text/plain": [
       "0.510598442653082"
      ]
     },
     "execution_count": 733,
     "metadata": {},
     "output_type": "execute_result"
    }
   ],
   "source": [
    "lr = LogisticRegression(max_iter=100000)\n",
    "lr.fit(X_train, y_train)\n",
    "\n",
    "y_score = lr.predict(X_test)\n",
    "precision, recall, thresholds = precision_recall_curve(y_test, y_score)\n",
    "auc_precision_recall = auc(recall, precision)\n",
    "auc_precision_recall"
   ]
  },
  {
   "cell_type": "markdown",
   "metadata": {},
   "source": [
    "### Встроенные методы"
   ]
  },
  {
   "cell_type": "markdown",
   "metadata": {},
   "source": [
    "Допустим, мы хотим оставить только 40 лучших признаков. Попробуем сделать это несколькими способами.\n",
    "\n",
    "Начнём с отборам признаков с помощью линейной модели. Как известно, веса линейной модели означают вклад каждого признака в предсказание модели, а значит, модуль этого вклада можно интерпретировать как важность признаков. Такой метод отбора называются встроенным или embedded method, так как он заложен в особенности модели.\n",
    "\n",
    "__Задание 8 (0.5 балла).__ Оставьте 40 признаков с наибольшим модулем соответствующего параметра линейной модели. Обучите модели заново и оцените её качество. Замерьте скорость такого отбора признаков.\n",
    "\n",
    "Изменилось ли качество? Как?\n",
    "\n"
   ]
  },
  {
   "cell_type": "code",
   "execution_count": 734,
   "metadata": {},
   "outputs": [],
   "source": [
    "weights = lr.coef_[0]"
   ]
  },
  {
   "cell_type": "code",
   "execution_count": 735,
   "metadata": {},
   "outputs": [],
   "source": [
    "number = np.sort(np.abs(weights))[-40]# 2.00523338e-02"
   ]
  },
  {
   "cell_type": "code",
   "execution_count": 736,
   "metadata": {},
   "outputs": [],
   "source": [
    "weights = np.abs(weights)"
   ]
  },
  {
   "cell_type": "code",
   "execution_count": 737,
   "metadata": {},
   "outputs": [
    {
     "data": {
      "text/plain": [
       "40"
      ]
     },
     "execution_count": 737,
     "metadata": {},
     "output_type": "execute_result"
    }
   ],
   "source": [
    "weights_mask = weights >= number\n",
    "len(X.columns[weights_mask])"
   ]
  },
  {
   "cell_type": "code",
   "execution_count": 738,
   "metadata": {},
   "outputs": [],
   "source": [
    "X_new = X[X.columns[weights_mask]]\n",
    "\n",
    "X_train, X_test, y_train, y_test = train_test_split(X_new, y, test_size=0.2, random_state=777, stratify=y)"
   ]
  },
  {
   "cell_type": "code",
   "execution_count": 739,
   "metadata": {},
   "outputs": [
    {
     "data": {
      "text/plain": [
       "0.49945244152139134"
      ]
     },
     "execution_count": 739,
     "metadata": {},
     "output_type": "execute_result"
    }
   ],
   "source": [
    "lr = LogisticRegression(max_iter=100000)\n",
    "lr.fit(X_train, y_train)\n",
    "\n",
    "y_score = lr.predict(X_test)\n",
    "precision, recall, thresholds = precision_recall_curve(y_test, y_score)\n",
    "auc_precision_recall = auc(recall, precision)\n",
    "auc_precision_recall"
   ]
  },
  {
   "cell_type": "markdown",
   "metadata": {},
   "source": [
    "А теперь давайте подумаем, что мы не учли. Мы предположили, что признаки вносят вклад равномерно, но не учли их масштаба. Если мы умножим один из признаков в 100 раз, то без учёта регуляризации его вес уменьшится в эти же 100 раз. А мы на основе этого отбираем признаки! Давайте сначала отмасштабируем признаки одним из способов, а только потом будем удалять признаки. \n",
    "\n",
    "Кстати, в таком случае надо пересчитать качество на всех признаках (сделайте это ниже). Если вы сделали нормирование признаков в самом начале, то попробуйте отобрать признаки на неотмасштабированных данных.\n",
    "\n",
    "Что получилось?"
   ]
  },
  {
   "cell_type": "code",
   "execution_count": 740,
   "metadata": {},
   "outputs": [],
   "source": [
    "from sklearn.preprocessing import StandardScaler\n",
    "\n",
    "ss = StandardScaler()\n",
    "X[numeric] = ss.fit_transform(X[numeric])"
   ]
  },
  {
   "cell_type": "code",
   "execution_count": 741,
   "metadata": {},
   "outputs": [
    {
     "data": {
      "text/plain": [
       "40"
      ]
     },
     "execution_count": 741,
     "metadata": {},
     "output_type": "execute_result"
    }
   ],
   "source": [
    "X_train, X_test, y_train, y_test = train_test_split(X, y, test_size=0.2, random_state=777, stratify=y)\n",
    "\n",
    "\n",
    "lr = LogisticRegression(max_iter=100000)\n",
    "lr.fit(X_train, y_train)\n",
    "\n",
    "\n",
    "weights = lr.coef_[0]\n",
    "\n",
    "number = np.sort(np.abs(weights))[-40]# 0.05978735905958852\n",
    "\n",
    "weights = np.abs(weights)\n",
    "weights_mask = weights >= number\n",
    "len(X.columns[weights_mask])"
   ]
  },
  {
   "cell_type": "code",
   "execution_count": 742,
   "metadata": {},
   "outputs": [
    {
     "data": {
      "text/plain": [
       "0.49194210630288226"
      ]
     },
     "execution_count": 742,
     "metadata": {},
     "output_type": "execute_result"
    }
   ],
   "source": [
    "X_new = X[X.columns[weights_mask]]\n",
    "\n",
    "X_train, X_test, y_train, y_test = train_test_split(X_new, y, test_size=0.2, random_state=777, stratify=y)\n",
    "\n",
    "lr = LogisticRegression(max_iter=100000)\n",
    "lr.fit(X_train, y_train)\n",
    "\n",
    "y_score = lr.predict(X_test)\n",
    "precision, recall, thresholds = precision_recall_curve(y_test, y_score)\n",
    "auc_precision_recall = auc(recall, precision)\n",
    "auc_precision_recall"
   ]
  },
  {
   "cell_type": "markdown",
   "metadata": {},
   "source": [
    "Вопрос на засыпку: one-hot кодирование возвращает нам единичные признаки-индикаторы. Попробуйте также отскалировать их, как и обычные числовые, и снова выбрать 40 главных по вкладу признаков. Изменился ли их список? Изменится ли качество?"
   ]
  },
  {
   "cell_type": "code",
   "execution_count": 743,
   "metadata": {},
   "outputs": [
    {
     "data": {
      "text/plain": [
       "9"
      ]
     },
     "execution_count": 743,
     "metadata": {},
     "output_type": "execute_result"
    }
   ],
   "source": [
    "len(numeric)"
   ]
  },
  {
   "cell_type": "code",
   "execution_count": 744,
   "metadata": {},
   "outputs": [],
   "source": [
    "new_feature = X.columns[:-9]"
   ]
  },
  {
   "cell_type": "code",
   "execution_count": 745,
   "metadata": {},
   "outputs": [],
   "source": [
    "ss = StandardScaler()\n",
    "X[new_feature] = ss.fit_transform(X[new_feature])"
   ]
  },
  {
   "cell_type": "code",
   "execution_count": 746,
   "metadata": {},
   "outputs": [
    {
     "data": {
      "text/plain": [
       "40"
      ]
     },
     "execution_count": 746,
     "metadata": {},
     "output_type": "execute_result"
    }
   ],
   "source": [
    "X_train, X_test, y_train, y_test = train_test_split(X, y, test_size=0.2, random_state=777, stratify=y)\n",
    "\n",
    "\n",
    "lr = LogisticRegression(max_iter=100000)\n",
    "lr.fit(X_train, y_train)\n",
    "\n",
    "\n",
    "weights = lr.coef_[0]\n",
    "number = np.sort(np.abs(weights))[-40]# 0.012913628932186972\n",
    "\n",
    "weights = np.abs(weights)\n",
    "weights_mask = weights >= number\n",
    "len(X.columns[weights_mask])"
   ]
  },
  {
   "cell_type": "code",
   "execution_count": 747,
   "metadata": {},
   "outputs": [
    {
     "data": {
      "text/plain": [
       "0.49194210630288226"
      ]
     },
     "execution_count": 747,
     "metadata": {},
     "output_type": "execute_result"
    }
   ],
   "source": [
    "X_new = X[X.columns[weights_mask]]\n",
    "\n",
    "X_train, X_test, y_train, y_test = train_test_split(X_new, y, test_size=0.2, random_state=777, stratify=y)\n",
    "\n",
    "\n",
    "lr = LogisticRegression(max_iter=100000)\n",
    "lr.fit(X_train, y_train)\n",
    "\n",
    "y_score = lr.predict(X_test)\n",
    "precision, recall, thresholds = precision_recall_curve(y_test, y_score)\n",
    "auc_precision_recall = auc(recall, precision)\n",
    "auc_precision_recall # не поменялось"
   ]
  },
  {
   "cell_type": "markdown",
   "metadata": {},
   "source": [
    "### Методы фильтрации\n",
    "\n",
    "\n",
    "Давайте отбирать признаки умнее, а именно через подсчёт некоторой функции для каждого признака. На основании значений этой функции будем оставлять наиболее важные признаки. Методы этого семейства называют фильтрующими или  filter methods. \n",
    "\n",
    "В качестве такой функции будем считать t-статистику:\n",
    "\n",
    "$$t(j) = \\frac{|\\mu_+ - \\mu_-|}{\\sqrt{\\frac{n_+ \\sigma^2_+ + n_- \\sigma^2_-}{n_+ + n_-}}},$$\n",
    "\n",
    "где $\\mu$, $\\sigma$, $n$ соответственно среднее, стандартное отклонение и количество объектов каждого из классов.\n",
    "\n",
    "__Задание 9 (0.5 балла).__ Оставьте 40 признаков с наибольшим значением $t$ и замерьте качество. Не забудьте замерить скорость отбора признаков в этом случае.\n",
    "\n"
   ]
  },
  {
   "cell_type": "code",
   "execution_count": 749,
   "metadata": {},
   "outputs": [],
   "source": [
    "X = pd.get_dummies(df[categorical_])\n",
    "X[numeric] = df[numeric]\n",
    "\n",
    "y = (df.y == 'yes')\n",
    "lb = LabelEncoder()\n",
    "y = lb.fit_transform(y)\n",
    "\n",
    "X['y'] = y"
   ]
  },
  {
   "cell_type": "code",
   "execution_count": 750,
   "metadata": {},
   "outputs": [],
   "source": [
    "t = []\n",
    "\n",
    "for column in X.columns[:-1]:\n",
    "    plus = X[f'{column}'].loc[np.where(y==1)]\n",
    "    minus = X[f'{column}'].loc[np.where(y==0)]\n",
    "    mu_plus = np.mean(plus)\n",
    "    mu_min = np.mean(minus)\n",
    "    delta_plus = np.std(plus) ** 2\n",
    "    delta_min = np.std(minus) ** 2\n",
    "    n_plus = len(plus)\n",
    "    n_min = len(minus)\n",
    "    \n",
    "    t.append(np.abs(mu_plus - mu_min) / (np.sqrt((n_plus * delta_plus + n_min * delta_min) / (n_plus + n_min))))"
   ]
  },
  {
   "cell_type": "code",
   "execution_count": 751,
   "metadata": {},
   "outputs": [
    {
     "data": {
      "text/plain": [
       "39"
      ]
     },
     "execution_count": 751,
     "metadata": {},
     "output_type": "execute_result"
    }
   ],
   "source": [
    "number = np.sort(t)[-56]\n",
    "weights_mask = weights >= number\n",
    "len(X.columns[:-1][weights_mask]) # там дальше 10 признаков с одинаковым значением. Остановимся ан 39"
   ]
  },
  {
   "cell_type": "code",
   "execution_count": 752,
   "metadata": {},
   "outputs": [
    {
     "data": {
      "text/plain": [
       "0.5027519932935146"
      ]
     },
     "execution_count": 752,
     "metadata": {},
     "output_type": "execute_result"
    }
   ],
   "source": [
    "X_new = X[X.columns[:-1][weights_mask]]\n",
    "\n",
    "X_train, X_test, y_train, y_test = train_test_split(X_new, y, test_size=0.2, random_state=777, stratify=y)\n",
    "\n",
    "\n",
    "lr = LogisticRegression(max_iter=100000)\n",
    "lr.fit(X_train, y_train)\n",
    "\n",
    "y_score = lr.predict(X_test)\n",
    "precision, recall, thresholds = precision_recall_curve(y_test, y_score)\n",
    "auc_precision_recall = auc(recall, precision)\n",
    "auc_precision_recall "
   ]
  },
  {
   "cell_type": "markdown",
   "metadata": {},
   "source": [
    "### Методы-обёртки\n",
    "\n",
    "__Задание 10 (1 балл).__ \n",
    "\n",
    "Третий из рассматриваемых нами методов работает следующим образом: мы исключаем по очереди один из признаков и смотрим, как это влияет на качество. Удаляем признаки таким жадным способом, пока не окажется выполненым некоторое условие (количество признаков или ухудшение качества).\n",
    "\n",
    "Заметим, что нельзя оценивать качество по тестовой выборке, иначе мы можем переобучиться, как, например, при настройке гиперпараметров. Разделите обучающую выборку на 2 части, на одной из них обучайте модель без одного из признаков,  на второй части оценивайте качество. Исходную тестовую выборку стоит использовать только для финальной оценки качества.\n",
    "\n",
    "Снова оставьте только 40 признаков и оцените качество на тестовой выборке. Сколько времени занял такой отбор признаков? __МНОГО__"
   ]
  },
  {
   "cell_type": "code",
   "execution_count": 226,
   "metadata": {},
   "outputs": [],
   "source": [
    "df = pd.read_csv('bank-additional/bank-additional-full.csv', sep=';')\n",
    "\n",
    "X = pd.get_dummies(df[categorical_])\n",
    "X[numeric] = df[numeric]\n",
    "\n",
    "\n",
    "#X = X.drop(columns=['duration', 'y'])\n",
    "y = (df.y == 'yes')\n",
    "lb = LabelEncoder()\n",
    "y = lb.fit_transform(y)\n",
    "\n",
    "X_train, X_test, y_train, y_test = train_test_split(X, \n",
    "                                                    y, \n",
    "                                                    test_size=0.2, \n",
    "                                                    random_state=777, \n",
    "                                                    stratify=y)\n",
    "\n",
    "X_train1, X_test1, y_train1, y_test1 = train_test_split(X_train, \n",
    "                                                        y_train, \n",
    "                                                        test_size=0.3, \n",
    "                                                        random_state=777, \n",
    "                                                        stratify=y_train)"
   ]
  },
  {
   "cell_type": "code",
   "execution_count": 241,
   "metadata": {},
   "outputs": [],
   "source": [
    "# не буду удалять, поскольку я это написала сама и ждала 20 минут пока оно обучится!!!\n",
    "\n",
    "# def find_useless(X_train, X_test, y_train, y_test):\n",
    "#     score_list = np.array([]) \n",
    "#     for column in X_train.columns:\n",
    "#         lr = LogisticRegression(max_iter=100000)\n",
    "#         lr.fit(X_train.drop(columns=[column]), y_train)\n",
    "\n",
    "#         y_score = lr.predict(X_test.drop(columns=[column]))\n",
    "#         precision, recall, thresholds = precision_recall_curve(y_test, y_score)\n",
    "#         score_list = np.append(score_list, auc(recall, precision))\n",
    "        \n",
    "#     index_loser = np.argmin(score_list)\n",
    "#     winners = np.delete(X_train.columns, index_loser)\n",
    "#     return winners # возвращаем нужные колонки"
   ]
  },
  {
   "cell_type": "code",
   "execution_count": 243,
   "metadata": {},
   "outputs": [],
   "source": [
    "# %%time\n",
    "# useful_columns = X_train1.columns # это очень долго\n",
    "\n",
    "# for i in tqdm(range(len(X.columns) - 40)):\n",
    "#     useful_columns = find_useless(X_train1[useful_columns], \n",
    "#                                   X_test1[useful_columns], \n",
    "#                                   y_train1, \n",
    "#                                   y_test1) # Wall time: 19min 52s"
   ]
  },
  {
   "cell_type": "code",
   "execution_count": null,
   "metadata": {},
   "outputs": [],
   "source": [
    "#https://towardsdatascience.com/feature-selection-for-machine-learning-in-python-wrapper-methods-2b5e27d2db31"
   ]
  },
  {
   "cell_type": "code",
   "execution_count": null,
   "metadata": {},
   "outputs": [],
   "source": [
    "# Backward elimination"
   ]
  },
  {
   "cell_type": "code",
   "execution_count": 251,
   "metadata": {},
   "outputs": [
    {
     "name": "stderr",
     "output_type": "stream",
     "text": [
      "0it [00:09, ?it/s]\n"
     ]
    },
    {
     "name": "stdout",
     "output_type": "stream",
     "text": [
      "CPU times: user 37.6 s, sys: 2.13 s, total: 39.8 s\n",
      "Wall time: 23.5 s\n"
     ]
    }
   ],
   "source": [
    "%%time\n",
    "from sklearn.feature_selection import RFE\n",
    "\n",
    "model = LogisticRegression(max_iter=100000)\n",
    "#Define RFE \n",
    "rfe = RFE(model, 40)\n",
    "#Use RFE to select the top 5 features \n",
    "fit = rfe.fit(X_train1, y_train1)"
   ]
  },
  {
   "cell_type": "code",
   "execution_count": 252,
   "metadata": {},
   "outputs": [
    {
     "data": {
      "text/html": [
       "<div>\n",
       "<style scoped>\n",
       "    .dataframe tbody tr th:only-of-type {\n",
       "        vertical-align: middle;\n",
       "    }\n",
       "\n",
       "    .dataframe tbody tr th {\n",
       "        vertical-align: top;\n",
       "    }\n",
       "\n",
       "    .dataframe thead th {\n",
       "        text-align: right;\n",
       "    }\n",
       "</style>\n",
       "<table border=\"1\" class=\"dataframe\">\n",
       "  <thead>\n",
       "    <tr style=\"text-align: right;\">\n",
       "      <th></th>\n",
       "      <th>Feature_names</th>\n",
       "      <th>Selected</th>\n",
       "      <th>RFE_ranking</th>\n",
       "    </tr>\n",
       "    <tr>\n",
       "      <th>Columns</th>\n",
       "      <th></th>\n",
       "      <th></th>\n",
       "      <th></th>\n",
       "    </tr>\n",
       "  </thead>\n",
       "  <tbody>\n",
       "    <tr>\n",
       "      <th>0</th>\n",
       "      <td>job_admin.</td>\n",
       "      <td>False</td>\n",
       "      <td>9</td>\n",
       "    </tr>\n",
       "    <tr>\n",
       "      <th>1</th>\n",
       "      <td>job_blue-collar</td>\n",
       "      <td>True</td>\n",
       "      <td>1</td>\n",
       "    </tr>\n",
       "    <tr>\n",
       "      <th>2</th>\n",
       "      <td>job_entrepreneur</td>\n",
       "      <td>False</td>\n",
       "      <td>11</td>\n",
       "    </tr>\n",
       "    <tr>\n",
       "      <th>3</th>\n",
       "      <td>job_housemaid</td>\n",
       "      <td>True</td>\n",
       "      <td>1</td>\n",
       "    </tr>\n",
       "    <tr>\n",
       "      <th>4</th>\n",
       "      <td>job_management</td>\n",
       "      <td>True</td>\n",
       "      <td>1</td>\n",
       "    </tr>\n",
       "    <tr>\n",
       "      <th>5</th>\n",
       "      <td>job_retired</td>\n",
       "      <td>True</td>\n",
       "      <td>1</td>\n",
       "    </tr>\n",
       "    <tr>\n",
       "      <th>6</th>\n",
       "      <td>job_self-employed</td>\n",
       "      <td>False</td>\n",
       "      <td>12</td>\n",
       "    </tr>\n",
       "    <tr>\n",
       "      <th>7</th>\n",
       "      <td>job_services</td>\n",
       "      <td>True</td>\n",
       "      <td>1</td>\n",
       "    </tr>\n",
       "    <tr>\n",
       "      <th>8</th>\n",
       "      <td>job_student</td>\n",
       "      <td>True</td>\n",
       "      <td>1</td>\n",
       "    </tr>\n",
       "    <tr>\n",
       "      <th>9</th>\n",
       "      <td>job_technician</td>\n",
       "      <td>False</td>\n",
       "      <td>15</td>\n",
       "    </tr>\n",
       "    <tr>\n",
       "      <th>10</th>\n",
       "      <td>job_unemployed</td>\n",
       "      <td>False</td>\n",
       "      <td>21</td>\n",
       "    </tr>\n",
       "    <tr>\n",
       "      <th>11</th>\n",
       "      <td>job_unknown</td>\n",
       "      <td>False</td>\n",
       "      <td>17</td>\n",
       "    </tr>\n",
       "    <tr>\n",
       "      <th>12</th>\n",
       "      <td>marital_divorced</td>\n",
       "      <td>True</td>\n",
       "      <td>1</td>\n",
       "    </tr>\n",
       "    <tr>\n",
       "      <th>13</th>\n",
       "      <td>marital_married</td>\n",
       "      <td>True</td>\n",
       "      <td>1</td>\n",
       "    </tr>\n",
       "    <tr>\n",
       "      <th>14</th>\n",
       "      <td>marital_single</td>\n",
       "      <td>False</td>\n",
       "      <td>5</td>\n",
       "    </tr>\n",
       "    <tr>\n",
       "      <th>15</th>\n",
       "      <td>marital_unknown</td>\n",
       "      <td>False</td>\n",
       "      <td>14</td>\n",
       "    </tr>\n",
       "    <tr>\n",
       "      <th>16</th>\n",
       "      <td>education_basic.4y</td>\n",
       "      <td>True</td>\n",
       "      <td>1</td>\n",
       "    </tr>\n",
       "    <tr>\n",
       "      <th>17</th>\n",
       "      <td>education_basic.6y</td>\n",
       "      <td>True</td>\n",
       "      <td>1</td>\n",
       "    </tr>\n",
       "    <tr>\n",
       "      <th>18</th>\n",
       "      <td>education_basic.9y</td>\n",
       "      <td>True</td>\n",
       "      <td>1</td>\n",
       "    </tr>\n",
       "    <tr>\n",
       "      <th>19</th>\n",
       "      <td>education_high.school</td>\n",
       "      <td>False</td>\n",
       "      <td>4</td>\n",
       "    </tr>\n",
       "    <tr>\n",
       "      <th>20</th>\n",
       "      <td>education_illiterate</td>\n",
       "      <td>False</td>\n",
       "      <td>22</td>\n",
       "    </tr>\n",
       "    <tr>\n",
       "      <th>21</th>\n",
       "      <td>education_professional.course</td>\n",
       "      <td>True</td>\n",
       "      <td>1</td>\n",
       "    </tr>\n",
       "    <tr>\n",
       "      <th>22</th>\n",
       "      <td>education_university.degree</td>\n",
       "      <td>True</td>\n",
       "      <td>1</td>\n",
       "    </tr>\n",
       "    <tr>\n",
       "      <th>23</th>\n",
       "      <td>education_unknown</td>\n",
       "      <td>True</td>\n",
       "      <td>1</td>\n",
       "    </tr>\n",
       "    <tr>\n",
       "      <th>24</th>\n",
       "      <td>default_no</td>\n",
       "      <td>True</td>\n",
       "      <td>1</td>\n",
       "    </tr>\n",
       "    <tr>\n",
       "      <th>25</th>\n",
       "      <td>default_unknown</td>\n",
       "      <td>True</td>\n",
       "      <td>1</td>\n",
       "    </tr>\n",
       "    <tr>\n",
       "      <th>26</th>\n",
       "      <td>default_yes</td>\n",
       "      <td>False</td>\n",
       "      <td>23</td>\n",
       "    </tr>\n",
       "    <tr>\n",
       "      <th>27</th>\n",
       "      <td>housing_no</td>\n",
       "      <td>False</td>\n",
       "      <td>19</td>\n",
       "    </tr>\n",
       "    <tr>\n",
       "      <th>28</th>\n",
       "      <td>housing_unknown</td>\n",
       "      <td>False</td>\n",
       "      <td>8</td>\n",
       "    </tr>\n",
       "    <tr>\n",
       "      <th>29</th>\n",
       "      <td>housing_yes</td>\n",
       "      <td>False</td>\n",
       "      <td>6</td>\n",
       "    </tr>\n",
       "    <tr>\n",
       "      <th>30</th>\n",
       "      <td>loan_no</td>\n",
       "      <td>True</td>\n",
       "      <td>1</td>\n",
       "    </tr>\n",
       "    <tr>\n",
       "      <th>31</th>\n",
       "      <td>loan_unknown</td>\n",
       "      <td>False</td>\n",
       "      <td>7</td>\n",
       "    </tr>\n",
       "    <tr>\n",
       "      <th>32</th>\n",
       "      <td>loan_yes</td>\n",
       "      <td>False</td>\n",
       "      <td>13</td>\n",
       "    </tr>\n",
       "    <tr>\n",
       "      <th>33</th>\n",
       "      <td>contact_cellular</td>\n",
       "      <td>True</td>\n",
       "      <td>1</td>\n",
       "    </tr>\n",
       "    <tr>\n",
       "      <th>34</th>\n",
       "      <td>contact_telephone</td>\n",
       "      <td>True</td>\n",
       "      <td>1</td>\n",
       "    </tr>\n",
       "    <tr>\n",
       "      <th>35</th>\n",
       "      <td>month_apr</td>\n",
       "      <td>True</td>\n",
       "      <td>1</td>\n",
       "    </tr>\n",
       "    <tr>\n",
       "      <th>36</th>\n",
       "      <td>month_aug</td>\n",
       "      <td>True</td>\n",
       "      <td>1</td>\n",
       "    </tr>\n",
       "    <tr>\n",
       "      <th>37</th>\n",
       "      <td>month_dec</td>\n",
       "      <td>True</td>\n",
       "      <td>1</td>\n",
       "    </tr>\n",
       "    <tr>\n",
       "      <th>38</th>\n",
       "      <td>month_jul</td>\n",
       "      <td>True</td>\n",
       "      <td>1</td>\n",
       "    </tr>\n",
       "    <tr>\n",
       "      <th>39</th>\n",
       "      <td>month_jun</td>\n",
       "      <td>True</td>\n",
       "      <td>1</td>\n",
       "    </tr>\n",
       "    <tr>\n",
       "      <th>40</th>\n",
       "      <td>month_mar</td>\n",
       "      <td>True</td>\n",
       "      <td>1</td>\n",
       "    </tr>\n",
       "    <tr>\n",
       "      <th>41</th>\n",
       "      <td>month_may</td>\n",
       "      <td>True</td>\n",
       "      <td>1</td>\n",
       "    </tr>\n",
       "    <tr>\n",
       "      <th>42</th>\n",
       "      <td>month_nov</td>\n",
       "      <td>True</td>\n",
       "      <td>1</td>\n",
       "    </tr>\n",
       "    <tr>\n",
       "      <th>43</th>\n",
       "      <td>month_oct</td>\n",
       "      <td>True</td>\n",
       "      <td>1</td>\n",
       "    </tr>\n",
       "    <tr>\n",
       "      <th>44</th>\n",
       "      <td>month_sep</td>\n",
       "      <td>True</td>\n",
       "      <td>1</td>\n",
       "    </tr>\n",
       "    <tr>\n",
       "      <th>45</th>\n",
       "      <td>day_of_week_fri</td>\n",
       "      <td>False</td>\n",
       "      <td>16</td>\n",
       "    </tr>\n",
       "    <tr>\n",
       "      <th>46</th>\n",
       "      <td>day_of_week_mon</td>\n",
       "      <td>True</td>\n",
       "      <td>1</td>\n",
       "    </tr>\n",
       "    <tr>\n",
       "      <th>47</th>\n",
       "      <td>day_of_week_thu</td>\n",
       "      <td>True</td>\n",
       "      <td>1</td>\n",
       "    </tr>\n",
       "    <tr>\n",
       "      <th>48</th>\n",
       "      <td>day_of_week_tue</td>\n",
       "      <td>True</td>\n",
       "      <td>1</td>\n",
       "    </tr>\n",
       "    <tr>\n",
       "      <th>49</th>\n",
       "      <td>day_of_week_wed</td>\n",
       "      <td>True</td>\n",
       "      <td>1</td>\n",
       "    </tr>\n",
       "    <tr>\n",
       "      <th>50</th>\n",
       "      <td>poutcome_failure</td>\n",
       "      <td>True</td>\n",
       "      <td>1</td>\n",
       "    </tr>\n",
       "    <tr>\n",
       "      <th>51</th>\n",
       "      <td>poutcome_nonexistent</td>\n",
       "      <td>False</td>\n",
       "      <td>2</td>\n",
       "    </tr>\n",
       "    <tr>\n",
       "      <th>52</th>\n",
       "      <td>poutcome_success</td>\n",
       "      <td>True</td>\n",
       "      <td>1</td>\n",
       "    </tr>\n",
       "    <tr>\n",
       "      <th>53</th>\n",
       "      <td>age</td>\n",
       "      <td>False</td>\n",
       "      <td>20</td>\n",
       "    </tr>\n",
       "    <tr>\n",
       "      <th>54</th>\n",
       "      <td>campaign</td>\n",
       "      <td>True</td>\n",
       "      <td>1</td>\n",
       "    </tr>\n",
       "    <tr>\n",
       "      <th>55</th>\n",
       "      <td>pdays</td>\n",
       "      <td>False</td>\n",
       "      <td>18</td>\n",
       "    </tr>\n",
       "    <tr>\n",
       "      <th>56</th>\n",
       "      <td>previous</td>\n",
       "      <td>True</td>\n",
       "      <td>1</td>\n",
       "    </tr>\n",
       "    <tr>\n",
       "      <th>57</th>\n",
       "      <td>emp.var.rate</td>\n",
       "      <td>True</td>\n",
       "      <td>1</td>\n",
       "    </tr>\n",
       "    <tr>\n",
       "      <th>58</th>\n",
       "      <td>cons.price.idx</td>\n",
       "      <td>False</td>\n",
       "      <td>3</td>\n",
       "    </tr>\n",
       "    <tr>\n",
       "      <th>59</th>\n",
       "      <td>cons.conf.idx</td>\n",
       "      <td>True</td>\n",
       "      <td>1</td>\n",
       "    </tr>\n",
       "    <tr>\n",
       "      <th>60</th>\n",
       "      <td>euribor3m</td>\n",
       "      <td>True</td>\n",
       "      <td>1</td>\n",
       "    </tr>\n",
       "    <tr>\n",
       "      <th>61</th>\n",
       "      <td>nr.employed</td>\n",
       "      <td>False</td>\n",
       "      <td>10</td>\n",
       "    </tr>\n",
       "  </tbody>\n",
       "</table>\n",
       "</div>"
      ],
      "text/plain": [
       "                         Feature_names  Selected  RFE_ranking\n",
       "Columns                                                      \n",
       "0                           job_admin.     False            9\n",
       "1                      job_blue-collar      True            1\n",
       "2                     job_entrepreneur     False           11\n",
       "3                        job_housemaid      True            1\n",
       "4                       job_management      True            1\n",
       "5                          job_retired      True            1\n",
       "6                    job_self-employed     False           12\n",
       "7                         job_services      True            1\n",
       "8                          job_student      True            1\n",
       "9                       job_technician     False           15\n",
       "10                      job_unemployed     False           21\n",
       "11                         job_unknown     False           17\n",
       "12                    marital_divorced      True            1\n",
       "13                     marital_married      True            1\n",
       "14                      marital_single     False            5\n",
       "15                     marital_unknown     False           14\n",
       "16                  education_basic.4y      True            1\n",
       "17                  education_basic.6y      True            1\n",
       "18                  education_basic.9y      True            1\n",
       "19               education_high.school     False            4\n",
       "20                education_illiterate     False           22\n",
       "21       education_professional.course      True            1\n",
       "22         education_university.degree      True            1\n",
       "23                   education_unknown      True            1\n",
       "24                          default_no      True            1\n",
       "25                     default_unknown      True            1\n",
       "26                         default_yes     False           23\n",
       "27                          housing_no     False           19\n",
       "28                     housing_unknown     False            8\n",
       "29                         housing_yes     False            6\n",
       "30                             loan_no      True            1\n",
       "31                        loan_unknown     False            7\n",
       "32                            loan_yes     False           13\n",
       "33                    contact_cellular      True            1\n",
       "34                   contact_telephone      True            1\n",
       "35                           month_apr      True            1\n",
       "36                           month_aug      True            1\n",
       "37                           month_dec      True            1\n",
       "38                           month_jul      True            1\n",
       "39                           month_jun      True            1\n",
       "40                           month_mar      True            1\n",
       "41                           month_may      True            1\n",
       "42                           month_nov      True            1\n",
       "43                           month_oct      True            1\n",
       "44                           month_sep      True            1\n",
       "45                     day_of_week_fri     False           16\n",
       "46                     day_of_week_mon      True            1\n",
       "47                     day_of_week_thu      True            1\n",
       "48                     day_of_week_tue      True            1\n",
       "49                     day_of_week_wed      True            1\n",
       "50                    poutcome_failure      True            1\n",
       "51                poutcome_nonexistent     False            2\n",
       "52                    poutcome_success      True            1\n",
       "53                                 age     False           20\n",
       "54                            campaign      True            1\n",
       "55                               pdays     False           18\n",
       "56                            previous      True            1\n",
       "57                        emp.var.rate      True            1\n",
       "58                      cons.price.idx     False            3\n",
       "59                       cons.conf.idx      True            1\n",
       "60                           euribor3m      True            1\n",
       "61                         nr.employed     False           10"
      ]
     },
     "execution_count": 252,
     "metadata": {},
     "output_type": "execute_result"
    }
   ],
   "source": [
    "#Create a dataframe for the results \n",
    "df_RFE_results = []\n",
    "for i in range(X_train1.shape[1]):\n",
    "    df_RFE_results.append(\n",
    "        {      \n",
    "            'Feature_names': X_train1.columns[i],\n",
    "            'Selected':  rfe.support_[i],\n",
    "            'RFE_ranking':  rfe.ranking_[i],\n",
    "        }\n",
    "    )\n",
    "\n",
    "df_RFE_results = pd.DataFrame(df_RFE_results)\n",
    "df_RFE_results.index.name='Columns'\n",
    "df_RFE_results"
   ]
  },
  {
   "cell_type": "code",
   "execution_count": 258,
   "metadata": {},
   "outputs": [],
   "source": [
    "best_columns = list(df_RFE_results[df_RFE_results['Selected'] == True]['Feature_names'])"
   ]
  },
  {
   "cell_type": "code",
   "execution_count": 259,
   "metadata": {},
   "outputs": [
    {
     "data": {
      "text/plain": [
       "0.5004502790563247"
      ]
     },
     "execution_count": 259,
     "metadata": {},
     "output_type": "execute_result"
    }
   ],
   "source": [
    "lr = LogisticRegression(max_iter=100000)\n",
    "lr.fit(X_train[best_columns], y_train)\n",
    "\n",
    "y_score = lr.predict(X_test[best_columns])\n",
    "precision, recall, thresholds = precision_recall_curve(y_test, y_score)\n",
    "auc(recall, precision) "
   ]
  },
  {
   "cell_type": "markdown",
   "metadata": {},
   "source": [
    "Стоит отметить, что с помощью такого метода можно пойти и в обратную сторону. Попробуйте _добавлять_ по одному самому полезному признаку в выборку до тех пор, пока не наберется 40 штук. Найдется ли порог, при котором добавление следующих признаков будет только ухудшать качество модели?"
   ]
  },
  {
   "cell_type": "code",
   "execution_count": 263,
   "metadata": {},
   "outputs": [],
   "source": [
    "# !pip install mlxtend"
   ]
  },
  {
   "cell_type": "code",
   "execution_count": 267,
   "metadata": {},
   "outputs": [],
   "source": [
    "# та же ссылка"
   ]
  },
  {
   "cell_type": "code",
   "execution_count": null,
   "metadata": {},
   "outputs": [],
   "source": [
    "# Forward Selection "
   ]
  },
  {
   "cell_type": "code",
   "execution_count": 264,
   "metadata": {},
   "outputs": [],
   "source": [
    "from mlxtend.feature_selection import SequentialFeatureSelector as SFS"
   ]
  },
  {
   "cell_type": "code",
   "execution_count": 266,
   "metadata": {},
   "outputs": [
    {
     "name": "stdout",
     "output_type": "stream",
     "text": [
      "CPU times: user 14min 15s, sys: 58.7 s, total: 15min 14s\n",
      "Wall time: 8min 57s\n"
     ]
    },
    {
     "data": {
      "text/html": [
       "<div>\n",
       "<style scoped>\n",
       "    .dataframe tbody tr th:only-of-type {\n",
       "        vertical-align: middle;\n",
       "    }\n",
       "\n",
       "    .dataframe tbody tr th {\n",
       "        vertical-align: top;\n",
       "    }\n",
       "\n",
       "    .dataframe thead th {\n",
       "        text-align: right;\n",
       "    }\n",
       "</style>\n",
       "<table border=\"1\" class=\"dataframe\">\n",
       "  <thead>\n",
       "    <tr style=\"text-align: right;\">\n",
       "      <th></th>\n",
       "      <th>feature_idx</th>\n",
       "      <th>cv_scores</th>\n",
       "      <th>avg_score</th>\n",
       "      <th>feature_names</th>\n",
       "    </tr>\n",
       "  </thead>\n",
       "  <tbody>\n",
       "    <tr>\n",
       "      <th>1</th>\n",
       "      <td>(52,)</td>\n",
       "      <td>[-0.026301261991317437]</td>\n",
       "      <td>-0.026301</td>\n",
       "      <td>(poutcome_success,)</td>\n",
       "    </tr>\n",
       "    <tr>\n",
       "      <th>2</th>\n",
       "      <td>(52, 57)</td>\n",
       "      <td>[-0.01805962041150555]</td>\n",
       "      <td>-0.01806</td>\n",
       "      <td>(poutcome_success, emp.var.rate)</td>\n",
       "    </tr>\n",
       "    <tr>\n",
       "      <th>3</th>\n",
       "      <td>(52, 55, 57)</td>\n",
       "      <td>[-0.015456996754722896]</td>\n",
       "      <td>-0.015457</td>\n",
       "      <td>(poutcome_success, pdays, emp.var.rate)</td>\n",
       "    </tr>\n",
       "    <tr>\n",
       "      <th>4</th>\n",
       "      <td>(41, 52, 55, 57)</td>\n",
       "      <td>[-0.012420602488476318]</td>\n",
       "      <td>-0.012421</td>\n",
       "      <td>(month_may, poutcome_success, pdays, emp.var.r...</td>\n",
       "    </tr>\n",
       "    <tr>\n",
       "      <th>5</th>\n",
       "      <td>(41, 50, 52, 55, 57)</td>\n",
       "      <td>[-0.00938420822222974]</td>\n",
       "      <td>-0.009384</td>\n",
       "      <td>(month_may, poutcome_failure, poutcome_success...</td>\n",
       "    </tr>\n",
       "    <tr>\n",
       "      <th>6</th>\n",
       "      <td>(5, 41, 50, 52, 55, 57)</td>\n",
       "      <td>[-0.008082896393838412]</td>\n",
       "      <td>-0.008083</td>\n",
       "      <td>(job_retired, month_may, poutcome_failure, pou...</td>\n",
       "    </tr>\n",
       "    <tr>\n",
       "      <th>7</th>\n",
       "      <td>(5, 17, 41, 50, 52, 55, 57)</td>\n",
       "      <td>[-0.007649125784374711]</td>\n",
       "      <td>-0.007649</td>\n",
       "      <td>(job_retired, education_basic.6y, month_may, p...</td>\n",
       "    </tr>\n",
       "    <tr>\n",
       "      <th>8</th>\n",
       "      <td>(0, 5, 17, 41, 50, 52, 55, 57)</td>\n",
       "      <td>[-0.007649125784374711]</td>\n",
       "      <td>-0.007649</td>\n",
       "      <td>(job_admin., job_retired, education_basic.6y, ...</td>\n",
       "    </tr>\n",
       "    <tr>\n",
       "      <th>9</th>\n",
       "      <td>(0, 5, 17, 40, 41, 50, 52, 55, 57)</td>\n",
       "      <td>[-0.007215355174910787]</td>\n",
       "      <td>-0.007215</td>\n",
       "      <td>(job_admin., job_retired, education_basic.6y, ...</td>\n",
       "    </tr>\n",
       "    <tr>\n",
       "      <th>10</th>\n",
       "      <td>(0, 1, 5, 17, 40, 41, 50, 52, 55, 57)</td>\n",
       "      <td>[-0.006781584565447085]</td>\n",
       "      <td>-0.006782</td>\n",
       "      <td>(job_admin., job_blue-collar, job_retired, edu...</td>\n",
       "    </tr>\n",
       "    <tr>\n",
       "      <th>11</th>\n",
       "      <td>(0, 1, 5, 8, 17, 40, 41, 50, 52, 55, 57)</td>\n",
       "      <td>[-0.0046127315181281325]</td>\n",
       "      <td>-0.004613</td>\n",
       "      <td>(job_admin., job_blue-collar, job_retired, job...</td>\n",
       "    </tr>\n",
       "    <tr>\n",
       "      <th>12</th>\n",
       "      <td>(0, 1, 5, 8, 17, 40, 41, 48, 50, 52, 55, 57)</td>\n",
       "      <td>[-0.0033114196897368053]</td>\n",
       "      <td>-0.003311</td>\n",
       "      <td>(job_admin., job_blue-collar, job_retired, job...</td>\n",
       "    </tr>\n",
       "    <tr>\n",
       "      <th>13</th>\n",
       "      <td>(0, 1, 5, 8, 17, 40, 41, 48, 50, 52, 54, 55, 57)</td>\n",
       "      <td>[-0.0028776490802731036]</td>\n",
       "      <td>-0.002878</td>\n",
       "      <td>(job_admin., job_blue-collar, job_retired, job...</td>\n",
       "    </tr>\n",
       "    <tr>\n",
       "      <th>14</th>\n",
       "      <td>(0, 1, 5, 8, 17, 37, 40, 41, 48, 50, 52, 54, 5...</td>\n",
       "      <td>[-0.002010107861345478]</td>\n",
       "      <td>-0.00201</td>\n",
       "      <td>(job_admin., job_blue-collar, job_retired, job...</td>\n",
       "    </tr>\n",
       "    <tr>\n",
       "      <th>15</th>\n",
       "      <td>(0, 1, 5, 8, 17, 37, 40, 41, 48, 50, 52, 54, 5...</td>\n",
       "      <td>[-0.0007087960329541509]</td>\n",
       "      <td>-0.000709</td>\n",
       "      <td>(job_admin., job_blue-collar, job_retired, job...</td>\n",
       "    </tr>\n",
       "    <tr>\n",
       "      <th>16</th>\n",
       "      <td>(0, 1, 5, 8, 12, 17, 37, 40, 41, 48, 50, 52, 5...</td>\n",
       "      <td>[0.0014600570143648017]</td>\n",
       "      <td>0.00146</td>\n",
       "      <td>(job_admin., job_blue-collar, job_retired, job...</td>\n",
       "    </tr>\n",
       "    <tr>\n",
       "      <th>17</th>\n",
       "      <td>(0, 1, 5, 8, 12, 17, 33, 37, 40, 41, 48, 50, 5...</td>\n",
       "      <td>[0.002327598233292427]</td>\n",
       "      <td>0.002328</td>\n",
       "      <td>(job_admin., job_blue-collar, job_retired, job...</td>\n",
       "    </tr>\n",
       "    <tr>\n",
       "      <th>18</th>\n",
       "      <td>(0, 1, 5, 8, 10, 12, 17, 33, 37, 40, 41, 48, 5...</td>\n",
       "      <td>[0.004062680671147567]</td>\n",
       "      <td>0.004063</td>\n",
       "      <td>(job_admin., job_blue-collar, job_retired, job...</td>\n",
       "    </tr>\n",
       "    <tr>\n",
       "      <th>19</th>\n",
       "      <td>(0, 1, 5, 8, 10, 12, 17, 25, 33, 37, 40, 41, 4...</td>\n",
       "      <td>[0.0036289100616837544]</td>\n",
       "      <td>0.003629</td>\n",
       "      <td>(job_admin., job_blue-collar, job_retired, job...</td>\n",
       "    </tr>\n",
       "    <tr>\n",
       "      <th>20</th>\n",
       "      <td>(0, 1, 2, 5, 8, 10, 12, 17, 25, 33, 37, 40, 41...</td>\n",
       "      <td>[0.00276136884275624]</td>\n",
       "      <td>0.002761</td>\n",
       "      <td>(job_admin., job_blue-collar, job_entrepreneur...</td>\n",
       "    </tr>\n",
       "    <tr>\n",
       "      <th>21</th>\n",
       "      <td>(0, 1, 2, 5, 8, 10, 12, 17, 25, 33, 37, 40, 41...</td>\n",
       "      <td>[0.005363992499538894]</td>\n",
       "      <td>0.005364</td>\n",
       "      <td>(job_admin., job_blue-collar, job_entrepreneur...</td>\n",
       "    </tr>\n",
       "    <tr>\n",
       "      <th>22</th>\n",
       "      <td>(0, 1, 2, 5, 8, 10, 12, 17, 25, 33, 37, 40, 41...</td>\n",
       "      <td>[0.0031951394522199417]</td>\n",
       "      <td>0.003195</td>\n",
       "      <td>(job_admin., job_blue-collar, job_entrepreneur...</td>\n",
       "    </tr>\n",
       "    <tr>\n",
       "      <th>23</th>\n",
       "      <td>(0, 1, 2, 5, 8, 10, 11, 12, 17, 25, 33, 37, 40...</td>\n",
       "      <td>[0.00449645128061138]</td>\n",
       "      <td>0.004496</td>\n",
       "      <td>(job_admin., job_blue-collar, job_entrepreneur...</td>\n",
       "    </tr>\n",
       "    <tr>\n",
       "      <th>24</th>\n",
       "      <td>(0, 1, 2, 5, 8, 10, 11, 12, 17, 24, 25, 33, 37...</td>\n",
       "      <td>[0.0031951394522199417]</td>\n",
       "      <td>0.003195</td>\n",
       "      <td>(job_admin., job_blue-collar, job_entrepreneur...</td>\n",
       "    </tr>\n",
       "    <tr>\n",
       "      <th>25</th>\n",
       "      <td>(0, 1, 2, 3, 5, 8, 10, 11, 12, 17, 24, 25, 33,...</td>\n",
       "      <td>[0.0031951394522199417]</td>\n",
       "      <td>0.003195</td>\n",
       "      <td>(job_admin., job_blue-collar, job_entrepreneur...</td>\n",
       "    </tr>\n",
       "    <tr>\n",
       "      <th>26</th>\n",
       "      <td>(0, 1, 2, 3, 5, 8, 10, 11, 12, 17, 24, 25, 30,...</td>\n",
       "      <td>[0.0036289100616837544]</td>\n",
       "      <td>0.003629</td>\n",
       "      <td>(job_admin., job_blue-collar, job_entrepreneur...</td>\n",
       "    </tr>\n",
       "    <tr>\n",
       "      <th>27</th>\n",
       "      <td>(0, 1, 2, 3, 5, 6, 8, 10, 11, 12, 17, 24, 25, ...</td>\n",
       "      <td>[0.0031951394522199417]</td>\n",
       "      <td>0.003195</td>\n",
       "      <td>(job_admin., job_blue-collar, job_entrepreneur...</td>\n",
       "    </tr>\n",
       "    <tr>\n",
       "      <th>28</th>\n",
       "      <td>(0, 1, 2, 3, 5, 6, 7, 8, 10, 11, 12, 17, 24, 2...</td>\n",
       "      <td>[0.0031951394522199417]</td>\n",
       "      <td>0.003195</td>\n",
       "      <td>(job_admin., job_blue-collar, job_entrepreneur...</td>\n",
       "    </tr>\n",
       "    <tr>\n",
       "      <th>29</th>\n",
       "      <td>(0, 1, 2, 3, 5, 6, 7, 8, 10, 11, 12, 17, 24, 2...</td>\n",
       "      <td>[0.004062680671147567]</td>\n",
       "      <td>0.004063</td>\n",
       "      <td>(job_admin., job_blue-collar, job_entrepreneur...</td>\n",
       "    </tr>\n",
       "    <tr>\n",
       "      <th>30</th>\n",
       "      <td>(0, 1, 2, 3, 5, 6, 7, 8, 10, 11, 12, 17, 24, 2...</td>\n",
       "      <td>[0.00449645128061138]</td>\n",
       "      <td>0.004496</td>\n",
       "      <td>(job_admin., job_blue-collar, job_entrepreneur...</td>\n",
       "    </tr>\n",
       "    <tr>\n",
       "      <th>31</th>\n",
       "      <td>(0, 1, 2, 3, 5, 6, 7, 8, 10, 11, 12, 15, 17, 2...</td>\n",
       "      <td>[0.00449645128061138]</td>\n",
       "      <td>0.004496</td>\n",
       "      <td>(job_admin., job_blue-collar, job_entrepreneur...</td>\n",
       "    </tr>\n",
       "    <tr>\n",
       "      <th>32</th>\n",
       "      <td>(0, 1, 2, 3, 5, 6, 7, 8, 10, 11, 12, 15, 17, 2...</td>\n",
       "      <td>[0.0036289100616837544]</td>\n",
       "      <td>0.003629</td>\n",
       "      <td>(job_admin., job_blue-collar, job_entrepreneur...</td>\n",
       "    </tr>\n",
       "    <tr>\n",
       "      <th>33</th>\n",
       "      <td>(0, 1, 2, 3, 5, 6, 7, 8, 10, 11, 12, 15, 17, 2...</td>\n",
       "      <td>[0.0014600570143648017]</td>\n",
       "      <td>0.00146</td>\n",
       "      <td>(job_admin., job_blue-collar, job_entrepreneur...</td>\n",
       "    </tr>\n",
       "    <tr>\n",
       "      <th>34</th>\n",
       "      <td>(0, 1, 2, 3, 5, 6, 7, 8, 10, 11, 12, 15, 17, 2...</td>\n",
       "      <td>[0.0036289100616837544]</td>\n",
       "      <td>0.003629</td>\n",
       "      <td>(job_admin., job_blue-collar, job_entrepreneur...</td>\n",
       "    </tr>\n",
       "    <tr>\n",
       "      <th>35</th>\n",
       "      <td>(0, 1, 2, 3, 5, 6, 7, 8, 10, 11, 12, 15, 17, 2...</td>\n",
       "      <td>[0.0018938276238286145]</td>\n",
       "      <td>0.001894</td>\n",
       "      <td>(job_admin., job_blue-collar, job_entrepreneur...</td>\n",
       "    </tr>\n",
       "    <tr>\n",
       "      <th>36</th>\n",
       "      <td>(0, 1, 2, 3, 5, 6, 7, 8, 10, 11, 12, 15, 16, 1...</td>\n",
       "      <td>[0.0036289100616837544]</td>\n",
       "      <td>0.003629</td>\n",
       "      <td>(job_admin., job_blue-collar, job_entrepreneur...</td>\n",
       "    </tr>\n",
       "    <tr>\n",
       "      <th>37</th>\n",
       "      <td>(0, 1, 2, 3, 5, 6, 7, 8, 10, 11, 12, 15, 16, 1...</td>\n",
       "      <td>[0.00449645128061138]</td>\n",
       "      <td>0.004496</td>\n",
       "      <td>(job_admin., job_blue-collar, job_entrepreneur...</td>\n",
       "    </tr>\n",
       "    <tr>\n",
       "      <th>38</th>\n",
       "      <td>(0, 1, 2, 3, 4, 5, 6, 7, 8, 10, 11, 12, 15, 16...</td>\n",
       "      <td>[0.0014600570143648017]</td>\n",
       "      <td>0.00146</td>\n",
       "      <td>(job_admin., job_blue-collar, job_entrepreneur...</td>\n",
       "    </tr>\n",
       "    <tr>\n",
       "      <th>39</th>\n",
       "      <td>(0, 1, 2, 3, 4, 5, 6, 7, 8, 10, 11, 12, 15, 16...</td>\n",
       "      <td>[0.0018938276238286145]</td>\n",
       "      <td>0.001894</td>\n",
       "      <td>(job_admin., job_blue-collar, job_entrepreneur...</td>\n",
       "    </tr>\n",
       "    <tr>\n",
       "      <th>40</th>\n",
       "      <td>(0, 1, 2, 3, 4, 5, 6, 7, 8, 10, 11, 12, 15, 16...</td>\n",
       "      <td>[0.0014600570143648017]</td>\n",
       "      <td>0.00146</td>\n",
       "      <td>(job_admin., job_blue-collar, job_entrepreneur...</td>\n",
       "    </tr>\n",
       "  </tbody>\n",
       "</table>\n",
       "</div>"
      ],
      "text/plain": [
       "                                          feature_idx  \\\n",
       "1                                               (52,)   \n",
       "2                                            (52, 57)   \n",
       "3                                        (52, 55, 57)   \n",
       "4                                    (41, 52, 55, 57)   \n",
       "5                                (41, 50, 52, 55, 57)   \n",
       "6                             (5, 41, 50, 52, 55, 57)   \n",
       "7                         (5, 17, 41, 50, 52, 55, 57)   \n",
       "8                      (0, 5, 17, 41, 50, 52, 55, 57)   \n",
       "9                  (0, 5, 17, 40, 41, 50, 52, 55, 57)   \n",
       "10              (0, 1, 5, 17, 40, 41, 50, 52, 55, 57)   \n",
       "11           (0, 1, 5, 8, 17, 40, 41, 50, 52, 55, 57)   \n",
       "12       (0, 1, 5, 8, 17, 40, 41, 48, 50, 52, 55, 57)   \n",
       "13   (0, 1, 5, 8, 17, 40, 41, 48, 50, 52, 54, 55, 57)   \n",
       "14  (0, 1, 5, 8, 17, 37, 40, 41, 48, 50, 52, 54, 5...   \n",
       "15  (0, 1, 5, 8, 17, 37, 40, 41, 48, 50, 52, 54, 5...   \n",
       "16  (0, 1, 5, 8, 12, 17, 37, 40, 41, 48, 50, 52, 5...   \n",
       "17  (0, 1, 5, 8, 12, 17, 33, 37, 40, 41, 48, 50, 5...   \n",
       "18  (0, 1, 5, 8, 10, 12, 17, 33, 37, 40, 41, 48, 5...   \n",
       "19  (0, 1, 5, 8, 10, 12, 17, 25, 33, 37, 40, 41, 4...   \n",
       "20  (0, 1, 2, 5, 8, 10, 12, 17, 25, 33, 37, 40, 41...   \n",
       "21  (0, 1, 2, 5, 8, 10, 12, 17, 25, 33, 37, 40, 41...   \n",
       "22  (0, 1, 2, 5, 8, 10, 12, 17, 25, 33, 37, 40, 41...   \n",
       "23  (0, 1, 2, 5, 8, 10, 11, 12, 17, 25, 33, 37, 40...   \n",
       "24  (0, 1, 2, 5, 8, 10, 11, 12, 17, 24, 25, 33, 37...   \n",
       "25  (0, 1, 2, 3, 5, 8, 10, 11, 12, 17, 24, 25, 33,...   \n",
       "26  (0, 1, 2, 3, 5, 8, 10, 11, 12, 17, 24, 25, 30,...   \n",
       "27  (0, 1, 2, 3, 5, 6, 8, 10, 11, 12, 17, 24, 25, ...   \n",
       "28  (0, 1, 2, 3, 5, 6, 7, 8, 10, 11, 12, 17, 24, 2...   \n",
       "29  (0, 1, 2, 3, 5, 6, 7, 8, 10, 11, 12, 17, 24, 2...   \n",
       "30  (0, 1, 2, 3, 5, 6, 7, 8, 10, 11, 12, 17, 24, 2...   \n",
       "31  (0, 1, 2, 3, 5, 6, 7, 8, 10, 11, 12, 15, 17, 2...   \n",
       "32  (0, 1, 2, 3, 5, 6, 7, 8, 10, 11, 12, 15, 17, 2...   \n",
       "33  (0, 1, 2, 3, 5, 6, 7, 8, 10, 11, 12, 15, 17, 2...   \n",
       "34  (0, 1, 2, 3, 5, 6, 7, 8, 10, 11, 12, 15, 17, 2...   \n",
       "35  (0, 1, 2, 3, 5, 6, 7, 8, 10, 11, 12, 15, 17, 2...   \n",
       "36  (0, 1, 2, 3, 5, 6, 7, 8, 10, 11, 12, 15, 16, 1...   \n",
       "37  (0, 1, 2, 3, 5, 6, 7, 8, 10, 11, 12, 15, 16, 1...   \n",
       "38  (0, 1, 2, 3, 4, 5, 6, 7, 8, 10, 11, 12, 15, 16...   \n",
       "39  (0, 1, 2, 3, 4, 5, 6, 7, 8, 10, 11, 12, 15, 16...   \n",
       "40  (0, 1, 2, 3, 4, 5, 6, 7, 8, 10, 11, 12, 15, 16...   \n",
       "\n",
       "                   cv_scores avg_score  \\\n",
       "1    [-0.026301261991317437] -0.026301   \n",
       "2     [-0.01805962041150555]  -0.01806   \n",
       "3    [-0.015456996754722896] -0.015457   \n",
       "4    [-0.012420602488476318] -0.012421   \n",
       "5     [-0.00938420822222974] -0.009384   \n",
       "6    [-0.008082896393838412] -0.008083   \n",
       "7    [-0.007649125784374711] -0.007649   \n",
       "8    [-0.007649125784374711] -0.007649   \n",
       "9    [-0.007215355174910787] -0.007215   \n",
       "10   [-0.006781584565447085] -0.006782   \n",
       "11  [-0.0046127315181281325] -0.004613   \n",
       "12  [-0.0033114196897368053] -0.003311   \n",
       "13  [-0.0028776490802731036] -0.002878   \n",
       "14   [-0.002010107861345478]  -0.00201   \n",
       "15  [-0.0007087960329541509] -0.000709   \n",
       "16   [0.0014600570143648017]   0.00146   \n",
       "17    [0.002327598233292427]  0.002328   \n",
       "18    [0.004062680671147567]  0.004063   \n",
       "19   [0.0036289100616837544]  0.003629   \n",
       "20     [0.00276136884275624]  0.002761   \n",
       "21    [0.005363992499538894]  0.005364   \n",
       "22   [0.0031951394522199417]  0.003195   \n",
       "23     [0.00449645128061138]  0.004496   \n",
       "24   [0.0031951394522199417]  0.003195   \n",
       "25   [0.0031951394522199417]  0.003195   \n",
       "26   [0.0036289100616837544]  0.003629   \n",
       "27   [0.0031951394522199417]  0.003195   \n",
       "28   [0.0031951394522199417]  0.003195   \n",
       "29    [0.004062680671147567]  0.004063   \n",
       "30     [0.00449645128061138]  0.004496   \n",
       "31     [0.00449645128061138]  0.004496   \n",
       "32   [0.0036289100616837544]  0.003629   \n",
       "33   [0.0014600570143648017]   0.00146   \n",
       "34   [0.0036289100616837544]  0.003629   \n",
       "35   [0.0018938276238286145]  0.001894   \n",
       "36   [0.0036289100616837544]  0.003629   \n",
       "37     [0.00449645128061138]  0.004496   \n",
       "38   [0.0014600570143648017]   0.00146   \n",
       "39   [0.0018938276238286145]  0.001894   \n",
       "40   [0.0014600570143648017]   0.00146   \n",
       "\n",
       "                                        feature_names  \n",
       "1                                 (poutcome_success,)  \n",
       "2                    (poutcome_success, emp.var.rate)  \n",
       "3             (poutcome_success, pdays, emp.var.rate)  \n",
       "4   (month_may, poutcome_success, pdays, emp.var.r...  \n",
       "5   (month_may, poutcome_failure, poutcome_success...  \n",
       "6   (job_retired, month_may, poutcome_failure, pou...  \n",
       "7   (job_retired, education_basic.6y, month_may, p...  \n",
       "8   (job_admin., job_retired, education_basic.6y, ...  \n",
       "9   (job_admin., job_retired, education_basic.6y, ...  \n",
       "10  (job_admin., job_blue-collar, job_retired, edu...  \n",
       "11  (job_admin., job_blue-collar, job_retired, job...  \n",
       "12  (job_admin., job_blue-collar, job_retired, job...  \n",
       "13  (job_admin., job_blue-collar, job_retired, job...  \n",
       "14  (job_admin., job_blue-collar, job_retired, job...  \n",
       "15  (job_admin., job_blue-collar, job_retired, job...  \n",
       "16  (job_admin., job_blue-collar, job_retired, job...  \n",
       "17  (job_admin., job_blue-collar, job_retired, job...  \n",
       "18  (job_admin., job_blue-collar, job_retired, job...  \n",
       "19  (job_admin., job_blue-collar, job_retired, job...  \n",
       "20  (job_admin., job_blue-collar, job_entrepreneur...  \n",
       "21  (job_admin., job_blue-collar, job_entrepreneur...  \n",
       "22  (job_admin., job_blue-collar, job_entrepreneur...  \n",
       "23  (job_admin., job_blue-collar, job_entrepreneur...  \n",
       "24  (job_admin., job_blue-collar, job_entrepreneur...  \n",
       "25  (job_admin., job_blue-collar, job_entrepreneur...  \n",
       "26  (job_admin., job_blue-collar, job_entrepreneur...  \n",
       "27  (job_admin., job_blue-collar, job_entrepreneur...  \n",
       "28  (job_admin., job_blue-collar, job_entrepreneur...  \n",
       "29  (job_admin., job_blue-collar, job_entrepreneur...  \n",
       "30  (job_admin., job_blue-collar, job_entrepreneur...  \n",
       "31  (job_admin., job_blue-collar, job_entrepreneur...  \n",
       "32  (job_admin., job_blue-collar, job_entrepreneur...  \n",
       "33  (job_admin., job_blue-collar, job_entrepreneur...  \n",
       "34  (job_admin., job_blue-collar, job_entrepreneur...  \n",
       "35  (job_admin., job_blue-collar, job_entrepreneur...  \n",
       "36  (job_admin., job_blue-collar, job_entrepreneur...  \n",
       "37  (job_admin., job_blue-collar, job_entrepreneur...  \n",
       "38  (job_admin., job_blue-collar, job_entrepreneur...  \n",
       "39  (job_admin., job_blue-collar, job_entrepreneur...  \n",
       "40  (job_admin., job_blue-collar, job_entrepreneur...  "
      ]
     },
     "execution_count": 266,
     "metadata": {},
     "output_type": "execute_result"
    }
   ],
   "source": [
    "%%time\n",
    "sfs = SFS(LogisticRegression(max_iter=100000),\n",
    "           k_features=40,\n",
    "           forward=True,\n",
    "           floating=False,\n",
    "           scoring = 'r2',\n",
    "           cv = 0)\n",
    "#Use SFS to select the top 40 features \n",
    "sfs.fit(X_train1, y_train1)\n",
    "\n",
    "#Create a dataframe for the SFS results \n",
    "df_SFS_results = pd.DataFrame(sfs.subsets_).transpose()\n",
    "df_SFS_results #оставлю эту попытку, потому что она тоже долго работала"
   ]
  },
  {
   "cell_type": "code",
   "execution_count": 273,
   "metadata": {},
   "outputs": [],
   "source": [
    "best_columns_1 = list(df_SFS_results['feature_names'][40])"
   ]
  },
  {
   "cell_type": "code",
   "execution_count": 274,
   "metadata": {},
   "outputs": [
    {
     "data": {
      "text/plain": [
       "0.4869238510164684"
      ]
     },
     "execution_count": 274,
     "metadata": {},
     "output_type": "execute_result"
    }
   ],
   "source": [
    "lr = LogisticRegression(max_iter=100000)\n",
    "lr.fit(X_train[best_columns_1], y_train)\n",
    "\n",
    "y_score = lr.predict(X_test[best_columns_1])\n",
    "precision, recall, thresholds = precision_recall_curve(y_test, y_score)\n",
    "auc(recall, precision) "
   ]
  },
  {
   "cell_type": "markdown",
   "metadata": {},
   "source": [
    "Давайте подведём итоги по отбору признаков. Назовите преимущества и недостатки каждого из методов. Какой метод привёл к наилучшему качеству?\n",
    "\n",
    "**Ответ:** К наилучшему качеству привели счетчики\n",
    "ОГРОМНЫМ МИНУСОМ методов-оберток является количество времени, которое они сжирают, в данной задаче они еще и особо не помогли.\n",
    "\n",
    "Встроенные методы оказались быстрыми, но не эффективынми,метод фильтрации тоже быстрый и чуть лучше\n",
    "Но все же не дотянул"
   ]
  },
  {
   "cell_type": "markdown",
   "metadata": {},
   "source": [
    "# Часть 3. Оценка экономического эффекта модели\n",
    "\n",
    "В данной части мы займемся тем, что от вас скорее всего потребуется на реальной работе (помимо перекладки `json`, разумеется). А именно: мы соберем несколько специализированных метрик качества, попытаемся настроить модель на максимизацию _прибыли_ и оценим, сколько вообще получится заработать на этом. Разумеется, здесь будет сделано множество упрощающих жизнь допущений, но обо всем по порядку. \n",
    "\n",
    "__Задание 11 (1 балл).__ Допустим, работники вашего колл-центра получают за один звонок клиенту 1 доллар. При согласии клиента на предлагаемые условия он принесет в банк 10 долларов.\n",
    "\n",
    "Если вы всё прослушали на экономике, то напомним, что выручка — это сколько денег нам принесли клиенты, а прибыль — выручка за вычетом расходов на зарплату и прочее.\n",
    "\n",
    "Загрузите данные о телемаркетинге из предыдущего блока заданий. В этой части не нужно делить выборку - мы будем использовать кросс-валидацию. Используйте 5 фолдов, сделайте `shuffle=True, random_state=500`. По кросс-валидации у вас получится 5 вариантов обучающей и тестовой выборки. Обучите логистическую регрессию на каждой обучающей выборке (воспользуйтесь one-hot для категориальных признаков, гиперпараметры оставьте со значениями по умолчанию) и сделайте предсказания для соответствующих тестовых выборок. Допустим, всем положительным прогнозам ваши сотрудники решили позвонить. Посчитайте на всех тестовых выборках выручку и усредните. Сколько денег вы в среднем заработаете? Также вычислите стандартное отклонение.\n",
    "\n",
    "Сколько из заработанных денег придётся отдать операторам вашего колл-центра?"
   ]
  },
  {
   "cell_type": "code",
   "execution_count": 753,
   "metadata": {},
   "outputs": [],
   "source": [
    "from sklearn.compose import ColumnTransformer\n",
    "\n",
    "\n",
    "column_transformer = ColumnTransformer([\n",
    "    ('ohe', OneHotEncoder(handle_unknown='ignore'), categorical_),\n",
    "    ('scaling', StandardScaler(), numeric)\n",
    "   ])\n",
    "\n",
    "x = column_transformer.fit_transform(df) \n",
    "\n",
    "y = df[df.columns[-1]]\n",
    "lb = LabelEncoder()\n",
    "y = lb.fit_transform(y)"
   ]
  },
  {
   "cell_type": "code",
   "execution_count": 755,
   "metadata": {},
   "outputs": [
    {
     "name": "stdout",
     "output_type": "stream",
     "text": [
      "TRAIN: [    0     1     2 ... 41185 41186 41187] TEST: [    5     6    10 ... 41160 41176 41177]\n",
      "310\n",
      "TRAIN: [    1     2     3 ... 41184 41185 41186] TEST: [    0     8    21 ... 41164 41183 41187]\n",
      "330\n",
      "TRAIN: [    0     1     3 ... 41183 41184 41187] TEST: [    2     4     7 ... 41181 41185 41186]\n",
      "330\n",
      "TRAIN: [    0     1     2 ... 41185 41186 41187] TEST: [    3    11    14 ... 41178 41182 41184]\n",
      "330\n",
      "TRAIN: [    0     2     3 ... 41185 41186 41187] TEST: [    1     9    12 ... 41168 41170 41179]\n",
      "320\n"
     ]
    }
   ],
   "source": [
    "from sklearn.model_selection import KFold\n",
    "# https://scikit-learn.org/stable/modules/generated/sklearn.model_selection.KFold.html\n",
    "\n",
    "kf = KFold(n_splits=5, random_state=500, shuffle=True)\n",
    "\n",
    "scores = []\n",
    "money = []\n",
    "\n",
    "for train_index, test_index in kf.split(x):\n",
    "    print(\"TRAIN:\", train_index, \"TEST:\", test_index)\n",
    "    X_train, X_test = x[train_index], x[test_index]\n",
    "    y_train, y_test = y[train_index], y[test_index]\n",
    "    lr = LogisticRegression(max_iter=100000)\n",
    "    lr.fit(X_train, y_train)\n",
    "\n",
    "    y_score = lr.predict(X_test)\n",
    "    print(sum(y_score))\n",
    "    precision, recall, thresholds = precision_recall_curve(y_test, y_score)\n",
    "    scores.append(auc(recall, precision))\n",
    "    \n",
    "    money.append(sum((y_score == y_test) & (y_test == 1)) * 10)"
   ]
  },
  {
   "cell_type": "code",
   "execution_count": 756,
   "metadata": {},
   "outputs": [
    {
     "data": {
      "text/plain": [
       "2128.0"
      ]
     },
     "execution_count": 756,
     "metadata": {},
     "output_type": "execute_result"
    }
   ],
   "source": [
    "np.mean(money) # примерно столько мы заработали"
   ]
  },
  {
   "cell_type": "code",
   "execution_count": 757,
   "metadata": {},
   "outputs": [
    {
     "data": {
      "text/plain": [
       "110.34491379306978"
      ]
     },
     "execution_count": 757,
     "metadata": {},
     "output_type": "execute_result"
    }
   ],
   "source": [
    "np.std(money) # стандартное отклонение"
   ]
  },
  {
   "cell_type": "code",
   "execution_count": 758,
   "metadata": {},
   "outputs": [
    {
     "data": {
      "text/plain": [
       "212.8"
      ]
     },
     "execution_count": 758,
     "metadata": {},
     "output_type": "execute_result"
    }
   ],
   "source": [
    "np.mean(money) / 10 # столько мы отдадим сотрудникам"
   ]
  },
  {
   "cell_type": "markdown",
   "metadata": {},
   "source": [
    "Внесем некоторую долю случайности. Пусть теперь согласный на условия клиент будет приносить не 10 долларов, а случайную величину, равномерно распределенную в интервале $[0;20)$. Проделайте все те же самые действия. Для имитации реальной ситуации **НЕ** фиксируйте `random_seed` при подсчете выручки с клиента. Что получилось?"
   ]
  },
  {
   "cell_type": "code",
   "execution_count": 759,
   "metadata": {},
   "outputs": [
    {
     "name": "stdout",
     "output_type": "stream",
     "text": [
      "TRAIN: [    0     1     2 ... 41185 41186 41187] TEST: [    5     6    10 ... 41160 41176 41177]\n",
      "TRAIN: [    1     2     3 ... 41184 41185 41186] TEST: [    0     8    21 ... 41164 41183 41187]\n",
      "TRAIN: [    0     1     3 ... 41183 41184 41187] TEST: [    2     4     7 ... 41181 41185 41186]\n",
      "TRAIN: [    0     1     2 ... 41185 41186 41187] TEST: [    3    11    14 ... 41178 41182 41184]\n",
      "TRAIN: [    0     2     3 ... 41185 41186 41187] TEST: [    1     9    12 ... 41168 41170 41179]\n"
     ]
    }
   ],
   "source": [
    "kf = KFold(n_splits=5, random_state=500, shuffle=True)\n",
    "\n",
    "scores = []\n",
    "money = []\n",
    "\n",
    "for train_index, test_index in kf.split(x):\n",
    "    print(\"TRAIN:\", train_index, \"TEST:\", test_index)\n",
    "    X_train, X_test = x[train_index], x[test_index]\n",
    "    y_train, y_test = y[train_index], y[test_index]\n",
    "    lr = LogisticRegression(max_iter=100000)\n",
    "    lr.fit(X_train, y_train)\n",
    "\n",
    "    y_score = lr.predict(X_test)\n",
    "    precision, recall, thresholds = precision_recall_curve(y_test, y_score)\n",
    "    scores.append(auc(recall, precision))\n",
    "    money.append(sum((y_score == y_test) & (y_test == 1)) * int(np.random.uniform(0, 20)))"
   ]
  },
  {
   "cell_type": "code",
   "execution_count": 760,
   "metadata": {},
   "outputs": [
    {
     "data": {
      "text/plain": [
       "[3136, 1266, 1045, 4275, 3510]"
      ]
     },
     "execution_count": 760,
     "metadata": {},
     "output_type": "execute_result"
    }
   ],
   "source": [
    "money"
   ]
  },
  {
   "cell_type": "code",
   "execution_count": 761,
   "metadata": {},
   "outputs": [
    {
     "data": {
      "text/plain": [
       "2646.4"
      ]
     },
     "execution_count": 761,
     "metadata": {},
     "output_type": "execute_result"
    }
   ],
   "source": [
    "np.mean(money) # примерно столько мы заработали"
   ]
  },
  {
   "cell_type": "code",
   "execution_count": 762,
   "metadata": {},
   "outputs": [
    {
     "data": {
      "text/plain": [
       "1273.4078058501134"
      ]
     },
     "execution_count": 762,
     "metadata": {},
     "output_type": "execute_result"
    }
   ],
   "source": [
    "np.std(money) # стандартное отклонение"
   ]
  },
  {
   "cell_type": "code",
   "execution_count": 763,
   "metadata": {},
   "outputs": [
    {
     "data": {
      "text/plain": [
       "264.64"
      ]
     },
     "execution_count": 763,
     "metadata": {},
     "output_type": "execute_result"
    }
   ],
   "source": [
    "np.mean(money) / 10 # столько мы отдадим сотрудникам"
   ]
  },
  {
   "cell_type": "markdown",
   "metadata": {},
   "source": [
    "Настройте по кросс-валидации коэффициент регуляризации модели для максимизации прибыли (считайте как случайную величину выше). Удалось ли получить какой-то выигрыш? При каком коэффициенте регуляризациии прибыль максимальна? Постройте график зависимости ожидаемой прибыли от коэффициента, также укажите стандартные отклонения (вам поможет `plt.errorbar`)."
   ]
  },
  {
   "cell_type": "code",
   "execution_count": 764,
   "metadata": {},
   "outputs": [
    {
     "name": "stdout",
     "output_type": "stream",
     "text": [
      "CPU times: user 1min 16s, sys: 3.9 s, total: 1min 19s\n",
      "Wall time: 45.2 s\n"
     ]
    }
   ],
   "source": [
    "%%time\n",
    "kf = KFold(n_splits=5, random_state=500, shuffle=True)\n",
    "\n",
    "\n",
    "c_best_money = []\n",
    "c_best_std = []\n",
    "c_best_score = []\n",
    "\n",
    "for c in np.linspace(0.0001, 1, 10):\n",
    "    scores = []\n",
    "    money = []\n",
    "    for train_index, test_index in kf.split(x):\n",
    "        X_train, X_test = x[train_index], x[test_index]\n",
    "        y_train, y_test = y[train_index], y[test_index]\n",
    "        lr = LogisticRegression(max_iter=100000, C=c)\n",
    "        lr.fit(X_train, y_train)\n",
    "\n",
    "        y_score = lr.predict(X_test)\n",
    "        precision, recall, thresholds = precision_recall_curve(y_test, y_score)\n",
    "        scores.append(auc(recall, precision))\n",
    "        money.append(sum((y_score == y_test) & (y_test == 1))* int(np.random.uniform(0, 20)))\n",
    "        \n",
    "    c_best_money.append(np.mean(money))\n",
    "    c_best_std.append(np.std(money)) \n",
    "    c_best_score.append(np.mean(scores))\n",
    "    \n",
    "    "
   ]
  },
  {
   "cell_type": "code",
   "execution_count": 765,
   "metadata": {},
   "outputs": [
    {
     "data": {
      "text/plain": [
       "<ErrorbarContainer object of 3 artists>"
      ]
     },
     "execution_count": 765,
     "metadata": {},
     "output_type": "execute_result"
    },
    {
     "data": {
      "image/png": "[encoded data removed]",
      "text/plain": [
       "<Figure size 432x288 with 1 Axes>"
      ]
     },
     "metadata": {
      "needs_background": "light"
     },
     "output_type": "display_data"
    }
   ],
   "source": [
    "yerr = c_best_std\n",
    "plt.errorbar(np.linspace(0.0001, 1, 10), c_best_money, yerr=yerr)"
   ]
  },
  {
   "cell_type": "markdown",
   "metadata": {},
   "source": [
    "Попробуйте запустить перебор несколько раз. Находится ли каждый раз один и тот же \"лучший\" коэффициент? Присутствует ли какая-то закономерность? Какие вы можете сделать из этого выводы?\n",
    "\n",
    "Каждый раз по новому(\n",
    "Видимо, порог не так сильно влияет на результат и выигрывает вероятность оплаты"
   ]
  },
  {
   "cell_type": "code",
   "execution_count": 766,
   "metadata": {},
   "outputs": [
    {
     "data": {
      "image/png": "[encoded data removed]",
      "text/plain": [
       "<Figure size 432x288 with 1 Axes>"
      ]
     },
     "metadata": {
      "needs_background": "light"
     },
     "output_type": "display_data"
    },
    {
     "data": {
      "image/png": "[encoded data removed]",
      "text/plain": [
       "<Figure size 432x288 with 1 Axes>"
      ]
     },
     "metadata": {
      "needs_background": "light"
     },
     "output_type": "display_data"
    },
    {
     "data": {
      "image/png": "[encoded data removed]",
      "text/plain": [
       "<Figure size 432x288 with 1 Axes>"
      ]
     },
     "metadata": {
      "needs_background": "light"
     },
     "output_type": "display_data"
    },
    {
     "data": {
      "image/png": "[encoded data removed]",
      "text/plain": [
       "<Figure size 432x288 with 1 Axes>"
      ]
     },
     "metadata": {
      "needs_background": "light"
     },
     "output_type": "display_data"
    },
    {
     "data": {
      "image/png": "[encoded data removed]",
      "text/plain": [
       "<Figure size 432x288 with 1 Axes>"
      ]
     },
     "metadata": {
      "needs_background": "light"
     },
     "output_type": "display_data"
    },
    {
     "name": "stdout",
     "output_type": "stream",
     "text": [
      "CPU times: user 6min 23s, sys: 19.3 s, total: 6min 42s\n",
      "Wall time: 3min 39s\n"
     ]
    }
   ],
   "source": [
    "%%time\n",
    "kf = KFold(n_splits=5, random_state=500, shuffle=True)\n",
    "\n",
    "\n",
    "\n",
    "\n",
    "for _ in range(5):\n",
    "    c_best_money = []\n",
    "    c_best_std = []\n",
    "    c_best_score = []\n",
    "    for c in np.linspace(0.0001, 1, 10):\n",
    "        scores = []\n",
    "        money = []\n",
    "        for train_index, test_index in kf.split(x):\n",
    "            X_train, X_test = x[train_index], x[test_index]\n",
    "            y_train, y_test = y[train_index], y[test_index]\n",
    "            lr = LogisticRegression(max_iter=100000, C=c)\n",
    "            lr.fit(X_train, y_train)\n",
    "\n",
    "            y_score = lr.predict(X_test)\n",
    "            precision, recall, thresholds = precision_recall_curve(y_test, y_score)\n",
    "            scores.append(auc(recall, precision))\n",
    "            money.append(sum((y_score == y_test) & (y_test == 1)) * int(np.random.uniform(0, 20)))\n",
    "\n",
    "        c_best_money.append(np.mean(money))\n",
    "        c_best_std.append(np.std(money)) \n",
    "        c_best_score.append(np.mean(scores))\n",
    "        \n",
    "    yerr = c_best_std\n",
    "    \n",
    "    ax = plt.errorbar(np.linspace(0.0001, 1, 10), c_best_money, yerr=yerr)\n",
    "    plt.show()\n",
    "    "
   ]
  },
  {
   "cell_type": "markdown",
   "metadata": {},
   "source": [
    "__Задание 12 (1 балл).__ Выше мы уже описали примерную экономическую модель вашей задачи. Как вы считаете, что для вашего бизнеса важнее — хороший precision или recall модели? Почему?\n",
    "\n",
    "__Ответ:__ корее всего recall, потому что мы можем себе позволтиь если что ошибиться при звонке, главное набрать как можно больше клиентов\n",
    "\n"
   ]
  },
  {
   "cell_type": "markdown",
   "metadata": {},
   "source": [
    "Вспомним, что на самом деле логистическая регрессия предсказывает нам вероятности положительного класса для объекта. Возможно, путем настройки порога бинаризации этих вероятностей мы сможем получить какой-то выигрыш? Проверьте ваши рассуждения выше с помощью настройки порога бинаризации на кросс-валидации для максимизации прибыли. Воспользуйтесь сеткой от 0 до 1 с шагом 0.01. Напомним, что снижение порога дает нам более высокий recall и более низкий precision, и наоборот."
   ]
  },
  {
   "cell_type": "code",
   "execution_count": 767,
   "metadata": {},
   "outputs": [
    {
     "name": "stderr",
     "output_type": "stream",
     "text": [
      "100%|█████████████████████████████████████████| 100/100 [12:26<00:00,  7.46s/it]"
     ]
    },
    {
     "name": "stdout",
     "output_type": "stream",
     "text": [
      "CPU times: user 18min 20s, sys: 56.1 s, total: 19min 16s\n",
      "Wall time: 12min 26s\n"
     ]
    },
    {
     "name": "stderr",
     "output_type": "stream",
     "text": [
      "\n"
     ]
    }
   ],
   "source": [
    "%%time\n",
    "kf = KFold(n_splits=5, random_state=500, shuffle=True)\n",
    "\n",
    "t_money = []\n",
    "t_std = []\n",
    "t_score = []\n",
    "t_precision = []\n",
    "t_recall = []\n",
    "for t in tqdm(np.linspace(0, 1, 100)):\n",
    "    scores = []\n",
    "    money = []\n",
    "    precision = []\n",
    "    recall = []\n",
    "    for train_index, test_index in kf.split(x):\n",
    "        \n",
    "        X_train, X_test = x[train_index], x[test_index]\n",
    "        y_train, y_test = y[train_index], y[test_index]\n",
    "        \n",
    "        lr = LogisticRegression(max_iter=1000000)\n",
    "        lr.fit(X_train, y_train)\n",
    "        y_score = lr.predict(X_test)\n",
    "        \n",
    "        probability_one = pd.DataFrame(lr.predict_proba(X_test))[1]\n",
    "        y_score_new = np.where(probability_one < t, 0, y_score)\n",
    "        \n",
    "        precision, recall, thresholds = precision_recall_curve(y_test, y_score_new)\n",
    "#         print('------')\n",
    "#         print(metrics.precision_score(y_test, y_score_new))\n",
    "#         print('------')\n",
    "# #         print(precision, recall, thresholds)\n",
    "#         print(metrics.recall_score(y_test, y_score_new))\n",
    "#         print('------')\n",
    "        t_precision.append(precision)\n",
    "        t_recall.append(recall)\n",
    "        \n",
    "        scores.append(auc(recall, precision))\n",
    "        money.append((sum((y_score_new == y_test) & (y_test == 1)) * int(np.random.uniform(0, 20))))\n",
    "\n",
    "    t_money.append(np.mean(money))\n",
    "    t_std.append(np.std(money)) \n",
    "    t_score.append(np.mean(scores)) \n",
    "    t_precision.append(np.mean(precision))\n",
    "    t_recall.append(np.mean(recall))"
   ]
  },
  {
   "cell_type": "code",
   "execution_count": 768,
   "metadata": {},
   "outputs": [
    {
     "data": {
      "image/png": "[encoded data removed]",
      "text/plain": [
       "<Figure size 640x480 with 1 Axes>"
      ]
     },
     "metadata": {
      "needs_background": "light"
     },
     "output_type": "display_data"
    }
   ],
   "source": [
    "yerr = t_std\n",
    "plt.figure(figsize=(8, 6), dpi=80)\n",
    "ax = plt.errorbar(np.linspace(0, 1, 100), t_score)\n",
    "plt.show()"
   ]
  },
  {
   "cell_type": "code",
   "execution_count": 769,
   "metadata": {},
   "outputs": [
    {
     "data": {
      "text/plain": [
       "0.888888888888889"
      ]
     },
     "execution_count": 769,
     "metadata": {},
     "output_type": "execute_result"
    }
   ],
   "source": [
    "np.linspace(0, 1, 100)[np.argmax(t_score)]"
   ]
  },
  {
   "cell_type": "code",
   "execution_count": 770,
   "metadata": {},
   "outputs": [
    {
     "data": {
      "image/png": "[encoded data removed]",
      "text/plain": [
       "<Figure size 800x640 with 1 Axes>"
      ]
     },
     "metadata": {
      "needs_background": "light"
     },
     "output_type": "display_data"
    }
   ],
   "source": [
    "yerr = t_std\n",
    "plt.figure(figsize=(10, 8), dpi=80)\n",
    "ax = plt.errorbar(np.linspace(0, 1, 100), t_money, yerr)\n",
    "plt.show()"
   ]
  },
  {
   "cell_type": "code",
   "execution_count": 771,
   "metadata": {},
   "outputs": [
    {
     "data": {
      "text/plain": [
       "0.4747474747474748"
      ]
     },
     "execution_count": 771,
     "metadata": {},
     "output_type": "execute_result"
    }
   ],
   "source": [
    "np.linspace(0, 1, 100)[np.argmax(t_money)]"
   ]
  },
  {
   "cell_type": "code",
   "execution_count": 772,
   "metadata": {},
   "outputs": [
    {
     "data": {
      "text/plain": [
       "2907.6"
      ]
     },
     "execution_count": 772,
     "metadata": {},
     "output_type": "execute_result"
    }
   ],
   "source": [
    "t_money[np.argmax(t_money)] # неплохо!"
   ]
  },
  {
   "cell_type": "markdown",
   "metadata": {},
   "source": [
    "Постройте график зависимости прибыли от порога бинаризации, также отметьте на нем стандартные отклонения. Выделите наилучший порог. \n",
    "\n",
    "\n",
    "__Вопрос:__ Замечаете ли вы какую-то закономерность? Для правильного ответа на этот вопрос попробуйте запустить несколько раз и задумайтесь, почему порог получается в какой-то конкретной области?\n",
    "\n",
    "__Ответ__: Да, как и было сказано ранне - для нас важнее recall, поэтому чем больше порог, тем меньше единичек будут попадать\n",
    "До какого-то момента это некритично и значение порога может меняться из-за вероятностей, а потом резко идет на спад"
   ]
  },
  {
   "cell_type": "code",
   "execution_count": 778,
   "metadata": {},
   "outputs": [],
   "source": [
    "import warnings\n",
    "warnings.filterwarnings(\"ignore\")"
   ]
  },
  {
   "cell_type": "code",
   "execution_count": 779,
   "metadata": {},
   "outputs": [
    {
     "name": "stderr",
     "output_type": "stream",
     "text": [
      "100%|█████████████████████████████████████████| 100/100 [10:06<00:00,  6.06s/it]\n"
     ]
    },
    {
     "data": {
      "image/png": "[encoded data removed]",
      "text/plain": [
       "<Figure size 800x640 with 1 Axes>"
      ]
     },
     "metadata": {
      "needs_background": "light"
     },
     "output_type": "display_data"
    },
    {
     "name": "stderr",
     "output_type": "stream",
     "text": [
      "  0%|                                                   | 0/100 [00:00<?, ?it/s]"
     ]
    },
    {
     "name": "stdout",
     "output_type": "stream",
     "text": [
      "Лучший порог: 0.2828282828282829\n",
      "Заработаем: 3438.2\n",
      "PR: 0.6573002199413489\n",
      "Recall: 0.22983381409204187\n"
     ]
    },
    {
     "name": "stderr",
     "output_type": "stream",
     "text": [
      "100%|█████████████████████████████████████████| 100/100 [09:38<00:00,  5.78s/it]\n"
     ]
    },
    {
     "data": {
      "image/png": "[encoded data removed]",
      "text/plain": [
       "<Figure size 800x640 with 1 Axes>"
      ]
     },
     "metadata": {
      "needs_background": "light"
     },
     "output_type": "display_data"
    },
    {
     "name": "stderr",
     "output_type": "stream",
     "text": [
      "  0%|                                                   | 0/100 [00:00<?, ?it/s]"
     ]
    },
    {
     "name": "stdout",
     "output_type": "stream",
     "text": [
      "Лучший порог: 0.5656565656565657\n",
      "Заработаем: 2994.0\n",
      "PR: 0.7006723316524114\n",
      "Recall: 0.19682973527832778\n"
     ]
    },
    {
     "name": "stderr",
     "output_type": "stream",
     "text": [
      "100%|█████████████████████████████████████████| 100/100 [09:34<00:00,  5.74s/it]\n"
     ]
    },
    {
     "data": {
      "image/png": "[encoded data removed]",
      "text/plain": [
       "<Figure size 800x640 with 1 Axes>"
      ]
     },
     "metadata": {
      "needs_background": "light"
     },
     "output_type": "display_data"
    },
    {
     "name": "stderr",
     "output_type": "stream",
     "text": [
      "  0%|                                                   | 0/100 [00:00<?, ?it/s]"
     ]
    },
    {
     "name": "stdout",
     "output_type": "stream",
     "text": [
      "Лучший порог: 0.23232323232323235\n",
      "Заработаем: 3310.6\n",
      "PR: 0.6573002199413489\n",
      "Recall: 0.22983381409204187\n"
     ]
    },
    {
     "name": "stderr",
     "output_type": "stream",
     "text": [
      "100%|█████████████████████████████████████████| 100/100 [09:46<00:00,  5.87s/it]\n"
     ]
    },
    {
     "data": {
      "image/png": "[encoded data removed]",
      "text/plain": [
       "<Figure size 800x640 with 1 Axes>"
      ]
     },
     "metadata": {
      "needs_background": "light"
     },
     "output_type": "display_data"
    },
    {
     "name": "stderr",
     "output_type": "stream",
     "text": [
      "  0%|                                                   | 0/100 [00:00<?, ?it/s]"
     ]
    },
    {
     "name": "stdout",
     "output_type": "stream",
     "text": [
      "Лучший порог: 0.05050505050505051\n",
      "Заработаем: 3357.8\n",
      "PR: 0.6573002199413489\n",
      "Recall: 0.22983381409204187\n"
     ]
    },
    {
     "name": "stderr",
     "output_type": "stream",
     "text": [
      "100%|█████████████████████████████████████████| 100/100 [10:06<00:00,  6.06s/it]\n"
     ]
    },
    {
     "data": {
      "image/png": "[encoded data removed]",
      "text/plain": [
       "<Figure size 800x640 with 1 Axes>"
      ]
     },
     "metadata": {
      "needs_background": "light"
     },
     "output_type": "display_data"
    },
    {
     "name": "stdout",
     "output_type": "stream",
     "text": [
      "Лучший порог: 0.17171717171717174\n",
      "Заработаем: 3175.8\n",
      "PR: 0.6573002199413489\n",
      "Recall: 0.22983381409204187\n",
      "CPU times: user 1h 26min 43s, sys: 4min 12s, total: 1h 30min 56s\n",
      "Wall time: 49min 12s\n"
     ]
    }
   ],
   "source": [
    "%%time\n",
    "kf = KFold(n_splits=5, random_state=500, shuffle=True)\n",
    "\n",
    "for _ in range(5):\n",
    "    t_money = []\n",
    "    t_std = []\n",
    "    t_score = []\n",
    "    t_precision = []\n",
    "    t_recall = []\n",
    "    for t in tqdm(np.linspace(0, 1, 100)):\n",
    "        scores = []\n",
    "        money = []\n",
    "        precision_ = []\n",
    "        recall_ = []\n",
    "        for train_index, test_index in kf.split(x):\n",
    "\n",
    "            X_train, X_test = x[train_index], x[test_index]\n",
    "            y_train, y_test = y[train_index], y[test_index]\n",
    "\n",
    "            lr = LogisticRegression(max_iter=100000)\n",
    "            lr.fit(X_train, y_train)\n",
    "            y_score = lr.predict(X_test)\n",
    "\n",
    "            probability_one = pd.DataFrame(lr.predict_proba(X_test))[1]\n",
    "            y_score_new = np.where(probability_one < t, 0, y_score)\n",
    "\n",
    "            precision, recall, thresholds = precision_recall_curve(y_test, y_score_new)\n",
    "            precision_.append(metrics.precision_score(y_test, y_score_new))\n",
    "            recall_.append(metrics.recall_score(y_test, y_score_new))\n",
    "            scores.append(auc(recall, precision))\n",
    "            money.append((sum((y_score_new == y_test) & (y_test == 1)) * int(np.random.uniform(0, 20))))\n",
    "\n",
    "        t_money.append(np.mean(money))\n",
    "        t_std.append(np.std(money)) \n",
    "        t_score.append(np.mean(scores))\n",
    "        t_precision.append(np.mean(precision_))\n",
    "        t_recall.append(np.mean(recall_))\n",
    "    \n",
    "    yerr = t_std\n",
    "    plt.figure(figsize=(10, 8), dpi=80)\n",
    "    ax = plt.errorbar(np.linspace(0, 1, 100), t_money, yerr)\n",
    "    plt.show()\n",
    "    \n",
    "    print(f'Лучший порог: {np.linspace(0, 1, 100)[np.argmax(t_money)]}')\n",
    "    print(f'Заработаем: {t_money[np.argmax(t_money)]}')\n",
    "    print(f'PR: {t_precision[np.argmax(t_money)]}')\n",
    "    print(f'Recall: {t_recall[np.argmax(t_money)]}')\n",
    "    "
   ]
  },
  {
   "cell_type": "markdown",
   "metadata": {},
   "source": [
    "Каковы значения precision и recall на выбранном пороге? Оцените по кросс-валидации. Также вычислите стандартное отклонение."
   ]
  },
  {
   "cell_type": "code",
   "execution_count": 781,
   "metadata": {},
   "outputs": [
    {
     "data": {
      "text/plain": [
       "0.26"
      ]
     },
     "execution_count": 781,
     "metadata": {},
     "output_type": "execute_result"
    }
   ],
   "source": [
    "# для всех случаев порог меньше 0.5, иногда значительно меньше, иногда нет - в зависимости от \"удачи\"\n",
    "# возьмем средний порог\n",
    "(0.28 + 0.57 + 0.23 + 0.05 + 0.17) / 5"
   ]
  },
  {
   "cell_type": "code",
   "execution_count": 785,
   "metadata": {},
   "outputs": [
    {
     "name": "stdout",
     "output_type": "stream",
     "text": [
      "recall:0.22983381409204187, precision:0.6573002199413489, t_std:1074.3179071379961\n"
     ]
    }
   ],
   "source": [
    "t_precision = []\n",
    "t_recall = []\n",
    "t_std = []\n",
    "\n",
    "for train_index, test_index in kf.split(x):\n",
    "\n",
    "    X_train, X_test = x[train_index], x[test_index]\n",
    "    y_train, y_test = y[train_index], y[test_index]\n",
    "\n",
    "    lr = LogisticRegression(max_iter=100000)\n",
    "    lr.fit(X_train, y_train)\n",
    "    y_score = lr.predict(X_test)\n",
    "\n",
    "    probability_one = pd.DataFrame(lr.predict_proba(X_test))[1]\n",
    "    y_score_new = np.where(probability_one < 0.26, 0, y_score)\n",
    "\n",
    "    precision, recall, thresholds = precision_recall_curve(y_test, y_score_new)\n",
    "    scores.append(auc(recall, precision))\n",
    "    money.append((sum((y_score_new == y_test) & (y_test == 1)) * int(np.random.uniform(0, 20))))\n",
    "    \n",
    "    t_std.append(np.std(money))\n",
    "\n",
    "   # print(recall)\n",
    "    t_precision.append(metrics.precision_score(y_test, y_score))\n",
    "    t_recall.append(metrics.recall_score(y_test, y_score))\n",
    "\n",
    "print(f'recall:{np.mean(t_recall)}, precision:{np.mean(t_precision)}, t_std:{np.mean(t_std)}')"
   ]
  },
  {
   "cell_type": "markdown",
   "metadata": {},
   "source": [
    "Как вы, вероятно, уже поняли, ваша модель склоняется к более высокому recall. Попробуйте оценить качество модели с помощью `PR-AUC` в зоне recall $\\geq$ 0.5. Сделайте это следующим образом - выберите только те пороги, на которых достигается необходимый recall, затем интерпретируйте отсеченный в единичном квадрате прямоугольник как новый единичный квадрат и посчитайте площадь под отсеченной кривой. "
   ]
  },
  {
   "cell_type": "code",
   "execution_count": 777,
   "metadata": {},
   "outputs": [],
   "source": [
    "# к сожалению, модель не добила до 0.5, поэтому эту часть задания я не смогла доделать(\n"
   ]
  },
  {
   "cell_type": "markdown",
   "metadata": {},
   "source": [
    "__Бонус (0.01 балла):__ что вы кушали в день сдачи данного ДЗ на завтрак?\n",
    "\n",
    "__Ответ:__ бутеры с авокадо и семгой"
   ]
  },
  {
   "cell_type": "markdown",
   "metadata": {},
   "source": [
    "__Социализационный бонус (0.1 балл).__\n",
    "Введены новые ограничения, занятия теперь дистанционные. Но это не значит, что не надо общаться с друзьями! Созвонитесь в зуме (или любым другим способом) хотя бы с двумя студентами курса МО-1 этого года, приложите скриншот созвона с включенными камерами и напишите очень кратко, на какие темы были беседы.\n",
    "\n",
    "__Ответ:__"
   ]
  },
  {
   "cell_type": "markdown",
   "metadata": {},
   "source": [
    "Мы обсуждали участие в новом хакатоне :)"
   ]
  },
  {
   "cell_type": "code",
   "execution_count": null,
   "metadata": {},
   "outputs": [],
   "source": [
    "from IPython.display import Image\n",
    "Image('hw_4.jpg')"
   ]
  }
 ],
 "metadata": {
  "kernelspec": {
   "display_name": "Python 3 (ipykernel)",
   "language": "python",
   "name": "python3"
  },
  "language_info": {
   "codemirror_mode": {
    "name": "ipython",
    "version": 3
   },
   "file_extension": ".py",
   "mimetype": "text/x-python",
   "name": "python",
   "nbconvert_exporter": "python",
   "pygments_lexer": "ipython3",
   "version": "3.9.4"
  }
 },
 "nbformat": 4,
 "nbformat_minor": 4
}
